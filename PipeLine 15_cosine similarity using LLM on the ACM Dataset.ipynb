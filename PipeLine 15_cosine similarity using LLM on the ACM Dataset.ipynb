{
 "cells": [
  {
   "cell_type": "code",
   "execution_count": 1,
   "metadata": {
    "_cell_guid": "b1076dfc-b9ad-4769-8c92-a6c4dae69d19",
    "_uuid": "8f2839f25d086af736a60e9eeb907d3b93b6e0e5",
    "execution": {
     "iopub.execute_input": "2025-04-09T17:54:19.839761Z",
     "iopub.status.busy": "2025-04-09T17:54:19.839564Z",
     "iopub.status.idle": "2025-04-09T17:54:20.226473Z",
     "shell.execute_reply": "2025-04-09T17:54:20.225410Z",
     "shell.execute_reply.started": "2025-04-09T17:54:19.839742Z"
    },
    "trusted": true
   },
   "outputs": [
    {
     "name": "stdout",
     "output_type": "stream",
     "text": [
      "/kaggle/input/aminer-academic-citation-dataset/dblp-ref-3.json\n",
      "/kaggle/input/aminer-academic-citation-dataset/AMiner-Coauthor.txt\n",
      "/kaggle/input/aminer-academic-citation-dataset/dblp-ref-2.json\n",
      "/kaggle/input/aminer-academic-citation-dataset/citation-network2.txt\n",
      "/kaggle/input/aminer-academic-citation-dataset/dblp-ref-0.json\n",
      "/kaggle/input/aminer-academic-citation-dataset/AMiner-Author.txt\n",
      "/kaggle/input/aminer-academic-citation-dataset/dblp-ref-1.json\n"
     ]
    }
   ],
   "source": [
    "# This Python 3 environment comes with many helpful analytics libraries installed\n",
    "# It is defined by the kaggle/python Docker image: https://github.com/kaggle/docker-python\n",
    "# For example, here's several helpful packages to load\n",
    "\n",
    "import numpy as np # linear algebra\n",
    "import pandas as pd # data processing, CSV file I/O (e.g. pd.read_csv)\n",
    "\n",
    "# Input data files are available in the read-only \"../input/\" directory\n",
    "# For example, running this (by clicking run or pressing Shift+Enter) will list all files under the input directory\n",
    "\n",
    "import os\n",
    "for dirname, _, filenames in os.walk('/kaggle/input'):\n",
    "    for filename in filenames:\n",
    "        print(os.path.join(dirname, filename))\n",
    "\n",
    "# You can write up to 20GB to the current directory (/kaggle/working/) that gets preserved as output when you create a version using \"Save & Run All\" \n",
    "# You can also write temporary files to /kaggle/temp/, but they won't be saved outside of the current session"
   ]
  },
  {
   "cell_type": "code",
   "execution_count": 2,
   "metadata": {
    "execution": {
     "iopub.execute_input": "2025-04-09T17:54:20.228594Z",
     "iopub.status.busy": "2025-04-09T17:54:20.228179Z",
     "iopub.status.idle": "2025-04-09T17:54:50.096051Z",
     "shell.execute_reply": "2025-04-09T17:54:50.095327Z",
     "shell.execute_reply.started": "2025-04-09T17:54:20.228570Z"
    },
    "trusted": true
   },
   "outputs": [
    {
     "name": "stdout",
     "output_type": "stream",
     "text": [
      "(1000000, 8)\n"
     ]
    },
    {
     "data": {
      "text/html": [
       "<div>\n",
       "<style scoped>\n",
       "    .dataframe tbody tr th:only-of-type {\n",
       "        vertical-align: middle;\n",
       "    }\n",
       "\n",
       "    .dataframe tbody tr th {\n",
       "        vertical-align: top;\n",
       "    }\n",
       "\n",
       "    .dataframe thead th {\n",
       "        text-align: right;\n",
       "    }\n",
       "</style>\n",
       "<table border=\"1\" class=\"dataframe\">\n",
       "  <thead>\n",
       "    <tr style=\"text-align: right;\">\n",
       "      <th></th>\n",
       "      <th>abstract</th>\n",
       "      <th>authors</th>\n",
       "      <th>n_citation</th>\n",
       "      <th>references</th>\n",
       "      <th>title</th>\n",
       "      <th>venue</th>\n",
       "      <th>year</th>\n",
       "      <th>id</th>\n",
       "    </tr>\n",
       "  </thead>\n",
       "  <tbody>\n",
       "    <tr>\n",
       "      <th>0</th>\n",
       "      <td>The purpose of this study is to develop a lear...</td>\n",
       "      <td>[Makoto Satoh, Ryo Muramatsu, Mizue Kayama, Ka...</td>\n",
       "      <td>0</td>\n",
       "      <td>[51c7e02e-f5ed-431a-8cf5-f761f266d4be, 69b625b...</td>\n",
       "      <td>Preliminary Design of a Network Protocol Learn...</td>\n",
       "      <td>international conference on human-computer int...</td>\n",
       "      <td>2013</td>\n",
       "      <td>00127ee2-cb05-48ce-bc49-9de556b93346</td>\n",
       "    </tr>\n",
       "    <tr>\n",
       "      <th>1</th>\n",
       "      <td>This paper describes the design and implementa...</td>\n",
       "      <td>[Gareth Beale, Graeme Earl]</td>\n",
       "      <td>50</td>\n",
       "      <td>[10482dd3-4642-4193-842f-85f3b70fcf65, 3133714...</td>\n",
       "      <td>A methodology for the physically accurate visu...</td>\n",
       "      <td>visual analytics science and technology</td>\n",
       "      <td>2011</td>\n",
       "      <td>001c58d3-26ad-46b3-ab3a-c1e557d16821</td>\n",
       "    </tr>\n",
       "    <tr>\n",
       "      <th>2</th>\n",
       "      <td>This article applied GARCH model instead AR or...</td>\n",
       "      <td>[Altaf Hossain, Faisal Zaman, Mohammed Nasser,...</td>\n",
       "      <td>50</td>\n",
       "      <td>[2d84c0f2-e656-4ce7-b018-90eda1c132fe, a083a1b...</td>\n",
       "      <td>Comparison of GARCH, Neural Network and Suppor...</td>\n",
       "      <td>pattern recognition and machine intelligence</td>\n",
       "      <td>2009</td>\n",
       "      <td>001c8744-73c4-4b04-9364-22d31a10dbf1</td>\n",
       "    </tr>\n",
       "    <tr>\n",
       "      <th>3</th>\n",
       "      <td>NaN</td>\n",
       "      <td>[Jea-Bum Park, Byungmok Kim, Jian Shen, Sun-Yo...</td>\n",
       "      <td>0</td>\n",
       "      <td>[8c78e4b0-632b-4293-b491-85b1976675e6, 9cdc54f...</td>\n",
       "      <td>Development of Remote Monitoring and Control D...</td>\n",
       "      <td></td>\n",
       "      <td>2011</td>\n",
       "      <td>00338203-9eb3-40c5-9f31-cbac73a519ec</td>\n",
       "    </tr>\n",
       "    <tr>\n",
       "      <th>4</th>\n",
       "      <td>NaN</td>\n",
       "      <td>[Giovanna Guerrini, Isabella Merlo]</td>\n",
       "      <td>2</td>\n",
       "      <td>NaN</td>\n",
       "      <td>Reasonig about Set-Oriented Methods in Object ...</td>\n",
       "      <td></td>\n",
       "      <td>1998</td>\n",
       "      <td>0040b022-1472-4f70-a753-74832df65266</td>\n",
       "    </tr>\n",
       "  </tbody>\n",
       "</table>\n",
       "</div>"
      ],
      "text/plain": [
       "                                            abstract  \\\n",
       "0  The purpose of this study is to develop a lear...   \n",
       "1  This paper describes the design and implementa...   \n",
       "2  This article applied GARCH model instead AR or...   \n",
       "3                                                NaN   \n",
       "4                                                NaN   \n",
       "\n",
       "                                             authors  n_citation  \\\n",
       "0  [Makoto Satoh, Ryo Muramatsu, Mizue Kayama, Ka...           0   \n",
       "1                        [Gareth Beale, Graeme Earl]          50   \n",
       "2  [Altaf Hossain, Faisal Zaman, Mohammed Nasser,...          50   \n",
       "3  [Jea-Bum Park, Byungmok Kim, Jian Shen, Sun-Yo...           0   \n",
       "4                [Giovanna Guerrini, Isabella Merlo]           2   \n",
       "\n",
       "                                          references  \\\n",
       "0  [51c7e02e-f5ed-431a-8cf5-f761f266d4be, 69b625b...   \n",
       "1  [10482dd3-4642-4193-842f-85f3b70fcf65, 3133714...   \n",
       "2  [2d84c0f2-e656-4ce7-b018-90eda1c132fe, a083a1b...   \n",
       "3  [8c78e4b0-632b-4293-b491-85b1976675e6, 9cdc54f...   \n",
       "4                                                NaN   \n",
       "\n",
       "                                               title  \\\n",
       "0  Preliminary Design of a Network Protocol Learn...   \n",
       "1  A methodology for the physically accurate visu...   \n",
       "2  Comparison of GARCH, Neural Network and Suppor...   \n",
       "3  Development of Remote Monitoring and Control D...   \n",
       "4  Reasonig about Set-Oriented Methods in Object ...   \n",
       "\n",
       "                                               venue  year  \\\n",
       "0  international conference on human-computer int...  2013   \n",
       "1            visual analytics science and technology  2011   \n",
       "2       pattern recognition and machine intelligence  2009   \n",
       "3                                                     2011   \n",
       "4                                                     1998   \n",
       "\n",
       "                                     id  \n",
       "0  00127ee2-cb05-48ce-bc49-9de556b93346  \n",
       "1  001c58d3-26ad-46b3-ab3a-c1e557d16821  \n",
       "2  001c8744-73c4-4b04-9364-22d31a10dbf1  \n",
       "3  00338203-9eb3-40c5-9f31-cbac73a519ec  \n",
       "4  0040b022-1472-4f70-a753-74832df65266  "
      ]
     },
     "execution_count": 2,
     "metadata": {},
     "output_type": "execute_result"
    }
   ],
   "source": [
    "import pandas as pd\n",
    "\n",
    "# List of file paths\n",
    "file_paths = [\n",
    "    \"/kaggle/input/aminer-academic-citation-dataset/dblp-ref-0.json\",\n",
    "    #\"/kaggle/input/aminer-academic-citation-dataset/dblp-ref-1.json\",\n",
    "    #\"/kaggle/input/aminer-academic-citation-dataset/dblp-ref-2.json\",\n",
    "    #\"/kaggle/input/aminer-academic-citation-dataset/dblp-ref-3.json\"\n",
    "]\n",
    "\n",
    "# Read and concatenate all files\n",
    "dfs = [pd.read_json(path, lines=True) for path in file_paths]\n",
    "df_all = pd.concat(dfs, ignore_index=True)\n",
    "\n",
    "# Show basic info\n",
    "print(df_all.shape)\n",
    "df_all.head()\n"
   ]
  },
  {
   "cell_type": "code",
   "execution_count": 3,
   "metadata": {
    "execution": {
     "iopub.execute_input": "2025-04-09T17:54:50.097396Z",
     "iopub.status.busy": "2025-04-09T17:54:50.097129Z",
     "iopub.status.idle": "2025-04-09T17:54:50.235540Z",
     "shell.execute_reply": "2025-04-09T17:54:50.234870Z",
     "shell.execute_reply.started": "2025-04-09T17:54:50.097374Z"
    },
    "trusted": true
   },
   "outputs": [],
   "source": [
    "df_null=df_all.copy()"
   ]
  },
  {
   "cell_type": "code",
   "execution_count": 4,
   "metadata": {
    "execution": {
     "iopub.execute_input": "2025-04-09T17:54:50.236441Z",
     "iopub.status.busy": "2025-04-09T17:54:50.236241Z",
     "iopub.status.idle": "2025-04-09T17:54:50.885505Z",
     "shell.execute_reply": "2025-04-09T17:54:50.884831Z",
     "shell.execute_reply.started": "2025-04-09T17:54:50.236424Z"
    },
    "trusted": true
   },
   "outputs": [
    {
     "data": {
      "text/plain": [
       "abstract      246354\n",
       "authors            0\n",
       "n_citation         0\n",
       "references    138520\n",
       "title              0\n",
       "venue              0\n",
       "year               0\n",
       "id                 0\n",
       "dtype: int64"
      ]
     },
     "execution_count": 4,
     "metadata": {},
     "output_type": "execute_result"
    }
   ],
   "source": [
    "df_null.isnull().sum()"
   ]
  },
  {
   "cell_type": "code",
   "execution_count": 5,
   "metadata": {
    "execution": {
     "iopub.execute_input": "2025-04-09T17:54:50.888177Z",
     "iopub.status.busy": "2025-04-09T17:54:50.887957Z",
     "iopub.status.idle": "2025-04-09T17:54:51.773870Z",
     "shell.execute_reply": "2025-04-09T17:54:51.773184Z",
     "shell.execute_reply.started": "2025-04-09T17:54:50.888158Z"
    },
    "trusted": true
   },
   "outputs": [],
   "source": [
    "df_null.dropna(inplace=True)"
   ]
  },
  {
   "cell_type": "code",
   "execution_count": 6,
   "metadata": {
    "execution": {
     "iopub.execute_input": "2025-04-09T17:54:51.775256Z",
     "iopub.status.busy": "2025-04-09T17:54:51.775054Z",
     "iopub.status.idle": "2025-04-09T17:54:52.277966Z",
     "shell.execute_reply": "2025-04-09T17:54:52.277035Z",
     "shell.execute_reply.started": "2025-04-09T17:54:51.775239Z"
    },
    "trusted": true
   },
   "outputs": [
    {
     "data": {
      "text/plain": [
       "abstract      0\n",
       "authors       0\n",
       "n_citation    0\n",
       "references    0\n",
       "title         0\n",
       "venue         0\n",
       "year          0\n",
       "id            0\n",
       "dtype: int64"
      ]
     },
     "execution_count": 6,
     "metadata": {},
     "output_type": "execute_result"
    }
   ],
   "source": [
    "df_null.isnull().sum()"
   ]
  },
  {
   "cell_type": "code",
   "execution_count": 7,
   "metadata": {
    "execution": {
     "iopub.execute_input": "2025-04-09T17:54:52.279388Z",
     "iopub.status.busy": "2025-04-09T17:54:52.279049Z",
     "iopub.status.idle": "2025-04-09T17:54:52.287699Z",
     "shell.execute_reply": "2025-04-09T17:54:52.287037Z",
     "shell.execute_reply.started": "2025-04-09T17:54:52.279356Z"
    },
    "trusted": true
   },
   "outputs": [
    {
     "data": {
      "text/plain": [
       "(709207, 8)"
      ]
     },
     "execution_count": 7,
     "metadata": {},
     "output_type": "execute_result"
    }
   ],
   "source": [
    "df_null.shape"
   ]
  },
  {
   "cell_type": "code",
   "execution_count": 8,
   "metadata": {
    "execution": {
     "iopub.execute_input": "2025-04-09T17:54:52.289271Z",
     "iopub.status.busy": "2025-04-09T17:54:52.289021Z",
     "iopub.status.idle": "2025-04-09T17:54:52.907308Z",
     "shell.execute_reply": "2025-04-09T17:54:52.906676Z",
     "shell.execute_reply.started": "2025-04-09T17:54:52.289251Z"
    },
    "trusted": true
   },
   "outputs": [],
   "source": [
    "df_null = df_null[\n",
    "    df_null['references'].notna() & \n",
    "    (df_null['references'] != '') & \n",
    "    (df_null['references'].apply(lambda x: x != []))\n",
    "]\n"
   ]
  },
  {
   "cell_type": "code",
   "execution_count": 9,
   "metadata": {
    "execution": {
     "iopub.execute_input": "2025-04-09T17:54:52.908201Z",
     "iopub.status.busy": "2025-04-09T17:54:52.908009Z",
     "iopub.status.idle": "2025-04-09T17:54:53.276159Z",
     "shell.execute_reply": "2025-04-09T17:54:53.275506Z",
     "shell.execute_reply.started": "2025-04-09T17:54:52.908184Z"
    },
    "trusted": true
   },
   "outputs": [],
   "source": [
    "df_null.drop_duplicates(subset=['id'], keep='first', inplace=True)\n",
    "df_null.reset_index(drop= True,inplace = True)"
   ]
  },
  {
   "cell_type": "code",
   "execution_count": 10,
   "metadata": {
    "execution": {
     "iopub.execute_input": "2025-04-09T17:54:53.277195Z",
     "iopub.status.busy": "2025-04-09T17:54:53.276914Z",
     "iopub.status.idle": "2025-04-09T17:54:53.356282Z",
     "shell.execute_reply": "2025-04-09T17:54:53.355555Z",
     "shell.execute_reply.started": "2025-04-09T17:54:53.277167Z"
    },
    "trusted": true
   },
   "outputs": [
    {
     "data": {
      "text/html": [
       "<div>\n",
       "<style scoped>\n",
       "    .dataframe tbody tr th:only-of-type {\n",
       "        vertical-align: middle;\n",
       "    }\n",
       "\n",
       "    .dataframe tbody tr th {\n",
       "        vertical-align: top;\n",
       "    }\n",
       "\n",
       "    .dataframe thead th {\n",
       "        text-align: right;\n",
       "    }\n",
       "</style>\n",
       "<table border=\"1\" class=\"dataframe\">\n",
       "  <thead>\n",
       "    <tr style=\"text-align: right;\">\n",
       "      <th></th>\n",
       "      <th>id</th>\n",
       "      <th>title</th>\n",
       "      <th>abstract</th>\n",
       "      <th>n_citation</th>\n",
       "      <th>references</th>\n",
       "    </tr>\n",
       "  </thead>\n",
       "  <tbody>\n",
       "    <tr>\n",
       "      <th>0</th>\n",
       "      <td>00127ee2-cb05-48ce-bc49-9de556b93346</td>\n",
       "      <td>Preliminary Design of a Network Protocol Learn...</td>\n",
       "      <td>The purpose of this study is to develop a lear...</td>\n",
       "      <td>0</td>\n",
       "      <td>[51c7e02e-f5ed-431a-8cf5-f761f266d4be, 69b625b...</td>\n",
       "    </tr>\n",
       "    <tr>\n",
       "      <th>1</th>\n",
       "      <td>001c58d3-26ad-46b3-ab3a-c1e557d16821</td>\n",
       "      <td>A methodology for the physically accurate visu...</td>\n",
       "      <td>This paper describes the design and implementa...</td>\n",
       "      <td>50</td>\n",
       "      <td>[10482dd3-4642-4193-842f-85f3b70fcf65, 3133714...</td>\n",
       "    </tr>\n",
       "    <tr>\n",
       "      <th>2</th>\n",
       "      <td>001c8744-73c4-4b04-9364-22d31a10dbf1</td>\n",
       "      <td>Comparison of GARCH, Neural Network and Suppor...</td>\n",
       "      <td>This article applied GARCH model instead AR or...</td>\n",
       "      <td>50</td>\n",
       "      <td>[2d84c0f2-e656-4ce7-b018-90eda1c132fe, a083a1b...</td>\n",
       "    </tr>\n",
       "    <tr>\n",
       "      <th>3</th>\n",
       "      <td>00a119c4-d367-4607-b3c8-b237f2971bff</td>\n",
       "      <td>Identifying Psychological Theme Words from Emo...</td>\n",
       "      <td>Recent achievements in Natural Language Proces...</td>\n",
       "      <td>0</td>\n",
       "      <td>[84d47128-58d0-4187-aa44-389fde7d5c83, e0dce69...</td>\n",
       "    </tr>\n",
       "    <tr>\n",
       "      <th>4</th>\n",
       "      <td>00c85316-bddf-4bcb-93f5-097adadd73c2</td>\n",
       "      <td>Relational Abstract Interpretation of Higher O...</td>\n",
       "      <td>Most applications of the abstract interpretati...</td>\n",
       "      <td>50</td>\n",
       "      <td>[6e8a3ec3-9a99-4fac-ac4d-f8d1bf0fa208, 7bb71af...</td>\n",
       "    </tr>\n",
       "    <tr>\n",
       "      <th>...</th>\n",
       "      <td>...</td>\n",
       "      <td>...</td>\n",
       "      <td>...</td>\n",
       "      <td>...</td>\n",
       "      <td>...</td>\n",
       "    </tr>\n",
       "    <tr>\n",
       "      <th>655474</th>\n",
       "      <td>4aa64046-89ff-43ad-97ee-1615cd959134</td>\n",
       "      <td>Delineation of malignant skin tumors by hypers...</td>\n",
       "      <td>A new non-invasive method for delineation of l...</td>\n",
       "      <td>9</td>\n",
       "      <td>[2bf40147-087c-4fb1-89e3-6e7a91d19b97, 6876ea7...</td>\n",
       "    </tr>\n",
       "    <tr>\n",
       "      <th>655475</th>\n",
       "      <td>4aa672c2-c5e6-469d-b168-2056474cf47f</td>\n",
       "      <td>Distributed workflow management: the TEAM model</td>\n",
       "      <td>In the last few years, workflow systems have b...</td>\n",
       "      <td>10</td>\n",
       "      <td>[02763555-4d84-49fa-b6aa-00171c832dc0, 4be4595...</td>\n",
       "    </tr>\n",
       "    <tr>\n",
       "      <th>655476</th>\n",
       "      <td>4aa67ed9-6b28-4ed4-a180-13d3a0dc0a59</td>\n",
       "      <td>Class-D Audio Amplifiers with Negative Feedback</td>\n",
       "      <td>There are many different designs for audio amp...</td>\n",
       "      <td>19</td>\n",
       "      <td>[3059f971-f49e-4a49-a1e5-82ea4e8f6879]</td>\n",
       "    </tr>\n",
       "    <tr>\n",
       "      <th>655477</th>\n",
       "      <td>4aa692aa-2448-436c-a809-81b54e5f2f66</td>\n",
       "      <td>A simulation study exploring the role of cultu...</td>\n",
       "      <td>This paper proposes a language acquisition fra...</td>\n",
       "      <td>5</td>\n",
       "      <td>[207c4e1c-52f4-4737-9cd9-1db86b33d580, 55c81e3...</td>\n",
       "    </tr>\n",
       "    <tr>\n",
       "      <th>655478</th>\n",
       "      <td>4aa6935e-6e0f-48fa-ad76-769805cd879d</td>\n",
       "      <td>Continuous Domains in Logical Form</td>\n",
       "      <td>Abstract   This thesis investigates the mathem...</td>\n",
       "      <td>22</td>\n",
       "      <td>[1cddd8b1-8262-4351-9606-e1eb710f2159, 2026759...</td>\n",
       "    </tr>\n",
       "  </tbody>\n",
       "</table>\n",
       "<p>655479 rows × 5 columns</p>\n",
       "</div>"
      ],
      "text/plain": [
       "                                          id  \\\n",
       "0       00127ee2-cb05-48ce-bc49-9de556b93346   \n",
       "1       001c58d3-26ad-46b3-ab3a-c1e557d16821   \n",
       "2       001c8744-73c4-4b04-9364-22d31a10dbf1   \n",
       "3       00a119c4-d367-4607-b3c8-b237f2971bff   \n",
       "4       00c85316-bddf-4bcb-93f5-097adadd73c2   \n",
       "...                                      ...   \n",
       "655474  4aa64046-89ff-43ad-97ee-1615cd959134   \n",
       "655475  4aa672c2-c5e6-469d-b168-2056474cf47f   \n",
       "655476  4aa67ed9-6b28-4ed4-a180-13d3a0dc0a59   \n",
       "655477  4aa692aa-2448-436c-a809-81b54e5f2f66   \n",
       "655478  4aa6935e-6e0f-48fa-ad76-769805cd879d   \n",
       "\n",
       "                                                    title  \\\n",
       "0       Preliminary Design of a Network Protocol Learn...   \n",
       "1       A methodology for the physically accurate visu...   \n",
       "2       Comparison of GARCH, Neural Network and Suppor...   \n",
       "3       Identifying Psychological Theme Words from Emo...   \n",
       "4       Relational Abstract Interpretation of Higher O...   \n",
       "...                                                   ...   \n",
       "655474  Delineation of malignant skin tumors by hypers...   \n",
       "655475    Distributed workflow management: the TEAM model   \n",
       "655476    Class-D Audio Amplifiers with Negative Feedback   \n",
       "655477  A simulation study exploring the role of cultu...   \n",
       "655478                 Continuous Domains in Logical Form   \n",
       "\n",
       "                                                 abstract  n_citation  \\\n",
       "0       The purpose of this study is to develop a lear...           0   \n",
       "1       This paper describes the design and implementa...          50   \n",
       "2       This article applied GARCH model instead AR or...          50   \n",
       "3       Recent achievements in Natural Language Proces...           0   \n",
       "4       Most applications of the abstract interpretati...          50   \n",
       "...                                                   ...         ...   \n",
       "655474  A new non-invasive method for delineation of l...           9   \n",
       "655475  In the last few years, workflow systems have b...          10   \n",
       "655476  There are many different designs for audio amp...          19   \n",
       "655477  This paper proposes a language acquisition fra...           5   \n",
       "655478  Abstract   This thesis investigates the mathem...          22   \n",
       "\n",
       "                                               references  \n",
       "0       [51c7e02e-f5ed-431a-8cf5-f761f266d4be, 69b625b...  \n",
       "1       [10482dd3-4642-4193-842f-85f3b70fcf65, 3133714...  \n",
       "2       [2d84c0f2-e656-4ce7-b018-90eda1c132fe, a083a1b...  \n",
       "3       [84d47128-58d0-4187-aa44-389fde7d5c83, e0dce69...  \n",
       "4       [6e8a3ec3-9a99-4fac-ac4d-f8d1bf0fa208, 7bb71af...  \n",
       "...                                                   ...  \n",
       "655474  [2bf40147-087c-4fb1-89e3-6e7a91d19b97, 6876ea7...  \n",
       "655475  [02763555-4d84-49fa-b6aa-00171c832dc0, 4be4595...  \n",
       "655476             [3059f971-f49e-4a49-a1e5-82ea4e8f6879]  \n",
       "655477  [207c4e1c-52f4-4737-9cd9-1db86b33d580, 55c81e3...  \n",
       "655478  [1cddd8b1-8262-4351-9606-e1eb710f2159, 2026759...  \n",
       "\n",
       "[655479 rows x 5 columns]"
      ]
     },
     "execution_count": 10,
     "metadata": {},
     "output_type": "execute_result"
    }
   ],
   "source": [
    "df_id=df_null[['id','title','abstract','n_citation','references']]\n",
    "df_id"
   ]
  },
  {
   "cell_type": "code",
   "execution_count": 11,
   "metadata": {
    "execution": {
     "iopub.execute_input": "2025-04-09T17:54:53.357294Z",
     "iopub.status.busy": "2025-04-09T17:54:53.357092Z",
     "iopub.status.idle": "2025-04-09T17:54:53.360343Z",
     "shell.execute_reply": "2025-04-09T17:54:53.359433Z",
     "shell.execute_reply.started": "2025-04-09T17:54:53.357275Z"
    },
    "trusted": true
   },
   "outputs": [],
   "source": [
    "# df_title = df_id['title']\n",
    "# df_title.to_csv('title.csv', index=False)\n"
   ]
  },
  {
   "cell_type": "code",
   "execution_count": 12,
   "metadata": {
    "execution": {
     "iopub.execute_input": "2025-04-09T17:54:53.361382Z",
     "iopub.status.busy": "2025-04-09T17:54:53.361137Z",
     "iopub.status.idle": "2025-04-09T17:54:53.375466Z",
     "shell.execute_reply": "2025-04-09T17:54:53.374875Z",
     "shell.execute_reply.started": "2025-04-09T17:54:53.361362Z"
    },
    "trusted": true
   },
   "outputs": [],
   "source": [
    "# from IPython.display import FileLink\n",
    "\n",
    "# FileLink('title.csv')\n"
   ]
  },
  {
   "cell_type": "code",
   "execution_count": 13,
   "metadata": {
    "execution": {
     "iopub.execute_input": "2025-04-09T17:54:53.376435Z",
     "iopub.status.busy": "2025-04-09T17:54:53.376193Z",
     "iopub.status.idle": "2025-04-09T17:54:53.430827Z",
     "shell.execute_reply": "2025-04-09T17:54:53.429861Z",
     "shell.execute_reply.started": "2025-04-09T17:54:53.376405Z"
    },
    "trusted": true
   },
   "outputs": [
    {
     "data": {
      "text/html": [
       "<div>\n",
       "<style scoped>\n",
       "    .dataframe tbody tr th:only-of-type {\n",
       "        vertical-align: middle;\n",
       "    }\n",
       "\n",
       "    .dataframe tbody tr th {\n",
       "        vertical-align: top;\n",
       "    }\n",
       "\n",
       "    .dataframe thead th {\n",
       "        text-align: right;\n",
       "    }\n",
       "</style>\n",
       "<table border=\"1\" class=\"dataframe\">\n",
       "  <thead>\n",
       "    <tr style=\"text-align: right;\">\n",
       "      <th></th>\n",
       "      <th>id</th>\n",
       "      <th>title</th>\n",
       "      <th>abstract</th>\n",
       "      <th>n_citation</th>\n",
       "      <th>references</th>\n",
       "    </tr>\n",
       "  </thead>\n",
       "  <tbody>\n",
       "    <tr>\n",
       "      <th>100000</th>\n",
       "      <td>0fd70f02-8563-4f61-911a-e2837b1c4135</td>\n",
       "      <td>A comparison between two representatives of a ...</td>\n",
       "      <td>In this paper we consider two existing methods...</td>\n",
       "      <td>6</td>\n",
       "      <td>[0778dca9-2e4b-4496-ac99-b5cba6730875, 0bfc35b...</td>\n",
       "    </tr>\n",
       "    <tr>\n",
       "      <th>100001</th>\n",
       "      <td>0fd79488-7a9d-4dde-a8a5-5256193f32f8</td>\n",
       "      <td>Metrics for Grid Applicability: A Distributed ...</td>\n",
       "      <td>The distribution of computational load among s...</td>\n",
       "      <td>50</td>\n",
       "      <td>[22594fe7-8c1d-4717-a97f-63e58de2ae07]</td>\n",
       "    </tr>\n",
       "    <tr>\n",
       "      <th>100002</th>\n",
       "      <td>0fd7ef6e-7e6e-41a0-b79b-796b0079425b</td>\n",
       "      <td>Multiuser detection in multipath non-Gaussian ...</td>\n",
       "      <td>This paper addresses the problem of multiuser ...</td>\n",
       "      <td>0</td>\n",
       "      <td>[2efcf391-6634-4990-a2b9-b3efabb5fdde, b52aefd...</td>\n",
       "    </tr>\n",
       "    <tr>\n",
       "      <th>100003</th>\n",
       "      <td>0fd87461-8bce-40e6-848f-49c8348e77c2</td>\n",
       "      <td>Space-Economical Algorithms for Finding Maxima...</td>\n",
       "      <td>We show space-economical algorithms for findin...</td>\n",
       "      <td>37</td>\n",
       "      <td>[144a58e6-306c-4d8d-ae33-2146da221689, 17359b1...</td>\n",
       "    </tr>\n",
       "    <tr>\n",
       "      <th>100004</th>\n",
       "      <td>0fd87a54-367d-4185-a2d3-1a9cb471c61a</td>\n",
       "      <td>BPM-in-the-Large – Towards a Higher Level of A...</td>\n",
       "      <td>Business Process Management (BPM) has gained t...</td>\n",
       "      <td>50</td>\n",
       "      <td>[06b073fd-0617-40d2-9295-9373b7ed4e90, 08e139c...</td>\n",
       "    </tr>\n",
       "    <tr>\n",
       "      <th>...</th>\n",
       "      <td>...</td>\n",
       "      <td>...</td>\n",
       "      <td>...</td>\n",
       "      <td>...</td>\n",
       "      <td>...</td>\n",
       "    </tr>\n",
       "    <tr>\n",
       "      <th>399995</th>\n",
       "      <td>cb2f9fb0-6e78-4f0c-bbd3-d2ade4e72b27</td>\n",
       "      <td>Creative computing for decision making: Combin...</td>\n",
       "      <td>Our research aims to improve the Traditional D...</td>\n",
       "      <td>0</td>\n",
       "      <td>[1c795ea8-881c-4840-8539-7dee0eddc5ab, 2dd289c...</td>\n",
       "    </tr>\n",
       "    <tr>\n",
       "      <th>399996</th>\n",
       "      <td>cb2fb552-9285-4765-a079-3ccd214b648b</td>\n",
       "      <td>Predicting Energy Demand Peak Using M5 Model T...</td>\n",
       "      <td>Predicting energy demand peak is a key factor ...</td>\n",
       "      <td>3</td>\n",
       "      <td>[043c36b8-498a-428c-baf9-9ba2b48512f2, 652c1b2...</td>\n",
       "    </tr>\n",
       "    <tr>\n",
       "      <th>399997</th>\n",
       "      <td>cb2fc9ad-1189-4651-9b01-08667b481f6c</td>\n",
       "      <td>Data-driven depth map refinement via multi-sca...</td>\n",
       "      <td>Depth maps captured by consumer-level depth ca...</td>\n",
       "      <td>27</td>\n",
       "      <td>[031bbeb0-4dc1-46f9-9984-109c3b3eefae, 0e859ce...</td>\n",
       "    </tr>\n",
       "    <tr>\n",
       "      <th>399998</th>\n",
       "      <td>cb2ff562-f24c-4953-9419-96800971070b</td>\n",
       "      <td>Data Driven Condition Monitoring of Wind Power...</td>\n",
       "      <td>Along with the rapid growth of the wind energy...</td>\n",
       "      <td>2</td>\n",
       "      <td>[0bcc4f37-d1c8-4fc1-9e0a-a5bc41be9d14, 19ed289...</td>\n",
       "    </tr>\n",
       "    <tr>\n",
       "      <th>399999</th>\n",
       "      <td>cb324569-ebe6-4dfc-91ca-ec23dca2bac5</td>\n",
       "      <td>Constraint-centered descriptions for automated...</td>\n",
       "      <td>One dominant approach to automate tool invocat...</td>\n",
       "      <td>50</td>\n",
       "      <td>[012684bd-4559-4c84-940c-736834718cef, 3d78211...</td>\n",
       "    </tr>\n",
       "  </tbody>\n",
       "</table>\n",
       "<p>300000 rows × 5 columns</p>\n",
       "</div>"
      ],
      "text/plain": [
       "                                          id  \\\n",
       "100000  0fd70f02-8563-4f61-911a-e2837b1c4135   \n",
       "100001  0fd79488-7a9d-4dde-a8a5-5256193f32f8   \n",
       "100002  0fd7ef6e-7e6e-41a0-b79b-796b0079425b   \n",
       "100003  0fd87461-8bce-40e6-848f-49c8348e77c2   \n",
       "100004  0fd87a54-367d-4185-a2d3-1a9cb471c61a   \n",
       "...                                      ...   \n",
       "399995  cb2f9fb0-6e78-4f0c-bbd3-d2ade4e72b27   \n",
       "399996  cb2fb552-9285-4765-a079-3ccd214b648b   \n",
       "399997  cb2fc9ad-1189-4651-9b01-08667b481f6c   \n",
       "399998  cb2ff562-f24c-4953-9419-96800971070b   \n",
       "399999  cb324569-ebe6-4dfc-91ca-ec23dca2bac5   \n",
       "\n",
       "                                                    title  \\\n",
       "100000  A comparison between two representatives of a ...   \n",
       "100001  Metrics for Grid Applicability: A Distributed ...   \n",
       "100002  Multiuser detection in multipath non-Gaussian ...   \n",
       "100003  Space-Economical Algorithms for Finding Maxima...   \n",
       "100004  BPM-in-the-Large – Towards a Higher Level of A...   \n",
       "...                                                   ...   \n",
       "399995  Creative computing for decision making: Combin...   \n",
       "399996  Predicting Energy Demand Peak Using M5 Model T...   \n",
       "399997  Data-driven depth map refinement via multi-sca...   \n",
       "399998  Data Driven Condition Monitoring of Wind Power...   \n",
       "399999  Constraint-centered descriptions for automated...   \n",
       "\n",
       "                                                 abstract  n_citation  \\\n",
       "100000  In this paper we consider two existing methods...           6   \n",
       "100001  The distribution of computational load among s...          50   \n",
       "100002  This paper addresses the problem of multiuser ...           0   \n",
       "100003  We show space-economical algorithms for findin...          37   \n",
       "100004  Business Process Management (BPM) has gained t...          50   \n",
       "...                                                   ...         ...   \n",
       "399995  Our research aims to improve the Traditional D...           0   \n",
       "399996  Predicting energy demand peak is a key factor ...           3   \n",
       "399997  Depth maps captured by consumer-level depth ca...          27   \n",
       "399998  Along with the rapid growth of the wind energy...           2   \n",
       "399999  One dominant approach to automate tool invocat...          50   \n",
       "\n",
       "                                               references  \n",
       "100000  [0778dca9-2e4b-4496-ac99-b5cba6730875, 0bfc35b...  \n",
       "100001             [22594fe7-8c1d-4717-a97f-63e58de2ae07]  \n",
       "100002  [2efcf391-6634-4990-a2b9-b3efabb5fdde, b52aefd...  \n",
       "100003  [144a58e6-306c-4d8d-ae33-2146da221689, 17359b1...  \n",
       "100004  [06b073fd-0617-40d2-9295-9373b7ed4e90, 08e139c...  \n",
       "...                                                   ...  \n",
       "399995  [1c795ea8-881c-4840-8539-7dee0eddc5ab, 2dd289c...  \n",
       "399996  [043c36b8-498a-428c-baf9-9ba2b48512f2, 652c1b2...  \n",
       "399997  [031bbeb0-4dc1-46f9-9984-109c3b3eefae, 0e859ce...  \n",
       "399998  [0bcc4f37-d1c8-4fc1-9e0a-a5bc41be9d14, 19ed289...  \n",
       "399999  [012684bd-4559-4c84-940c-736834718cef, 3d78211...  \n",
       "\n",
       "[300000 rows x 5 columns]"
      ]
     },
     "execution_count": 13,
     "metadata": {},
     "output_type": "execute_result"
    }
   ],
   "source": [
    "df_id=df_id.iloc[100000:400000].copy()\n",
    "df_id"
   ]
  },
  {
   "cell_type": "code",
   "execution_count": 14,
   "metadata": {
    "execution": {
     "iopub.execute_input": "2025-04-09T17:54:53.433507Z",
     "iopub.status.busy": "2025-04-09T17:54:53.433277Z",
     "iopub.status.idle": "2025-04-09T17:54:53.468198Z",
     "shell.execute_reply": "2025-04-09T17:54:53.467266Z",
     "shell.execute_reply.started": "2025-04-09T17:54:53.433486Z"
    },
    "trusted": true
   },
   "outputs": [],
   "source": [
    "df_id1=df_id.copy()"
   ]
  },
  {
   "cell_type": "code",
   "execution_count": 15,
   "metadata": {
    "execution": {
     "iopub.execute_input": "2025-04-09T17:54:53.469466Z",
     "iopub.status.busy": "2025-04-09T17:54:53.469239Z",
     "iopub.status.idle": "2025-04-09T17:54:53.478599Z",
     "shell.execute_reply": "2025-04-09T17:54:53.477914Z",
     "shell.execute_reply.started": "2025-04-09T17:54:53.469447Z"
    },
    "trusted": true
   },
   "outputs": [
    {
     "data": {
      "text/html": [
       "<div>\n",
       "<style scoped>\n",
       "    .dataframe tbody tr th:only-of-type {\n",
       "        vertical-align: middle;\n",
       "    }\n",
       "\n",
       "    .dataframe tbody tr th {\n",
       "        vertical-align: top;\n",
       "    }\n",
       "\n",
       "    .dataframe thead th {\n",
       "        text-align: right;\n",
       "    }\n",
       "</style>\n",
       "<table border=\"1\" class=\"dataframe\">\n",
       "  <thead>\n",
       "    <tr style=\"text-align: right;\">\n",
       "      <th></th>\n",
       "      <th>id</th>\n",
       "      <th>title</th>\n",
       "      <th>abstract</th>\n",
       "      <th>n_citation</th>\n",
       "      <th>references</th>\n",
       "    </tr>\n",
       "  </thead>\n",
       "  <tbody>\n",
       "    <tr>\n",
       "      <th>100000</th>\n",
       "      <td>0fd70f02-8563-4f61-911a-e2837b1c4135</td>\n",
       "      <td>A comparison between two representatives of a ...</td>\n",
       "      <td>In this paper we consider two existing methods...</td>\n",
       "      <td>6</td>\n",
       "      <td>[0778dca9-2e4b-4496-ac99-b5cba6730875, 0bfc35b...</td>\n",
       "    </tr>\n",
       "    <tr>\n",
       "      <th>100001</th>\n",
       "      <td>0fd79488-7a9d-4dde-a8a5-5256193f32f8</td>\n",
       "      <td>Metrics for Grid Applicability: A Distributed ...</td>\n",
       "      <td>The distribution of computational load among s...</td>\n",
       "      <td>50</td>\n",
       "      <td>[22594fe7-8c1d-4717-a97f-63e58de2ae07]</td>\n",
       "    </tr>\n",
       "    <tr>\n",
       "      <th>100002</th>\n",
       "      <td>0fd7ef6e-7e6e-41a0-b79b-796b0079425b</td>\n",
       "      <td>Multiuser detection in multipath non-Gaussian ...</td>\n",
       "      <td>This paper addresses the problem of multiuser ...</td>\n",
       "      <td>0</td>\n",
       "      <td>[2efcf391-6634-4990-a2b9-b3efabb5fdde, b52aefd...</td>\n",
       "    </tr>\n",
       "    <tr>\n",
       "      <th>100003</th>\n",
       "      <td>0fd87461-8bce-40e6-848f-49c8348e77c2</td>\n",
       "      <td>Space-Economical Algorithms for Finding Maxima...</td>\n",
       "      <td>We show space-economical algorithms for findin...</td>\n",
       "      <td>37</td>\n",
       "      <td>[144a58e6-306c-4d8d-ae33-2146da221689, 17359b1...</td>\n",
       "    </tr>\n",
       "    <tr>\n",
       "      <th>100004</th>\n",
       "      <td>0fd87a54-367d-4185-a2d3-1a9cb471c61a</td>\n",
       "      <td>BPM-in-the-Large – Towards a Higher Level of A...</td>\n",
       "      <td>Business Process Management (BPM) has gained t...</td>\n",
       "      <td>50</td>\n",
       "      <td>[06b073fd-0617-40d2-9295-9373b7ed4e90, 08e139c...</td>\n",
       "    </tr>\n",
       "  </tbody>\n",
       "</table>\n",
       "</div>"
      ],
      "text/plain": [
       "                                          id  \\\n",
       "100000  0fd70f02-8563-4f61-911a-e2837b1c4135   \n",
       "100001  0fd79488-7a9d-4dde-a8a5-5256193f32f8   \n",
       "100002  0fd7ef6e-7e6e-41a0-b79b-796b0079425b   \n",
       "100003  0fd87461-8bce-40e6-848f-49c8348e77c2   \n",
       "100004  0fd87a54-367d-4185-a2d3-1a9cb471c61a   \n",
       "\n",
       "                                                    title  \\\n",
       "100000  A comparison between two representatives of a ...   \n",
       "100001  Metrics for Grid Applicability: A Distributed ...   \n",
       "100002  Multiuser detection in multipath non-Gaussian ...   \n",
       "100003  Space-Economical Algorithms for Finding Maxima...   \n",
       "100004  BPM-in-the-Large – Towards a Higher Level of A...   \n",
       "\n",
       "                                                 abstract  n_citation  \\\n",
       "100000  In this paper we consider two existing methods...           6   \n",
       "100001  The distribution of computational load among s...          50   \n",
       "100002  This paper addresses the problem of multiuser ...           0   \n",
       "100003  We show space-economical algorithms for findin...          37   \n",
       "100004  Business Process Management (BPM) has gained t...          50   \n",
       "\n",
       "                                               references  \n",
       "100000  [0778dca9-2e4b-4496-ac99-b5cba6730875, 0bfc35b...  \n",
       "100001             [22594fe7-8c1d-4717-a97f-63e58de2ae07]  \n",
       "100002  [2efcf391-6634-4990-a2b9-b3efabb5fdde, b52aefd...  \n",
       "100003  [144a58e6-306c-4d8d-ae33-2146da221689, 17359b1...  \n",
       "100004  [06b073fd-0617-40d2-9295-9373b7ed4e90, 08e139c...  "
      ]
     },
     "execution_count": 15,
     "metadata": {},
     "output_type": "execute_result"
    }
   ],
   "source": [
    "df_id.head()"
   ]
  },
  {
   "cell_type": "code",
   "execution_count": 16,
   "metadata": {
    "execution": {
     "iopub.execute_input": "2025-04-09T17:54:53.479536Z",
     "iopub.status.busy": "2025-04-09T17:54:53.479297Z",
     "iopub.status.idle": "2025-04-09T17:54:58.212352Z",
     "shell.execute_reply": "2025-04-09T17:54:58.211457Z",
     "shell.execute_reply.started": "2025-04-09T17:54:53.479515Z"
    },
    "trusted": true
   },
   "outputs": [
    {
     "name": "stdout",
     "output_type": "stream",
     "text": [
      "Collecting bert_score\n",
      "  Downloading bert_score-0.3.13-py3-none-any.whl.metadata (15 kB)\n",
      "Requirement already satisfied: torch>=1.0.0 in /usr/local/lib/python3.10/dist-packages (from bert_score) (2.5.1+cu121)\n",
      "Requirement already satisfied: pandas>=1.0.1 in /usr/local/lib/python3.10/dist-packages (from bert_score) (2.2.3)\n",
      "Requirement already satisfied: transformers>=3.0.0 in /usr/local/lib/python3.10/dist-packages (from bert_score) (4.47.0)\n",
      "Requirement already satisfied: numpy in /usr/local/lib/python3.10/dist-packages (from bert_score) (1.26.4)\n",
      "Requirement already satisfied: requests in /usr/local/lib/python3.10/dist-packages (from bert_score) (2.32.3)\n",
      "Requirement already satisfied: tqdm>=4.31.1 in /usr/local/lib/python3.10/dist-packages (from bert_score) (4.67.1)\n",
      "Requirement already satisfied: matplotlib in /usr/local/lib/python3.10/dist-packages (from bert_score) (3.7.5)\n",
      "Requirement already satisfied: packaging>=20.9 in /usr/local/lib/python3.10/dist-packages (from bert_score) (24.2)\n",
      "Requirement already satisfied: python-dateutil>=2.8.2 in /usr/local/lib/python3.10/dist-packages (from pandas>=1.0.1->bert_score) (2.9.0.post0)\n",
      "Requirement already satisfied: pytz>=2020.1 in /usr/local/lib/python3.10/dist-packages (from pandas>=1.0.1->bert_score) (2025.1)\n",
      "Requirement already satisfied: tzdata>=2022.7 in /usr/local/lib/python3.10/dist-packages (from pandas>=1.0.1->bert_score) (2025.1)\n",
      "Requirement already satisfied: mkl_fft in /usr/local/lib/python3.10/dist-packages (from numpy->bert_score) (1.3.8)\n",
      "Requirement already satisfied: mkl_random in /usr/local/lib/python3.10/dist-packages (from numpy->bert_score) (1.2.4)\n",
      "Requirement already satisfied: mkl_umath in /usr/local/lib/python3.10/dist-packages (from numpy->bert_score) (0.1.1)\n",
      "Requirement already satisfied: mkl in /usr/local/lib/python3.10/dist-packages (from numpy->bert_score) (2025.0.1)\n",
      "Requirement already satisfied: tbb4py in /usr/local/lib/python3.10/dist-packages (from numpy->bert_score) (2022.0.0)\n",
      "Requirement already satisfied: mkl-service in /usr/local/lib/python3.10/dist-packages (from numpy->bert_score) (2.4.1)\n",
      "Requirement already satisfied: filelock in /usr/local/lib/python3.10/dist-packages (from torch>=1.0.0->bert_score) (3.17.0)\n",
      "Requirement already satisfied: typing-extensions>=4.8.0 in /usr/local/lib/python3.10/dist-packages (from torch>=1.0.0->bert_score) (4.12.2)\n",
      "Requirement already satisfied: networkx in /usr/local/lib/python3.10/dist-packages (from torch>=1.0.0->bert_score) (3.4.2)\n",
      "Requirement already satisfied: jinja2 in /usr/local/lib/python3.10/dist-packages (from torch>=1.0.0->bert_score) (3.1.4)\n",
      "Requirement already satisfied: fsspec in /usr/local/lib/python3.10/dist-packages (from torch>=1.0.0->bert_score) (2024.12.0)\n",
      "Requirement already satisfied: sympy==1.13.1 in /usr/local/lib/python3.10/dist-packages (from torch>=1.0.0->bert_score) (1.13.1)\n",
      "Requirement already satisfied: mpmath<1.4,>=1.1.0 in /usr/local/lib/python3.10/dist-packages (from sympy==1.13.1->torch>=1.0.0->bert_score) (1.3.0)\n",
      "Requirement already satisfied: huggingface-hub<1.0,>=0.24.0 in /usr/local/lib/python3.10/dist-packages (from transformers>=3.0.0->bert_score) (0.29.0)\n",
      "Requirement already satisfied: pyyaml>=5.1 in /usr/local/lib/python3.10/dist-packages (from transformers>=3.0.0->bert_score) (6.0.2)\n",
      "Requirement already satisfied: regex!=2019.12.17 in /usr/local/lib/python3.10/dist-packages (from transformers>=3.0.0->bert_score) (2024.11.6)\n",
      "Requirement already satisfied: tokenizers<0.22,>=0.21 in /usr/local/lib/python3.10/dist-packages (from transformers>=3.0.0->bert_score) (0.21.0)\n",
      "Requirement already satisfied: safetensors>=0.4.1 in /usr/local/lib/python3.10/dist-packages (from transformers>=3.0.0->bert_score) (0.4.5)\n",
      "Requirement already satisfied: contourpy>=1.0.1 in /usr/local/lib/python3.10/dist-packages (from matplotlib->bert_score) (1.3.1)\n",
      "Requirement already satisfied: cycler>=0.10 in /usr/local/lib/python3.10/dist-packages (from matplotlib->bert_score) (0.12.1)\n",
      "Requirement already satisfied: fonttools>=4.22.0 in /usr/local/lib/python3.10/dist-packages (from matplotlib->bert_score) (4.55.3)\n",
      "Requirement already satisfied: kiwisolver>=1.0.1 in /usr/local/lib/python3.10/dist-packages (from matplotlib->bert_score) (1.4.7)\n",
      "Requirement already satisfied: pillow>=6.2.0 in /usr/local/lib/python3.10/dist-packages (from matplotlib->bert_score) (11.0.0)\n",
      "Requirement already satisfied: pyparsing>=2.3.1 in /usr/local/lib/python3.10/dist-packages (from matplotlib->bert_score) (3.2.0)\n",
      "Requirement already satisfied: charset-normalizer<4,>=2 in /usr/local/lib/python3.10/dist-packages (from requests->bert_score) (3.4.1)\n",
      "Requirement already satisfied: idna<4,>=2.5 in /usr/local/lib/python3.10/dist-packages (from requests->bert_score) (3.10)\n",
      "Requirement already satisfied: urllib3<3,>=1.21.1 in /usr/local/lib/python3.10/dist-packages (from requests->bert_score) (2.3.0)\n",
      "Requirement already satisfied: certifi>=2017.4.17 in /usr/local/lib/python3.10/dist-packages (from requests->bert_score) (2025.1.31)\n",
      "Requirement already satisfied: six>=1.5 in /usr/local/lib/python3.10/dist-packages (from python-dateutil>=2.8.2->pandas>=1.0.1->bert_score) (1.17.0)\n",
      "Requirement already satisfied: MarkupSafe>=2.0 in /usr/local/lib/python3.10/dist-packages (from jinja2->torch>=1.0.0->bert_score) (3.0.2)\n",
      "Requirement already satisfied: intel-openmp>=2024 in /usr/local/lib/python3.10/dist-packages (from mkl->numpy->bert_score) (2024.2.0)\n",
      "Requirement already satisfied: tbb==2022.* in /usr/local/lib/python3.10/dist-packages (from mkl->numpy->bert_score) (2022.0.0)\n",
      "Requirement already satisfied: tcmlib==1.* in /usr/local/lib/python3.10/dist-packages (from tbb==2022.*->mkl->numpy->bert_score) (1.2.0)\n",
      "Requirement already satisfied: intel-cmplr-lib-rt in /usr/local/lib/python3.10/dist-packages (from mkl_umath->numpy->bert_score) (2024.2.0)\n",
      "Requirement already satisfied: intel-cmplr-lib-ur==2024.2.0 in /usr/local/lib/python3.10/dist-packages (from intel-openmp>=2024->mkl->numpy->bert_score) (2024.2.0)\n",
      "Downloading bert_score-0.3.13-py3-none-any.whl (61 kB)\n",
      "\u001b[2K   \u001b[90m━━━━━━━━━━━━━━━━━━━━━━━━━━━━━━━━━━━━━━━━\u001b[0m \u001b[32m61.1/61.1 kB\u001b[0m \u001b[31m2.6 MB/s\u001b[0m eta \u001b[36m0:00:00\u001b[0m\n",
      "\u001b[?25hInstalling collected packages: bert_score\n",
      "Successfully installed bert_score-0.3.13\n",
      "Note: you may need to restart the kernel to use updated packages.\n"
     ]
    }
   ],
   "source": [
    "pip install bert_score"
   ]
  },
  {
   "cell_type": "code",
   "execution_count": 17,
   "metadata": {
    "execution": {
     "iopub.execute_input": "2025-04-09T17:54:58.213621Z",
     "iopub.status.busy": "2025-04-09T17:54:58.213305Z",
     "iopub.status.idle": "2025-04-09T17:55:04.544511Z",
     "shell.execute_reply": "2025-04-09T17:55:04.543390Z",
     "shell.execute_reply.started": "2025-04-09T17:54:58.213587Z"
    },
    "trusted": true
   },
   "outputs": [
    {
     "name": "stdout",
     "output_type": "stream",
     "text": [
      "Collecting faiss-gpu\n",
      "  Downloading faiss_gpu-1.7.2-cp310-cp310-manylinux_2_17_x86_64.manylinux2014_x86_64.whl.metadata (1.4 kB)\n",
      "Downloading faiss_gpu-1.7.2-cp310-cp310-manylinux_2_17_x86_64.manylinux2014_x86_64.whl (85.5 MB)\n",
      "\u001b[2K   \u001b[90m━━━━━━━━━━━━━━━━━━━━━━━━━━━━━━━━━━━━━━━━\u001b[0m \u001b[32m85.5/85.5 MB\u001b[0m \u001b[31m20.1 MB/s\u001b[0m eta \u001b[36m0:00:00\u001b[0m:00:01\u001b[0m00:01\u001b[0m\n",
      "\u001b[?25hInstalling collected packages: faiss-gpu\n",
      "Successfully installed faiss-gpu-1.7.2\n",
      "Note: you may need to restart the kernel to use updated packages.\n"
     ]
    }
   ],
   "source": [
    "pip install faiss-gpu"
   ]
  },
  {
   "cell_type": "code",
   "execution_count": 18,
   "metadata": {
    "execution": {
     "iopub.execute_input": "2025-04-09T17:55:04.545987Z",
     "iopub.status.busy": "2025-04-09T17:55:04.545642Z",
     "iopub.status.idle": "2025-04-09T18:49:29.576102Z",
     "shell.execute_reply": "2025-04-09T18:49:29.574933Z",
     "shell.execute_reply.started": "2025-04-09T17:55:04.545960Z"
    },
    "trusted": true
   },
   "outputs": [
    {
     "name": "stdout",
     "output_type": "stream",
     "text": [
      "Using device: cuda\n"
     ]
    },
    {
     "data": {
      "application/vnd.jupyter.widget-view+json": {
       "model_id": "8f95520a4d57437882bd43349a175c40",
       "version_major": 2,
       "version_minor": 0
      },
      "text/plain": [
       "config.json:   0%|          | 0.00/385 [00:00<?, ?B/s]"
      ]
     },
     "metadata": {},
     "output_type": "display_data"
    },
    {
     "data": {
      "application/vnd.jupyter.widget-view+json": {
       "model_id": "16513afdc11b4769a62f7de285daf129",
       "version_major": 2,
       "version_minor": 0
      },
      "text/plain": [
       "vocab.txt:   0%|          | 0.00/228k [00:00<?, ?B/s]"
      ]
     },
     "metadata": {},
     "output_type": "display_data"
    },
    {
     "data": {
      "application/vnd.jupyter.widget-view+json": {
       "model_id": "3dd4a09f94144a9db9ccf65bf4ad60be",
       "version_major": 2,
       "version_minor": 0
      },
      "text/plain": [
       "pytorch_model.bin:   0%|          | 0.00/442M [00:00<?, ?B/s]"
      ]
     },
     "metadata": {},
     "output_type": "display_data"
    },
    {
     "name": "stdout",
     "output_type": "stream",
     "text": [
      "Embeddings added to FAISS index.\n"
     ]
    },
    {
     "name": "stderr",
     "output_type": "stream",
     "text": [
      "Warning: Baseline not Found for allenai/scibert_scivocab_uncased on en at /usr/local/lib/python3.10/dist-packages/bert_score/rescale_baseline/en/allenai/scibert_scivocab_uncased.tsv\n",
      "Warning: Baseline not Found for allenai/scibert_scivocab_uncased on en at /usr/local/lib/python3.10/dist-packages/bert_score/rescale_baseline/en/allenai/scibert_scivocab_uncased.tsv\n"
     ]
    },
    {
     "data": {
      "image/png": "[encoded data removed]",
      "text/plain": [
       "<Figure size 1200x800 with 1 Axes>"
      ]
     },
     "metadata": {},
     "output_type": "display_data"
    }
   ],
   "source": [
    "import torch\n",
    "import numpy as np\n",
    "import pandas as pd\n",
    "from transformers import AutoTokenizer, AutoModel\n",
    "from scipy.spatial.distance import cosine\n",
    "from sklearn.metrics import accuracy_score\n",
    "import bert_score\n",
    "import matplotlib.pyplot as plt\n",
    "import faiss\n",
    "\n",
    "# Check if GPU is available\n",
    "device = torch.device(\"cuda\" if torch.cuda.is_available() else \"cpu\")\n",
    "print(f\"Using device: {device}\")\n",
    "\n",
    "# Load the SciBERT model and tokenizer\n",
    "model_name = \"allenai/scibert_scivocab_uncased\"\n",
    "tokenizer = AutoTokenizer.from_pretrained(model_name)\n",
    "model = AutoModel.from_pretrained(model_name).to(device)\n",
    "\n",
    "# Function to get embeddings\n",
    "def get_embeddings(text):\n",
    "    inputs = tokenizer(text, return_tensors='pt', padding=True, truncation=True, max_length=512)\n",
    "    inputs = {key: value.to(device) for key, value in inputs.items()}\n",
    "    with torch.no_grad():\n",
    "        embeddings = model(**inputs).last_hidden_state.mean(dim=1)\n",
    "    return embeddings\n",
    "\n",
    "# Process the dataframe\n",
    "df_id['title'] = df_id['title'].astype(str)\n",
    "df_id['abstract'] = df_id['abstract'].apply(lambda x: ' '.join(x) if isinstance(x, list) else str(x))\n",
    "df_id['combined_text'] = df_id['title'] + \" \" + df_id['abstract']\n",
    "df_id['text_embeddings'] = df_id['combined_text'].apply(lambda x: get_embeddings(x).squeeze().cpu().numpy().tolist())\n",
    "\n",
    "# Prepare embeddings and metadata\n",
    "text_embeddings = df_id[\"text_embeddings\"].tolist()\n",
    "ids = df_id[\"id\"].tolist()\n",
    "text_metadatas = df_id[[\"title\", \"abstract\"]].to_dict(orient=\"records\")\n",
    "\n",
    "# Create a FAISS index (assuming 768-dim embeddings from SciBERT)\n",
    "dimension = 768\n",
    "index = faiss.IndexFlatL2(dimension)\n",
    "\n",
    "# Add embeddings to FAISS index\n",
    "index.add(np.array(text_embeddings).astype('float32'))\n",
    "print(\"Embeddings added to FAISS index.\")\n",
    "\n",
    "# Function to compute cosine similarity\n",
    "def compute_cosine_similarity(vec1, vec2):\n",
    "    return 1 - cosine(vec1, vec2)\n",
    "\n",
    "# Function to find similar texts using cosine similarity with FAISS\n",
    "def find_similar_texts_cosine(user_input, input_paper_id, top_n=5):\n",
    "    user_embedding = get_embeddings(user_input).squeeze().cpu().numpy()\n",
    "    user_embedding = np.array([user_embedding]).astype('float32')\n",
    "\n",
    "    distances, indices = index.search(user_embedding, top_n + 10)  # retrieve more in case of input ID filter\n",
    "    similar_ids = []\n",
    "    for idx, dist in zip(indices[0], distances[0]):\n",
    "        sim_id = ids[idx]\n",
    "        if sim_id != input_paper_id:\n",
    "            similarity = 1 / (1 + dist)  # convert L2 distance to similarity proxy\n",
    "            similar_ids.append((sim_id, similarity))\n",
    "        if len(similar_ids) == top_n:\n",
    "            break\n",
    "    return similar_ids\n",
    "\n",
    "# Placeholder re-ranking\n",
    "def re_rank_results(similar_texts):\n",
    "    return similar_texts\n",
    "\n",
    "def find_and_rerank_similar_texts(user_input, input_paper_id, top_n=5):\n",
    "    similar_texts = find_similar_texts_cosine(user_input, input_paper_id, top_n)\n",
    "    return re_rank_results(similar_texts)\n",
    "\n",
    "def recommend_papers(user_input, input_paper_id, top_n=5):\n",
    "    return find_and_rerank_similar_texts(user_input, input_paper_id, top_n)\n",
    "\n",
    "# BERTScore evaluation\n",
    "def evaluate_bertscore(user_input, recommended_texts):\n",
    "    references = [user_input] * len(recommended_texts)\n",
    "    candidates = [text for _, text in recommended_texts]\n",
    "    \n",
    "    P, R, F1 = bert_score.score(candidates, references, model_type=model_name, lang=\"en\", rescale_with_baseline=True)\n",
    "    return P.mean().item(), R.mean().item(), F1.mean().item()\n",
    "\n",
    "# Full recommendation and evaluation\n",
    "def recommend_and_evaluate(user_input, input_paper_id, top_n=5):\n",
    "    recommended_papers = recommend_papers(user_input, input_paper_id, top_n)\n",
    "    recommended_texts = [(paper_id, df_id[df_id[\"id\"] == paper_id][\"combined_text\"].values[0]) for paper_id, _ in recommended_papers]\n",
    "    \n",
    "    precision, recall, f1 = evaluate_bertscore(user_input, recommended_texts)\n",
    "    accuracy = (precision + recall) / 2\n",
    "    return precision, recall, f1, accuracy\n",
    "\n",
    "# Example input\n",
    "user_input = \"Robust stability analysis of uncertain hopfield neural networks with markov switching\"\n",
    "input_paper_title = user_input.strip().lower()\n",
    "input_paper_id = df_id[df_id['title'].str.strip().str.lower() == input_paper_title]['id'].values[0]\n",
    "\n",
    "# Top-N values\n",
    "top_n_values = [50,100]\n",
    "\n",
    "results = {\"Top-N\": [], \"Precision\": [], \"Recall\": [], \"F1-Score\": [], \"Accuracy\": []}\n",
    "\n",
    "# Evaluate for each Top-N\n",
    "for top_n in top_n_values:\n",
    "    precision, recall, f1, accuracy = recommend_and_evaluate(user_input, input_paper_id, top_n)\n",
    "    results[\"Top-N\"].append(top_n)\n",
    "    results[\"Precision\"].append(precision)\n",
    "    results[\"Recall\"].append(recall)\n",
    "    results[\"F1-Score\"].append(f1)\n",
    "    results[\"Accuracy\"].append(accuracy)\n",
    "\n",
    "# Results DataFrame\n",
    "results_df = pd.DataFrame(results)\n",
    "\n",
    "# Plotting function\n",
    "def plot_metrics_for_top_n(results_df):\n",
    "    metrics = ['Precision', 'Recall', 'F1-Score', 'Accuracy']\n",
    "    plt.figure(figsize=(12, 8))\n",
    "    bar_width = 0.18\n",
    "    index = np.arange(len(results_df['Top-N']))\n",
    "    \n",
    "    for i, metric in enumerate(metrics):\n",
    "        bars = plt.bar(index + i * (bar_width + 0.02), results_df[metric], bar_width, label=metric)\n",
    "        for bar in bars:\n",
    "            yval = bar.get_height()\n",
    "            plt.text(bar.get_x() + bar.get_width()/2.0, yval, f'{yval:.2f}', ha='center', va='bottom')\n",
    "    \n",
    "    plt.xticks(index + bar_width * (len(metrics) / 2 - 0.5) + 0.03, results_df['Top-N'])\n",
    "    plt.xlabel('Top-N')\n",
    "    plt.ylabel('Score')\n",
    "    plt.title('BERTScore Evaluation Metrics for Different Top-N Recommendations')\n",
    "    plt.legend()\n",
    "    plt.grid(True, axis='y')\n",
    "    plt.show()\n",
    "\n",
    "# Plot the metrics\n",
    "plot_metrics_for_top_n(results_df)\n"
   ]
  },
  {
   "cell_type": "code",
   "execution_count": null,
   "metadata": {},
   "outputs": [],
   "source": []
  },
  {
   "cell_type": "code",
   "execution_count": 21,
   "metadata": {
    "execution": {
     "iopub.execute_input": "2025-04-09T18:55:48.570232Z",
     "iopub.status.busy": "2025-04-09T18:55:48.569891Z",
     "iopub.status.idle": "2025-04-09T18:56:00.336283Z",
     "shell.execute_reply": "2025-04-09T18:56:00.335072Z",
     "shell.execute_reply.started": "2025-04-09T18:55:48.570200Z"
    },
    "trusted": true
   },
   "outputs": [
    {
     "name": "stderr",
     "output_type": "stream",
     "text": [
      "Warning: Baseline not Found for allenai/scibert_scivocab_uncased on en at /usr/local/lib/python3.10/dist-packages/bert_score/rescale_baseline/en/allenai/scibert_scivocab_uncased.tsv\n",
      "Warning: Baseline not Found for allenai/scibert_scivocab_uncased on en at /usr/local/lib/python3.10/dist-packages/bert_score/rescale_baseline/en/allenai/scibert_scivocab_uncased.tsv\n"
     ]
    },
    {
     "data": {
      "image/png": "[encoded data removed]",
      "text/plain": [
       "<Figure size 1200x800 with 1 Axes>"
      ]
     },
     "metadata": {},
     "output_type": "display_data"
    }
   ],
   "source": [
    "# Example input\n",
    "user_input = \"A General Framework for Automatic Termination Analysis of Logic Programs\"\n",
    "input_paper_title = user_input.strip().lower()\n",
    "input_paper_id = df_id[df_id['title'].str.strip().str.lower() == input_paper_title]['id'].values[0]\n",
    "\n",
    "# Top-N values\n",
    "top_n_values = [50,100]\n",
    "\n",
    "results = {\"Top-N\": [], \"Precision\": [], \"Recall\": [], \"F1-Score\": [], \"Accuracy\": []}\n",
    "\n",
    "# Evaluate for each Top-N\n",
    "for top_n in top_n_values:\n",
    "    precision, recall, f1, accuracy = recommend_and_evaluate(user_input, input_paper_id, top_n)\n",
    "    results[\"Top-N\"].append(top_n)\n",
    "    results[\"Precision\"].append(precision)\n",
    "    results[\"Recall\"].append(recall)\n",
    "    results[\"F1-Score\"].append(f1)\n",
    "    results[\"Accuracy\"].append(accuracy)\n",
    "\n",
    "# Results DataFrame\n",
    "results_df = pd.DataFrame(results)\n",
    "\n",
    "# Plotting function\n",
    "def plot_metrics_for_top_n(results_df, filename=\"/kaggle/working/evaluation_metrics.png\"):\n",
    "    metrics = ['Precision', 'Recall', 'F1-Score', 'Accuracy']\n",
    "    plt.figure(figsize=(12, 8))\n",
    "    bar_width = 0.18\n",
    "    index = np.arange(len(results_df['Top-N']))\n",
    "    \n",
    "    for i, metric in enumerate(metrics):\n",
    "        bars = plt.bar(index + i * (bar_width + 0.02), results_df[metric], bar_width, label=metric)\n",
    "        for bar in bars:\n",
    "            yval = bar.get_height()\n",
    "            plt.text(bar.get_x() + bar.get_width()/2.0, yval, f'{yval:.2f}', ha='center', va='bottom')\n",
    "    \n",
    "    plt.xticks(index + bar_width * (len(metrics) / 2 - 0.5) + 0.03, results_df['Top-N'])\n",
    "    plt.xlabel('Top-N')\n",
    "    plt.ylabel('Score')\n",
    "    plt.title('BERTScore Evaluation Metrics for Different Top-N Recommendations')\n",
    "    plt.legend()\n",
    "    plt.grid(True, axis='y')\n",
    "\n",
    "    # Save the plot as a .png file in the Kaggle environment\n",
    "    plt.savefig(filename, format='png')\n",
    "    \n",
    "    # Optionally, show the plot\n",
    "    plt.show()\n",
    "\n",
    "# Plot and save the metrics\n",
    "plot_metrics_for_top_n(results_df, filename=\"/kaggle/working/evaluation_metrics.png\")\n",
    "\n"
   ]
  },
  {
   "cell_type": "code",
   "execution_count": null,
   "metadata": {},
   "outputs": [],
   "source": []
  },
  {
   "cell_type": "code",
   "execution_count": 20,
   "metadata": {
    "execution": {
     "iopub.execute_input": "2025-04-09T18:54:36.677060Z",
     "iopub.status.busy": "2025-04-09T18:54:36.676726Z",
     "iopub.status.idle": "2025-04-09T18:54:49.295803Z",
     "shell.execute_reply": "2025-04-09T18:54:49.294561Z",
     "shell.execute_reply.started": "2025-04-09T18:54:36.677037Z"
    },
    "trusted": true
   },
   "outputs": [
    {
     "name": "stderr",
     "output_type": "stream",
     "text": [
      "Warning: Baseline not Found for allenai/scibert_scivocab_uncased on en at /usr/local/lib/python3.10/dist-packages/bert_score/rescale_baseline/en/allenai/scibert_scivocab_uncased.tsv\n",
      "Warning: Baseline not Found for allenai/scibert_scivocab_uncased on en at /usr/local/lib/python3.10/dist-packages/bert_score/rescale_baseline/en/allenai/scibert_scivocab_uncased.tsv\n"
     ]
    },
    {
     "data": {
      "image/png": "[encoded data removed]",
      "text/plain": [
       "<Figure size 1200x800 with 1 Axes>"
      ]
     },
     "metadata": {},
     "output_type": "display_data"
    }
   ],
   "source": [
    "# Example input\n",
    "user_input = \"Extensions for 3d graphics rendering engine used for direct tessellation of spline surfaces\"\n",
    "input_paper_title = user_input.strip().lower()\n",
    "input_paper_id = df_id[df_id['title'].str.strip().str.lower() == input_paper_title]['id'].values[0]\n",
    "\n",
    "# Top-N values\n",
    "top_n_values = [50,100]\n",
    "\n",
    "results = {\"Top-N\": [], \"Precision\": [], \"Recall\": [], \"F1-Score\": [], \"Accuracy\": []}\n",
    "\n",
    "# Evaluate for each Top-N\n",
    "for top_n in top_n_values:\n",
    "    precision, recall, f1, accuracy = recommend_and_evaluate(user_input, input_paper_id, top_n)\n",
    "    results[\"Top-N\"].append(top_n)\n",
    "    results[\"Precision\"].append(precision)\n",
    "    results[\"Recall\"].append(recall)\n",
    "    results[\"F1-Score\"].append(f1)\n",
    "    results[\"Accuracy\"].append(accuracy)\n",
    "\n",
    "# Results DataFrame\n",
    "results_df = pd.DataFrame(results)\n",
    "\n",
    "# Plotting function\n",
    "def plot_metrics_for_top_n(results_df, filename=\"/kaggle/working/evaluation_metrics.png\"):\n",
    "    metrics = ['Precision', 'Recall', 'F1-Score', 'Accuracy']\n",
    "    plt.figure(figsize=(12, 8))\n",
    "    bar_width = 0.18\n",
    "    index = np.arange(len(results_df['Top-N']))\n",
    "    \n",
    "    for i, metric in enumerate(metrics):\n",
    "        bars = plt.bar(index + i * (bar_width + 0.02), results_df[metric], bar_width, label=metric)\n",
    "        for bar in bars:\n",
    "            yval = bar.get_height()\n",
    "            plt.text(bar.get_x() + bar.get_width()/2.0, yval, f'{yval:.2f}', ha='center', va='bottom')\n",
    "    \n",
    "    plt.xticks(index + bar_width * (len(metrics) / 2 - 0.5) + 0.03, results_df['Top-N'])\n",
    "    plt.xlabel('Top-N')\n",
    "    plt.ylabel('Score')\n",
    "    plt.title('BERTScore Evaluation Metrics for Different Top-N Recommendations')\n",
    "    plt.legend()\n",
    "    plt.grid(True, axis='y')\n",
    "\n",
    "    # Save the plot as a .png file in the Kaggle environment\n",
    "    plt.savefig(filename, format='png')\n",
    "    \n",
    "    # Optionally, show the plot\n",
    "    plt.show()\n",
    "\n",
    "# Plot and save the metrics\n",
    "plot_metrics_for_top_n(results_df, filename=\"/kaggle/working/evaluation_metrics.png\")\n",
    "\n"
   ]
  },
  {
   "cell_type": "code",
   "execution_count": null,
   "metadata": {
    "trusted": true
   },
   "outputs": [],
   "source": []
  },
  {
   "cell_type": "code",
   "execution_count": 3,
   "metadata": {
    "trusted": true
   },
   "outputs": [
    {
     "data": {
      "image/png": "[encoded data removed]",
      "text/plain": [
       "<Figure size 800x600 with 1 Axes>"
      ]
     },
     "metadata": {},
     "output_type": "display_data"
    }
   ],
   "source": [
    "import matplotlib.pyplot as plt\n",
    "import numpy as np\n",
    "\n",
    "# Input data\n",
    "# Input data\n",
    "results = {\n",
    "    'Recommendations': [ 50,100],\n",
    "    'Accuracy': [\n",
    "        [0.55, 0.59, 0.64, 0.58, 0.57],\n",
    "        [0.55, 0.59, 0.63, 0.57, 0.56]\n",
    "        \n",
    "    ],\n",
    "    'Precision': [\n",
    "        [0.50, 0.52, 0.56, 0.53, 0.54],\n",
    "        [0.50, 0.52, 0.55, 0.52, 0.53]\n",
    "        \n",
    "    ],\n",
    "    'Recall': [\n",
    "        [0.60, 0.65, 0.73, 0.61, 0.61],\n",
    "        [0.60, 0.66, 0.72, 0.61, 0.60]\n",
    "        \n",
    "    ],\n",
    "    'F1_Score': [\n",
    "        [0.55, 0.58, 0.63, 0.56, 0.57],\n",
    "        [0.54, 0.58, 0.62, 0.56, 0.56]\n",
    "    ]\n",
    "}\n",
    "# Compute averages for each metric at each recommendation level and convert to percentages\n",
    "averaged_results = {metric: [np.mean(values) * 100 for values in metrics] for metric, metrics in results.items() if metric != 'Recommendations'}\n",
    "\n",
    "# Define colors and order\n",
    "metrics_order = ['Precision', 'F1_Score', 'Accuracy', 'Recall']\n",
    "colors = {'Accuracy': 'blue', 'Precision': 'orange', 'Recall': 'green', 'F1_Score': 'red'}\n",
    "\n",
    "# Plotting the bars\n",
    "fig, ax = plt.subplots(figsize=(8, 6))\n",
    "x = np.arange(len(results['Recommendations']))\n",
    "width = 0.1  # Width of each bar\n",
    "\n",
    "# Plot bars for each recommendation level\n",
    "for i, rec in enumerate(results['Recommendations']):\n",
    "    for j, metric in enumerate(metrics_order):\n",
    "        value = averaged_results[metric][i]\n",
    "        bar = ax.bar(x[i] + j * width, value, width, label=metric if i == 0 else \"\", color=colors[metric])\n",
    "\n",
    "        # Add labels above each bar\n",
    "        ax.text(x[i] + j * width, value + 1, f\"{value:.1f}%\", ha='center', fontsize=10)\n",
    "\n",
    "# Set x-axis labels and title\n",
    "ax.set_xticks(x + width * 0.05)\n",
    "ax.set_xticklabels(results['Recommendations'])\n",
    "ax.set_xlabel(\"Number of Recommendations\", fontsize=12)\n",
    "ax.set_ylabel(\"Score (%)\", fontsize=12)\n",
    "ax.set_title(\"Cosine Similarity Using LLM\", fontsize=14, fontweight='bold')\n",
    "\n",
    "# Set y-axis scale from 0 to 100\n",
    "ax.set_ylim(0, 100)\n",
    "\n",
    "# Improve legend display\n",
    "ax.legend(fontsize=10, loc=\"upper left\")\n",
    "\n",
    "plt.tight_layout()\n",
    "plt.show()\n"
   ]
  },
  {
   "cell_type": "code",
   "execution_count": null,
   "metadata": {},
   "outputs": [],
   "source": []
  }
 ],
 "metadata": {
  "kaggle": {
   "accelerator": "gpu",
   "dataSources": [
    {
     "datasetId": 90479,
     "sourceId": 209555,
     "sourceType": "datasetVersion"
    }
   ],
   "dockerImageVersionId": 30919,
   "isGpuEnabled": true,
   "isInternetEnabled": true,
   "language": "python",
   "sourceType": "notebook"
  },
  "kernelspec": {
   "display_name": "my_env",
   "language": "python",
   "name": "python3"
  },
  "language_info": {
   "codemirror_mode": {
    "name": "ipython",
    "version": 3
   },
   "file_extension": ".py",
   "mimetype": "text/x-python",
   "name": "python",
   "nbconvert_exporter": "python",
   "pygments_lexer": "ipython3",
   "version": "3.9.7"
  }
 },
 "nbformat": 4,
 "nbformat_minor": 4
}
