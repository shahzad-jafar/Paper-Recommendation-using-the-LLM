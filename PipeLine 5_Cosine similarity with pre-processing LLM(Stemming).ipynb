{
 "cells": [
  {
   "cell_type": "code",
   "execution_count": 1,
   "metadata": {
    "id": "UB7HeOBLKZrR"
   },
   "outputs": [],
   "source": [
    "\n",
    "#from pymongo import MongoClient\n",
    "import pandas as pd\n",
    "from nltk.tokenize import word_tokenize\n",
    "from nltk.corpus import stopwords\n",
    "from nltk.corpus import wordnet\n",
    "from nltk.stem import PorterStemmer, WordNetLemmatizer\n",
    "import string\n",
    "import nltk\n",
    "import re\n",
    "#from tensorflow.keras import layers\n",
    "#from tensorflow import keras\n",
    "#import tensorflow as tf\n",
    "\n",
    "from sklearn.model_selection import train_test_split\n",
    "\n",
    "from ast import literal_eval\n",
    "\n",
    "import matplotlib.pyplot as plt\n",
    "import numpy as np"
   ]
  },
  {
   "cell_type": "code",
   "execution_count": 2,
   "metadata": {
    "id": "EuQA8DUIlMby"
   },
   "outputs": [],
   "source": [
    "# client = MongoClient(\"mongodb://localhost:27017/\")  #name of the connection string \n",
    "# db = client[\"DBLP\"]             #name of the Database\n",
    "\n",
    "# #collection_dblp = db[\"citation_data\"]    #Name of the item Name\n",
    "# collection_dblp = db[\"new_data\"]\n",
    "# collection_arix = db[\"Arix\"]  \n",
    "# # Fetch all data\n",
    "# cursor = collection_dblp.find()\n"
   ]
  },
  {
   "cell_type": "code",
   "execution_count": 3,
   "metadata": {},
   "outputs": [],
   "source": [
    "df=pd.read_csv(\"final_dataset.csv\")\n",
    "# df = pd.DataFrame(list(cursor)) "
   ]
  },
  {
   "cell_type": "code",
   "execution_count": 4,
   "metadata": {},
   "outputs": [],
   "source": [
    "#df.to_csv(\"final_dataset.csv\")"
   ]
  },
  {
   "cell_type": "code",
   "execution_count": 5,
   "metadata": {},
   "outputs": [],
   "source": [
    "df=df[['id','title','abstract','authors','n_citation','year','references','venue']]"
   ]
  },
  {
   "cell_type": "code",
   "execution_count": 6,
   "metadata": {
    "colab": {
     "base_uri": "https://localhost:8080/",
     "height": 310
    },
    "id": "ITuKWgvBluzX",
    "outputId": "353d194e-3484-4d40-bd0e-a3c6e4bee198"
   },
   "outputs": [
    {
     "data": {
      "text/html": [
       "<div>\n",
       "<style scoped>\n",
       "    .dataframe tbody tr th:only-of-type {\n",
       "        vertical-align: middle;\n",
       "    }\n",
       "\n",
       "    .dataframe tbody tr th {\n",
       "        vertical-align: top;\n",
       "    }\n",
       "\n",
       "    .dataframe thead th {\n",
       "        text-align: right;\n",
       "    }\n",
       "</style>\n",
       "<table border=\"1\" class=\"dataframe\">\n",
       "  <thead>\n",
       "    <tr style=\"text-align: right;\">\n",
       "      <th></th>\n",
       "      <th>id</th>\n",
       "      <th>title</th>\n",
       "      <th>abstract</th>\n",
       "      <th>authors</th>\n",
       "      <th>n_citation</th>\n",
       "      <th>year</th>\n",
       "      <th>references</th>\n",
       "      <th>venue</th>\n",
       "    </tr>\n",
       "  </thead>\n",
       "  <tbody>\n",
       "    <tr>\n",
       "      <th>0</th>\n",
       "      <td>4ab3735c-80f1-472d-b953-fa0557fed28b</td>\n",
       "      <td>A new approach of 3D watermarking based on ima...</td>\n",
       "      <td>In this paper, a robust 3D triangular mesh wat...</td>\n",
       "      <td>['S. Ben Jabra', 'Ezzeddine Zagrouba']</td>\n",
       "      <td>50</td>\n",
       "      <td>2008</td>\n",
       "      <td>['09cb2d7d-47d1-4a85-bfe5-faa8221e644b', '10aa...</td>\n",
       "      <td>international symposium on computers and commu...</td>\n",
       "    </tr>\n",
       "    <tr>\n",
       "      <th>1</th>\n",
       "      <td>4ab39729-af77-46f7-a662-16984fb9c1db</td>\n",
       "      <td>Attractor neural networks with activity-depend...</td>\n",
       "      <td>We studied an autoassociative neural network w...</td>\n",
       "      <td>['Joaquín J. Torres', 'Jesús M. Cortés', 'Joaq...</td>\n",
       "      <td>50</td>\n",
       "      <td>2007</td>\n",
       "      <td>['4017c9d2-9845-4ad2-ad5b-ba65523727c5', 'b118...</td>\n",
       "      <td>Neurocomputing</td>\n",
       "    </tr>\n",
       "    <tr>\n",
       "      <th>2</th>\n",
       "      <td>4ab3a4cf-1d96-4ce5-ab6f-b3e19fc260de</td>\n",
       "      <td>A characterization of balanced episturmian seq...</td>\n",
       "      <td>It is well-known that Sturmian sequences are t...</td>\n",
       "      <td>['Genevi eve Paquin', 'Laurent Vuillon']</td>\n",
       "      <td>50</td>\n",
       "      <td>2007</td>\n",
       "      <td>['1c655ee2-067d-4bc4-b8cc-bc779e9a7f10', '2e4e...</td>\n",
       "      <td>Electronic Journal of Combinatorics</td>\n",
       "    </tr>\n",
       "    <tr>\n",
       "      <th>3</th>\n",
       "      <td>4ab3a98c-3620-47ec-b578-884ecf4a6206</td>\n",
       "      <td>Exploring the space of a human action</td>\n",
       "      <td>One of the fundamental challenges of recognizi...</td>\n",
       "      <td>['Yaser Sheikh', 'Mumtaz Sheikh', 'Mubarak Shah']</td>\n",
       "      <td>221</td>\n",
       "      <td>2005</td>\n",
       "      <td>['056116c1-9e7a-4f9b-a918-44eb199e67d6', '05ac...</td>\n",
       "      <td>international conference on computer vision</td>\n",
       "    </tr>\n",
       "    <tr>\n",
       "      <th>4</th>\n",
       "      <td>4ab3b585-82b4-4207-91dd-b6bce7e27c4e</td>\n",
       "      <td>Generalized upper bounds on the minimum distan...</td>\n",
       "      <td>This paper generalizes previous optimal upper ...</td>\n",
       "      <td>['Efraim Laksman', 'Håkan Lennerstad', 'Magnus...</td>\n",
       "      <td>0</td>\n",
       "      <td>2015</td>\n",
       "      <td>['01a765b8-0cb3-495c-996f-29c36756b435', '5dbc...</td>\n",
       "      <td>Ima Journal of Mathematical Control and Inform...</td>\n",
       "    </tr>\n",
       "  </tbody>\n",
       "</table>\n",
       "</div>"
      ],
      "text/plain": [
       "                                     id  \\\n",
       "0  4ab3735c-80f1-472d-b953-fa0557fed28b   \n",
       "1  4ab39729-af77-46f7-a662-16984fb9c1db   \n",
       "2  4ab3a4cf-1d96-4ce5-ab6f-b3e19fc260de   \n",
       "3  4ab3a98c-3620-47ec-b578-884ecf4a6206   \n",
       "4  4ab3b585-82b4-4207-91dd-b6bce7e27c4e   \n",
       "\n",
       "                                               title  \\\n",
       "0  A new approach of 3D watermarking based on ima...   \n",
       "1  Attractor neural networks with activity-depend...   \n",
       "2  A characterization of balanced episturmian seq...   \n",
       "3              Exploring the space of a human action   \n",
       "4  Generalized upper bounds on the minimum distan...   \n",
       "\n",
       "                                            abstract  \\\n",
       "0  In this paper, a robust 3D triangular mesh wat...   \n",
       "1  We studied an autoassociative neural network w...   \n",
       "2  It is well-known that Sturmian sequences are t...   \n",
       "3  One of the fundamental challenges of recognizi...   \n",
       "4  This paper generalizes previous optimal upper ...   \n",
       "\n",
       "                                             authors  n_citation  year  \\\n",
       "0             ['S. Ben Jabra', 'Ezzeddine Zagrouba']          50  2008   \n",
       "1  ['Joaquín J. Torres', 'Jesús M. Cortés', 'Joaq...          50  2007   \n",
       "2           ['Genevi eve Paquin', 'Laurent Vuillon']          50  2007   \n",
       "3  ['Yaser Sheikh', 'Mumtaz Sheikh', 'Mubarak Shah']         221  2005   \n",
       "4  ['Efraim Laksman', 'Håkan Lennerstad', 'Magnus...           0  2015   \n",
       "\n",
       "                                          references  \\\n",
       "0  ['09cb2d7d-47d1-4a85-bfe5-faa8221e644b', '10aa...   \n",
       "1  ['4017c9d2-9845-4ad2-ad5b-ba65523727c5', 'b118...   \n",
       "2  ['1c655ee2-067d-4bc4-b8cc-bc779e9a7f10', '2e4e...   \n",
       "3  ['056116c1-9e7a-4f9b-a918-44eb199e67d6', '05ac...   \n",
       "4  ['01a765b8-0cb3-495c-996f-29c36756b435', '5dbc...   \n",
       "\n",
       "                                               venue  \n",
       "0  international symposium on computers and commu...  \n",
       "1                                     Neurocomputing  \n",
       "2                Electronic Journal of Combinatorics  \n",
       "3        international conference on computer vision  \n",
       "4  Ima Journal of Mathematical Control and Inform...  "
      ]
     },
     "execution_count": 6,
     "metadata": {},
     "output_type": "execute_result"
    }
   ],
   "source": [
    "df.head()"
   ]
  },
  {
   "cell_type": "code",
   "execution_count": 7,
   "metadata": {
    "id": "UIN_Q--4KZrm"
   },
   "outputs": [],
   "source": [
    "df_null=df.copy()"
   ]
  },
  {
   "cell_type": "code",
   "execution_count": 8,
   "metadata": {
    "colab": {
     "base_uri": "https://localhost:8080/",
     "height": 272
    },
    "id": "29Yz2H0iKZro",
    "outputId": "d90b000b-482d-4313-b058-7b420be1ed94"
   },
   "outputs": [
    {
     "data": {
      "text/plain": [
       "id                 0\n",
       "title              0\n",
       "abstract      172467\n",
       "authors            2\n",
       "n_citation         0\n",
       "year               0\n",
       "references    124417\n",
       "venue         177755\n",
       "dtype: int64"
      ]
     },
     "execution_count": 8,
     "metadata": {},
     "output_type": "execute_result"
    }
   ],
   "source": [
    "df_null.isnull().sum()"
   ]
  },
  {
   "cell_type": "code",
   "execution_count": 9,
   "metadata": {
    "id": "rp8U3uVGKZrq"
   },
   "outputs": [],
   "source": [
    "df_null.dropna(inplace=True)"
   ]
  },
  {
   "cell_type": "code",
   "execution_count": 10,
   "metadata": {
    "colab": {
     "base_uri": "https://localhost:8080/"
    },
    "id": "N_eTAQyzKZrr",
    "outputId": "d1759518-75dd-44f2-d8e7-c431c8dda057"
   },
   "outputs": [
    {
     "data": {
      "text/plain": [
       "(693622, 8)"
      ]
     },
     "execution_count": 10,
     "metadata": {},
     "output_type": "execute_result"
    }
   ],
   "source": [
    "df_null.shape"
   ]
  },
  {
   "cell_type": "code",
   "execution_count": 11,
   "metadata": {
    "id": "ue6LxwUbKZru"
   },
   "outputs": [],
   "source": [
    "df_null.drop_duplicates(subset=['id'], keep='first', inplace=True)\n",
    "df_null.reset_index(drop= True,inplace = True)"
   ]
  },
  {
   "cell_type": "code",
   "execution_count": 12,
   "metadata": {
    "id": "pJ8wBHghKZrv"
   },
   "outputs": [],
   "source": [
    "#df_id=df_null[['id','title','abstract','n_citation','references']]\n",
    "df_id = df_null[['id', 'title', 'abstract', 'n_citation', 'references']]#.sort_values(by='n_citation', ascending=False)\n",
    "df_references=df_null[['id','references']]"
   ]
  },
  {
   "cell_type": "code",
   "execution_count": 13,
   "metadata": {},
   "outputs": [
    {
     "name": "stderr",
     "output_type": "stream",
     "text": [
      "C:\\Users\\GPR-03\\AppData\\Local\\Temp\\ipykernel_9904\\3895716370.py:1: SettingWithCopyWarning: \n",
      "A value is trying to be set on a copy of a slice from a DataFrame.\n",
      "Try using .loc[row_indexer,col_indexer] = value instead\n",
      "\n",
      "See the caveats in the documentation: https://pandas.pydata.org/pandas-docs/stable/user_guide/indexing.html#returning-a-view-versus-a-copy\n",
      "  df_id['original_title']=df_id['title']\n"
     ]
    }
   ],
   "source": [
    "df_id['original_title']=df_id['title']"
   ]
  },
  {
   "cell_type": "code",
   "execution_count": 14,
   "metadata": {},
   "outputs": [
    {
     "data": {
      "text/plain": [
       "id                object\n",
       "title             object\n",
       "abstract          object\n",
       "n_citation         int64\n",
       "references        object\n",
       "original_title    object\n",
       "dtype: object"
      ]
     },
     "execution_count": 14,
     "metadata": {},
     "output_type": "execute_result"
    }
   ],
   "source": [
    "df_id.dtypes"
   ]
  },
  {
   "cell_type": "code",
   "execution_count": null,
   "metadata": {
    "id": "dJ3bcpOQKZrv"
   },
   "outputs": [],
   "source": [
    "df_id=df_id.head()"
   ]
  },
  {
   "cell_type": "code",
   "execution_count": 16,
   "metadata": {
    "id": "wPPQ7jlXKZrx"
   },
   "outputs": [],
   "source": [
    "df_id1=df_id.copy()"
   ]
  },
  {
   "cell_type": "code",
   "execution_count": 17,
   "metadata": {
    "colab": {
     "base_uri": "https://localhost:8080/",
     "height": 293
    },
    "id": "0p6HIoTxKZrx",
    "outputId": "0d8059e1-ed55-4bdd-85e1-b8ac3b99e772"
   },
   "outputs": [
    {
     "data": {
      "text/html": [
       "<div>\n",
       "<style scoped>\n",
       "    .dataframe tbody tr th:only-of-type {\n",
       "        vertical-align: middle;\n",
       "    }\n",
       "\n",
       "    .dataframe tbody tr th {\n",
       "        vertical-align: top;\n",
       "    }\n",
       "\n",
       "    .dataframe thead th {\n",
       "        text-align: right;\n",
       "    }\n",
       "</style>\n",
       "<table border=\"1\" class=\"dataframe\">\n",
       "  <thead>\n",
       "    <tr style=\"text-align: right;\">\n",
       "      <th></th>\n",
       "      <th>id</th>\n",
       "      <th>title</th>\n",
       "      <th>abstract</th>\n",
       "      <th>n_citation</th>\n",
       "      <th>references</th>\n",
       "      <th>original_title</th>\n",
       "    </tr>\n",
       "  </thead>\n",
       "  <tbody>\n",
       "    <tr>\n",
       "      <th>0</th>\n",
       "      <td>4ab3735c-80f1-472d-b953-fa0557fed28b</td>\n",
       "      <td>A new approach of 3D watermarking based on ima...</td>\n",
       "      <td>In this paper, a robust 3D triangular mesh wat...</td>\n",
       "      <td>50</td>\n",
       "      <td>['09cb2d7d-47d1-4a85-bfe5-faa8221e644b', '10aa...</td>\n",
       "      <td>A new approach of 3D watermarking based on ima...</td>\n",
       "    </tr>\n",
       "    <tr>\n",
       "      <th>1</th>\n",
       "      <td>4ab39729-af77-46f7-a662-16984fb9c1db</td>\n",
       "      <td>Attractor neural networks with activity-depend...</td>\n",
       "      <td>We studied an autoassociative neural network w...</td>\n",
       "      <td>50</td>\n",
       "      <td>['4017c9d2-9845-4ad2-ad5b-ba65523727c5', 'b118...</td>\n",
       "      <td>Attractor neural networks with activity-depend...</td>\n",
       "    </tr>\n",
       "    <tr>\n",
       "      <th>2</th>\n",
       "      <td>4ab3a4cf-1d96-4ce5-ab6f-b3e19fc260de</td>\n",
       "      <td>A characterization of balanced episturmian seq...</td>\n",
       "      <td>It is well-known that Sturmian sequences are t...</td>\n",
       "      <td>50</td>\n",
       "      <td>['1c655ee2-067d-4bc4-b8cc-bc779e9a7f10', '2e4e...</td>\n",
       "      <td>A characterization of balanced episturmian seq...</td>\n",
       "    </tr>\n",
       "    <tr>\n",
       "      <th>3</th>\n",
       "      <td>4ab3a98c-3620-47ec-b578-884ecf4a6206</td>\n",
       "      <td>Exploring the space of a human action</td>\n",
       "      <td>One of the fundamental challenges of recognizi...</td>\n",
       "      <td>221</td>\n",
       "      <td>['056116c1-9e7a-4f9b-a918-44eb199e67d6', '05ac...</td>\n",
       "      <td>Exploring the space of a human action</td>\n",
       "    </tr>\n",
       "    <tr>\n",
       "      <th>4</th>\n",
       "      <td>4ab3b585-82b4-4207-91dd-b6bce7e27c4e</td>\n",
       "      <td>Generalized upper bounds on the minimum distan...</td>\n",
       "      <td>This paper generalizes previous optimal upper ...</td>\n",
       "      <td>0</td>\n",
       "      <td>['01a765b8-0cb3-495c-996f-29c36756b435', '5dbc...</td>\n",
       "      <td>Generalized upper bounds on the minimum distan...</td>\n",
       "    </tr>\n",
       "  </tbody>\n",
       "</table>\n",
       "</div>"
      ],
      "text/plain": [
       "                                     id  \\\n",
       "0  4ab3735c-80f1-472d-b953-fa0557fed28b   \n",
       "1  4ab39729-af77-46f7-a662-16984fb9c1db   \n",
       "2  4ab3a4cf-1d96-4ce5-ab6f-b3e19fc260de   \n",
       "3  4ab3a98c-3620-47ec-b578-884ecf4a6206   \n",
       "4  4ab3b585-82b4-4207-91dd-b6bce7e27c4e   \n",
       "\n",
       "                                               title  \\\n",
       "0  A new approach of 3D watermarking based on ima...   \n",
       "1  Attractor neural networks with activity-depend...   \n",
       "2  A characterization of balanced episturmian seq...   \n",
       "3              Exploring the space of a human action   \n",
       "4  Generalized upper bounds on the minimum distan...   \n",
       "\n",
       "                                            abstract  n_citation  \\\n",
       "0  In this paper, a robust 3D triangular mesh wat...          50   \n",
       "1  We studied an autoassociative neural network w...          50   \n",
       "2  It is well-known that Sturmian sequences are t...          50   \n",
       "3  One of the fundamental challenges of recognizi...         221   \n",
       "4  This paper generalizes previous optimal upper ...           0   \n",
       "\n",
       "                                          references  \\\n",
       "0  ['09cb2d7d-47d1-4a85-bfe5-faa8221e644b', '10aa...   \n",
       "1  ['4017c9d2-9845-4ad2-ad5b-ba65523727c5', 'b118...   \n",
       "2  ['1c655ee2-067d-4bc4-b8cc-bc779e9a7f10', '2e4e...   \n",
       "3  ['056116c1-9e7a-4f9b-a918-44eb199e67d6', '05ac...   \n",
       "4  ['01a765b8-0cb3-495c-996f-29c36756b435', '5dbc...   \n",
       "\n",
       "                                      original_title  \n",
       "0  A new approach of 3D watermarking based on ima...  \n",
       "1  Attractor neural networks with activity-depend...  \n",
       "2  A characterization of balanced episturmian seq...  \n",
       "3              Exploring the space of a human action  \n",
       "4  Generalized upper bounds on the minimum distan...  "
      ]
     },
     "execution_count": 17,
     "metadata": {},
     "output_type": "execute_result"
    }
   ],
   "source": [
    "df_id.head()"
   ]
  },
  {
   "cell_type": "markdown",
   "metadata": {
    "id": "-cAJoQtVKZry"
   },
   "source": [
    "## Preprocessing Steps for Natural Language Processing (NLP)\n",
    "### Text Cleaning\n",
    "#### I. Converting to lowercase"
   ]
  },
  {
   "cell_type": "code",
   "execution_count": 18,
   "metadata": {
    "colab": {
     "base_uri": "https://localhost:8080/"
    },
    "id": "i2tA8gONKZry",
    "outputId": "9fe14336-35c6-4b78-e5d5-e6b7bca747aa"
   },
   "outputs": [
    {
     "name": "stderr",
     "output_type": "stream",
     "text": [
      "C:\\Users\\GPR-03\\AppData\\Local\\Temp\\ipykernel_9904\\461851235.py:1: FutureWarning: DataFrame.applymap has been deprecated. Use DataFrame.map instead.\n",
      "  df_id = df_id.applymap(lambda x: x.lower() if isinstance(x, str) else x)\n"
     ]
    }
   ],
   "source": [
    "df_id = df_id.applymap(lambda x: x.lower() if isinstance(x, str) else x)"
   ]
  },
  {
   "cell_type": "markdown",
   "metadata": {
    "id": "Uq-nckXzKZrz"
   },
   "source": [
    "### II. Removing URLs"
   ]
  },
  {
   "cell_type": "code",
   "execution_count": 19,
   "metadata": {
    "id": "0LozZcLUKZrz"
   },
   "outputs": [],
   "source": [
    "\n",
    "url_pattern = re.compile(r'https?://\\S+')\n",
    "\n",
    "# Define a function to remove URLs from text\n",
    "def remove_urls(text):\n",
    "    if isinstance(text, list):\n",
    "        # Join list into a single string\n",
    "        text = ' '.join(text)\n",
    "    return url_pattern.sub('', text)\n",
    "\n",
    "# Apply the function to the 'title' and 'abstract' columns and create new columns 'clean_title' and 'clean_abstract'\n",
    "df_id['title'] = df_id['title'].apply(remove_urls)\n",
    "df_id['abstract'] = df_id['abstract'].apply(remove_urls)"
   ]
  },
  {
   "cell_type": "markdown",
   "metadata": {
    "id": "Nqf5ukTaKZr0"
   },
   "source": [
    "### III. Removing remove non-word and non-whitespace characters"
   ]
  },
  {
   "cell_type": "code",
   "execution_count": 20,
   "metadata": {
    "id": "4zfyDGeiKZr0"
   },
   "outputs": [],
   "source": [
    "df_id['title'] = df_id['title'].replace(to_replace=r'[^\\w\\s\\b\\d+]', value='', regex=True)\n",
    "df_id['abstract'] = df_id['abstract'].replace(to_replace=r'[^\\w\\s\\b\\d+\\b]', value='', regex=True)"
   ]
  },
  {
   "cell_type": "markdown",
   "metadata": {
    "id": "x_-GVAByKZr1"
   },
   "source": [
    "### IV. Removing digits"
   ]
  },
  {
   "cell_type": "code",
   "execution_count": 21,
   "metadata": {
    "id": "994DLuZ1KZr2"
   },
   "outputs": [],
   "source": [
    "df_id['title'] = df_id['title'].replace(to_replace=r'\\d', value='', regex=True)\n",
    "df_id['abstract'] = df_id['abstract'].replace(to_replace=r'\\d', value='', regex=True)"
   ]
  },
  {
   "cell_type": "markdown",
   "metadata": {
    "id": "zdVhGUK_KZr3"
   },
   "source": [
    "## 2. Tokenization\n",
    "#### Tokenization is the process of breaking down large blocks of text such as paragraphs and sentences into smaller, more manageable units."
   ]
  },
  {
   "cell_type": "code",
   "execution_count": 22,
   "metadata": {
    "colab": {
     "base_uri": "https://localhost:8080/"
    },
    "id": "ekhzEEi8nrB8",
    "outputId": "ce5f0a49-18e4-4566-8ec4-53e87003a75c"
   },
   "outputs": [
    {
     "name": "stderr",
     "output_type": "stream",
     "text": [
      "[nltk_data] Downloading package punkt to\n",
      "[nltk_data]     C:\\Users\\GPR-03\\AppData\\Roaming\\nltk_data...\n",
      "[nltk_data]   Package punkt is already up-to-date!\n",
      "[nltk_data] Downloading package stopwords to\n",
      "[nltk_data]     C:\\Users\\GPR-03\\AppData\\Roaming\\nltk_data...\n",
      "[nltk_data]   Package stopwords is already up-to-date!\n",
      "[nltk_data] Downloading package punkt_tab to\n",
      "[nltk_data]     C:\\Users\\GPR-03\\AppData\\Roaming\\nltk_data...\n",
      "[nltk_data]   Package punkt_tab is already up-to-date!\n"
     ]
    },
    {
     "data": {
      "text/plain": [
       "True"
      ]
     },
     "execution_count": 22,
     "metadata": {},
     "output_type": "execute_result"
    }
   ],
   "source": [
    "import nltk\n",
    "nltk.download('punkt')\n",
    "nltk.download('stopwords')\n",
    "nltk.download('punkt_tab')\n"
   ]
  },
  {
   "cell_type": "code",
   "execution_count": 23,
   "metadata": {
    "id": "LnH8FhHLKZr4"
   },
   "outputs": [],
   "source": [
    "df_id['title'] = df_id['title'].apply(word_tokenize)"
   ]
  },
  {
   "cell_type": "code",
   "execution_count": 24,
   "metadata": {
    "id": "BeiLWAYBKZr4"
   },
   "outputs": [],
   "source": [
    "df_id['abstract'] = df_id['abstract'].apply(word_tokenize)"
   ]
  },
  {
   "cell_type": "markdown",
   "metadata": {
    "id": "Xl5EA0ebKZr5"
   },
   "source": [
    "\n",
    "## 3. Stopword Removal\n",
    "#### Stopwords refer to the most commonly occurring words in any natural language."
   ]
  },
  {
   "cell_type": "code",
   "execution_count": 25,
   "metadata": {
    "id": "1ct0OVxcKZr5"
   },
   "outputs": [],
   "source": [
    "stop_words = set(stopwords.words('english'))\n",
    "df_id['title'] = df_id['title'].apply(lambda x: [word for word in x if word not in stop_words])\n",
    "df_id['abstract'] = df_id['abstract'].apply(lambda x: [word for word in x if word not in stop_words])"
   ]
  },
  {
   "cell_type": "markdown",
   "metadata": {
    "id": "7HG4UDUzKZr6"
   },
   "source": [
    "## 4. Stemming/Lemmatization"
   ]
  },
  {
   "cell_type": "code",
   "execution_count": 26,
   "metadata": {
    "id": "8fCyWeXDKZr7"
   },
   "outputs": [],
   "source": [
    "# Initialize the Porter Stemmer\n",
    "stemmer = PorterStemmer()\n",
    "\n",
    "# Define a function to perform stemming on the 'text' column\n",
    "def stem_words(words):\n",
    "    return [stemmer.stem(word) for word in words]\n",
    "# Apply the function to the 'text' column and create a new column 'stemmed_text'\n",
    "df_id['title'] = df_id['title'].apply(stem_words)\n",
    "df_id['abstract'] = df_id['abstract'].apply(stem_words)"
   ]
  },
  {
   "cell_type": "code",
   "execution_count": 27,
   "metadata": {},
   "outputs": [],
   "source": [
    "#df_id=pd.read_csv(\"PreFile.csv\")"
   ]
  },
  {
   "cell_type": "code",
   "execution_count": 28,
   "metadata": {
    "colab": {
     "base_uri": "https://localhost:8080/",
     "height": 293
    },
    "id": "4rztwV5_KZr8",
    "outputId": "e18b6f50-0e3f-4b8b-90bb-c7d85013e2aa"
   },
   "outputs": [
    {
     "data": {
      "text/html": [
       "<div>\n",
       "<style scoped>\n",
       "    .dataframe tbody tr th:only-of-type {\n",
       "        vertical-align: middle;\n",
       "    }\n",
       "\n",
       "    .dataframe tbody tr th {\n",
       "        vertical-align: top;\n",
       "    }\n",
       "\n",
       "    .dataframe thead th {\n",
       "        text-align: right;\n",
       "    }\n",
       "</style>\n",
       "<table border=\"1\" class=\"dataframe\">\n",
       "  <thead>\n",
       "    <tr style=\"text-align: right;\">\n",
       "      <th></th>\n",
       "      <th>id</th>\n",
       "      <th>title</th>\n",
       "      <th>abstract</th>\n",
       "      <th>n_citation</th>\n",
       "      <th>references</th>\n",
       "      <th>original_title</th>\n",
       "    </tr>\n",
       "  </thead>\n",
       "  <tbody>\n",
       "    <tr>\n",
       "      <th>0</th>\n",
       "      <td>4ab3735c-80f1-472d-b953-fa0557fed28b</td>\n",
       "      <td>[new, approach, watermark, base, imag, segment]</td>\n",
       "      <td>[paper, robust, triangular, mesh, watermark, a...</td>\n",
       "      <td>50</td>\n",
       "      <td>['09cb2d7d-47d1-4a85-bfe5-faa8221e644b', '10aa...</td>\n",
       "      <td>a new approach of 3d watermarking based on ima...</td>\n",
       "    </tr>\n",
       "    <tr>\n",
       "      <th>1</th>\n",
       "      <td>4ab39729-af77-46f7-a662-16984fb9c1db</td>\n",
       "      <td>[attractor, neural, network, activitydepend, s...</td>\n",
       "      <td>[studi, autoassoci, neural, network, dynam, sy...</td>\n",
       "      <td>50</td>\n",
       "      <td>['4017c9d2-9845-4ad2-ad5b-ba65523727c5', 'b118...</td>\n",
       "      <td>attractor neural networks with activity-depend...</td>\n",
       "    </tr>\n",
       "    <tr>\n",
       "      <th>2</th>\n",
       "      <td>4ab3a4cf-1d96-4ce5-ab6f-b3e19fc260de</td>\n",
       "      <td>[character, balanc, episturmian, sequenc]</td>\n",
       "      <td>[wellknown, sturmian, sequenc, non, ultim, per...</td>\n",
       "      <td>50</td>\n",
       "      <td>['1c655ee2-067d-4bc4-b8cc-bc779e9a7f10', '2e4e...</td>\n",
       "      <td>a characterization of balanced episturmian seq...</td>\n",
       "    </tr>\n",
       "    <tr>\n",
       "      <th>3</th>\n",
       "      <td>4ab3a98c-3620-47ec-b578-884ecf4a6206</td>\n",
       "      <td>[explor, space, human, action]</td>\n",
       "      <td>[one, fundament, challeng, recogn, action, acc...</td>\n",
       "      <td>221</td>\n",
       "      <td>['056116c1-9e7a-4f9b-a918-44eb199e67d6', '05ac...</td>\n",
       "      <td>exploring the space of a human action</td>\n",
       "    </tr>\n",
       "    <tr>\n",
       "      <th>4</th>\n",
       "      <td>4ab3b585-82b4-4207-91dd-b6bce7e27c4e</td>\n",
       "      <td>[gener, upper, bound, minimum, distanc, psk, b...</td>\n",
       "      <td>[paper, gener, previou, optim, upper, bound, m...</td>\n",
       "      <td>0</td>\n",
       "      <td>['01a765b8-0cb3-495c-996f-29c36756b435', '5dbc...</td>\n",
       "      <td>generalized upper bounds on the minimum distan...</td>\n",
       "    </tr>\n",
       "  </tbody>\n",
       "</table>\n",
       "</div>"
      ],
      "text/plain": [
       "                                     id  \\\n",
       "0  4ab3735c-80f1-472d-b953-fa0557fed28b   \n",
       "1  4ab39729-af77-46f7-a662-16984fb9c1db   \n",
       "2  4ab3a4cf-1d96-4ce5-ab6f-b3e19fc260de   \n",
       "3  4ab3a98c-3620-47ec-b578-884ecf4a6206   \n",
       "4  4ab3b585-82b4-4207-91dd-b6bce7e27c4e   \n",
       "\n",
       "                                               title  \\\n",
       "0    [new, approach, watermark, base, imag, segment]   \n",
       "1  [attractor, neural, network, activitydepend, s...   \n",
       "2          [character, balanc, episturmian, sequenc]   \n",
       "3                     [explor, space, human, action]   \n",
       "4  [gener, upper, bound, minimum, distanc, psk, b...   \n",
       "\n",
       "                                            abstract  n_citation  \\\n",
       "0  [paper, robust, triangular, mesh, watermark, a...          50   \n",
       "1  [studi, autoassoci, neural, network, dynam, sy...          50   \n",
       "2  [wellknown, sturmian, sequenc, non, ultim, per...          50   \n",
       "3  [one, fundament, challeng, recogn, action, acc...         221   \n",
       "4  [paper, gener, previou, optim, upper, bound, m...           0   \n",
       "\n",
       "                                          references  \\\n",
       "0  ['09cb2d7d-47d1-4a85-bfe5-faa8221e644b', '10aa...   \n",
       "1  ['4017c9d2-9845-4ad2-ad5b-ba65523727c5', 'b118...   \n",
       "2  ['1c655ee2-067d-4bc4-b8cc-bc779e9a7f10', '2e4e...   \n",
       "3  ['056116c1-9e7a-4f9b-a918-44eb199e67d6', '05ac...   \n",
       "4  ['01a765b8-0cb3-495c-996f-29c36756b435', '5dbc...   \n",
       "\n",
       "                                      original_title  \n",
       "0  a new approach of 3d watermarking based on ima...  \n",
       "1  attractor neural networks with activity-depend...  \n",
       "2  a characterization of balanced episturmian seq...  \n",
       "3              exploring the space of a human action  \n",
       "4  generalized upper bounds on the minimum distan...  "
      ]
     },
     "execution_count": 28,
     "metadata": {},
     "output_type": "execute_result"
    }
   ],
   "source": [
    "df_id.head()"
   ]
  },
  {
   "cell_type": "code",
   "execution_count": 29,
   "metadata": {},
   "outputs": [
    {
     "name": "stderr",
     "output_type": "stream",
     "text": [
      "C:\\Users\\GPR-03\\AppData\\Local\\Packages\\PythonSoftwareFoundation.Python.3.9_qbz5n2kfra8p0\\LocalCache\\local-packages\\Python39\\site-packages\\tqdm\\auto.py:21: TqdmWarning: IProgress not found. Please update jupyter and ipywidgets. See https://ipywidgets.readthedocs.io/en/stable/user_install.html\n",
      "  from .autonotebook import tqdm as notebook_tqdm\n"
     ]
    },
    {
     "name": "stdout",
     "output_type": "stream",
     "text": [
      "Using device: cuda\n",
      "Embeddings added successfully in batches.\n"
     ]
    },
    {
     "name": "stderr",
     "output_type": "stream",
     "text": [
      "Warning: Baseline not Found for allenai/scibert_scivocab_uncased on en at C:\\Users\\GPR-03\\AppData\\Local\\Packages\\PythonSoftwareFoundation.Python.3.9_qbz5n2kfra8p0\\LocalCache\\local-packages\\Python39\\site-packages\\bert_score\\rescale_baseline/en/allenai/scibert_scivocab_uncased.tsv\n",
      "Warning: Baseline not Found for allenai/scibert_scivocab_uncased on en at C:\\Users\\GPR-03\\AppData\\Local\\Packages\\PythonSoftwareFoundation.Python.3.9_qbz5n2kfra8p0\\LocalCache\\local-packages\\Python39\\site-packages\\bert_score\\rescale_baseline/en/allenai/scibert_scivocab_uncased.tsv\n",
      "Warning: Baseline not Found for allenai/scibert_scivocab_uncased on en at C:\\Users\\GPR-03\\AppData\\Local\\Packages\\PythonSoftwareFoundation.Python.3.9_qbz5n2kfra8p0\\LocalCache\\local-packages\\Python39\\site-packages\\bert_score\\rescale_baseline/en/allenai/scibert_scivocab_uncased.tsv\n",
      "Warning: Baseline not Found for allenai/scibert_scivocab_uncased on en at C:\\Users\\GPR-03\\AppData\\Local\\Packages\\PythonSoftwareFoundation.Python.3.9_qbz5n2kfra8p0\\LocalCache\\local-packages\\Python39\\site-packages\\bert_score\\rescale_baseline/en/allenai/scibert_scivocab_uncased.tsv\n"
     ]
    },
    {
     "data": {
      "image/png": "[encoded data removed]",
      "text/plain": [
       "<Figure size 1200x800 with 1 Axes>"
      ]
     },
     "metadata": {},
     "output_type": "display_data"
    }
   ],
   "source": [
    "import torch\n",
    "import numpy as np\n",
    "import pandas as pd\n",
    "from transformers import AutoTokenizer, AutoModel\n",
    "from scipy.spatial.distance import cosine\n",
    "import chromadb\n",
    "from chromadb.config import Settings\n",
    "from sklearn.metrics import accuracy_score\n",
    "import bert_score\n",
    "import matplotlib.pyplot as plt\n",
    "from difflib import get_close_matches\n",
    "\n",
    "# Check if GPU is available and move model to GPU if available\n",
    "device = torch.device(\"cuda\" if torch.cuda.is_available() else \"cpu\")\n",
    "print(f\"Using device: {device}\")  # Optional, to confirm if you're using GPU\n",
    "\n",
    "# Load the SciBERT model and tokenizer\n",
    "model_name = \"allenai/scibert_scivocab_uncased\"\n",
    "tokenizer = AutoTokenizer.from_pretrained(model_name)\n",
    "model = AutoModel.from_pretrained(model_name).to(device)  # Move model to device\n",
    "\n",
    "# Function to get embeddings\n",
    "def get_embeddings(text):\n",
    "    inputs = tokenizer(text, return_tensors='pt', padding=True, truncation=True, max_length=512)\n",
    "    inputs = {key: value.to(device) for key, value in inputs.items()}  # Move inputs to GPU if available\n",
    "    with torch.no_grad():\n",
    "        embeddings = model(**inputs).last_hidden_state.mean(dim=1)\n",
    "    return embeddings\n",
    "\n",
    "# Example dataframe processing\n",
    "df_id['title'] = df_id['title'].astype(str)\n",
    "df_id['abstract'] = df_id['abstract'].apply(lambda x: ' '.join(x) if isinstance(x, list) else str(x))\n",
    "df_id['combined_text'] = df_id['title'] + \" \" + df_id['abstract']\n",
    "df_id['text_embeddings'] = df_id['combined_text'].apply(lambda x: get_embeddings(x).squeeze().cpu().numpy().tolist())  # Move to CPU for Chroma\n",
    "\n",
    "# Connect to Chroma and create a collection\n",
    "client = chromadb.Client(Settings())\n",
    "text_collection = client.create_collection(\"text_embeddings\")\n",
    "\n",
    "# Prepare data for adding to the Chroma collection\n",
    "ids = df_id[\"id\"].tolist()\n",
    "text_embeddings = df_id[\"text_embeddings\"].tolist()\n",
    "text_metadatas = df_id[[\"title\", \"abstract\"]].to_dict(orient=\"records\")\n",
    "\n",
    "# Function to split a list into smaller chunks\n",
    "def split_into_batches(data, batch_size):\n",
    "    for i in range(0, len(data), batch_size):\n",
    "        yield data[i:i + batch_size]\n",
    "\n",
    "# Set batch size to 166\n",
    "batch_size = 166\n",
    "\n",
    "# Split the ids, embeddings, and metadata into smaller batches\n",
    "id_batches = list(split_into_batches(ids, batch_size))\n",
    "embedding_batches = list(split_into_batches(text_embeddings, batch_size))\n",
    "metadata_batches = list(split_into_batches(text_metadatas, batch_size))\n",
    "\n",
    "# Add each batch to the Chroma collection\n",
    "for id_batch, embedding_batch, metadata_batch in zip(id_batches, embedding_batches, metadata_batches):\n",
    "    text_collection.add(ids=id_batch, embeddings=embedding_batch, metadatas=metadata_batch)\n",
    "\n",
    "print(\"Embeddings added successfully in batches.\")\n",
    "\n",
    "# Function to compute cosine similarity\n",
    "def compute_cosine_similarity(vec1, vec2):\n",
    "    return 1 - cosine(vec1, vec2)  # Cosine similarity is 1 - cosine distance\n",
    "\n",
    "# Function to find similar texts using cosine similarity\n",
    "def find_similar_texts_cosine(user_input, input_paper_id, top_n=5):\n",
    "    user_embedding = get_embeddings(user_input).squeeze().to(device).cpu().numpy()  # Move to GPU and then back to CPU\n",
    "    similarities = []\n",
    "    for idx, row in df_id.iterrows():\n",
    "        if row['id'] != input_paper_id:  # Exclude the input paper\n",
    "            text_embedding = np.array(row['text_embeddings'])\n",
    "            sim = compute_cosine_similarity(user_embedding, text_embedding)\n",
    "            similarities.append((row['id'], sim))\n",
    "    \n",
    "    # Sort by similarity and get top N results\n",
    "    similarities.sort(key=lambda x: x[1], reverse=True)\n",
    "    return similarities[:top_n]\n",
    "\n",
    "# Function for re-ranking the results\n",
    "def re_rank_results(similar_texts):\n",
    "    # Placeholder for re-ranking logic if needed\n",
    "    return similar_texts  # For simplicity, returning the same list\n",
    "\n",
    "# Function to find and re-rank similar texts\n",
    "def find_and_rerank_similar_texts(user_input, input_paper_id, top_n=5):\n",
    "    similar_texts = find_similar_texts_cosine(user_input, input_paper_id, top_n)\n",
    "    re_ranked_texts = re_rank_results(similar_texts)\n",
    "    return re_ranked_texts\n",
    "\n",
    "# Function to recommend papers, excluding the input paper itself\n",
    "def recommend_papers(user_input, input_paper_id, top_n=5):\n",
    "    re_ranked_texts = find_and_rerank_similar_texts(user_input, input_paper_id, top_n)\n",
    "    return re_ranked_texts\n",
    "\n",
    "# BERTScore-based function for evaluating precision, recall, F1-score\n",
    "def evaluate_bertscore(user_input, recommended_texts):\n",
    "    # Use BERTScore to evaluate based on token similarity\n",
    "    references = [user_input] * len(recommended_texts)  # The user input is the reference text\n",
    "    candidates = [text for _, text in recommended_texts]  # The recommended paper texts are the candidates\n",
    "    \n",
    "    P, R, F1 = bert_score.score(candidates, references, model_type=model_name, lang=\"en\", rescale_with_baseline=True)\n",
    "    \n",
    "    precision = P.mean().item()\n",
    "    recall = R.mean().item()\n",
    "    f1_score = F1.mean().item()\n",
    "    \n",
    "    return precision, recall, f1_score\n",
    "\n",
    "# Function to recommend and evaluate papers with BERTScore\n",
    "def recommend_and_evaluate(user_input, input_paper_id, top_n=5):\n",
    "    recommended_papers = recommend_papers(user_input, input_paper_id, top_n)\n",
    "    recommended_texts = [(paper_id, df_id[df_id[\"id\"] == paper_id][\"combined_text\"].values[0]) for paper_id, sim in recommended_papers]\n",
    "    \n",
    "    precision, recall, f1 = evaluate_bertscore(user_input, recommended_texts)\n",
    "    \n",
    "    # For accuracy, we can use a placeholder calculation since BERTScore focuses on similarity\n",
    "    accuracy = (precision + recall) / 2  # Simple proxy for now\n",
    "    \n",
    "    return precision, recall, f1, accuracy\n",
    "\n",
    "# Example user input and input paper ID\n",
    "user_input = \"A new approach of 3D watermarking based on image segmentation\"\n",
    "input_paper_title = user_input.strip().lower()  # Example input paper title\n",
    "\n",
    "# Match paper title to ID with error handling\n",
    "matching_ids = df_id[df_id['original_title'].str.strip().str.lower() == input_paper_title]['id']\n",
    "if matching_ids.empty:\n",
    "    potential_matches = get_close_matches(input_paper_title, df_id['original_title'].str.strip().str.lower().tolist(), n=1, cutoff=0.2)\n",
    "    if not potential_matches:\n",
    "        raise ValueError(\"No matching paper found for the input title.\")\n",
    "    input_paper_id = df_id[df_id['original_title'].str.strip().str.lower() == potential_matches[0]]['id'].values[0]\n",
    "else:\n",
    "    input_paper_id = matching_ids.values[0]\n",
    "\n",
    "# Top-N values to evaluate\n",
    "top_n_values = [25, 50, 75, 100]\n",
    "\n",
    "# Dictionary to store results\n",
    "results = {\n",
    "    \"Top-N\": [],\n",
    "    \"Precision\": [],\n",
    "    \"Recall\": [],\n",
    "    \"F1-Score\": [],\n",
    "    \"Accuracy\": []\n",
    "}\n",
    "\n",
    "# Run evaluations for each top-N value\n",
    "for top_n in top_n_values:\n",
    "    precision, recall, f1, accuracy = recommend_and_evaluate(user_input, input_paper_id, top_n)\n",
    "    \n",
    "    # Store results\n",
    "    results[\"Top-N\"].append(top_n)\n",
    "    results[\"Precision\"].append(precision)\n",
    "    results[\"Recall\"].append(recall)\n",
    "    results[\"F1-Score\"].append(f1)\n",
    "    results[\"Accuracy\"].append(accuracy)\n",
    "\n",
    "# Convert results to DataFrame\n",
    "results_df = pd.DataFrame(results)\n",
    "\n",
    "# Updated function to plot metrics for different Top-N values as bar charts with values showing up to 2 decimal places\n",
    "def plot_metrics_for_top_n(results_df):\n",
    "    metrics = ['Precision', 'Recall', 'F1-Score', 'Accuracy']\n",
    "    plt.figure(figsize=(12, 8))\n",
    "    \n",
    "    # Setting reduced width for the bars to create more space between them\n",
    "    bar_width = 0.18\n",
    "    index = np.arange(len(results_df['Top-N']))\n",
    "    \n",
    "    # Adjust each metric to create slight space between the bars\n",
    "    for i, metric in enumerate(metrics):\n",
    "        bars = plt.bar(index + i * (bar_width + 0.02), results_df[metric], bar_width, label=metric)\n",
    "        \n",
    "        # Add the values on top of each bar, formatted to 2 decimal places\n",
    "        for bar in bars:\n",
    "            yval = bar.get_height()\n",
    "            plt.text(bar.get_x() + bar.get_width()/2.0, yval, f'{yval:.2f}', \n",
    "                     ha='center', va='bottom')  # Display values with 2 decimal places\n",
    "    \n",
    "    # Setting the x-ticks in the middle of the bars\n",
    "    plt.xticks(index + bar_width * (len(metrics) / 2 - 0.5) + 0.03, results_df['Top-N'])\n",
    "    \n",
    "    plt.xlabel('Top-N')\n",
    "    plt.ylabel('Score')\n",
    "    plt.title('BERTScore Evaluation Metrics for Different Top-N Recommendations')\n",
    "    plt.legend()\n",
    "    plt.grid(True, axis='y')\n",
    "    plt.show()\n",
    "\n",
    "# Call the updated function to plot metrics for different Top-N values with 2 decimal places on values\n",
    "plot_metrics_for_top_n(results_df)\n"
   ]
  },
  {
   "cell_type": "code",
   "execution_count": 33,
   "metadata": {},
   "outputs": [
    {
     "name": "stderr",
     "output_type": "stream",
     "text": [
      "Warning: Baseline not Found for allenai/scibert_scivocab_uncased on en at C:\\Users\\GPR-03\\AppData\\Local\\Packages\\PythonSoftwareFoundation.Python.3.9_qbz5n2kfra8p0\\LocalCache\\local-packages\\Python39\\site-packages\\bert_score\\rescale_baseline/en/allenai/scibert_scivocab_uncased.tsv\n",
      "Warning: Baseline not Found for allenai/scibert_scivocab_uncased on en at C:\\Users\\GPR-03\\AppData\\Local\\Packages\\PythonSoftwareFoundation.Python.3.9_qbz5n2kfra8p0\\LocalCache\\local-packages\\Python39\\site-packages\\bert_score\\rescale_baseline/en/allenai/scibert_scivocab_uncased.tsv\n",
      "Warning: Baseline not Found for allenai/scibert_scivocab_uncased on en at C:\\Users\\GPR-03\\AppData\\Local\\Packages\\PythonSoftwareFoundation.Python.3.9_qbz5n2kfra8p0\\LocalCache\\local-packages\\Python39\\site-packages\\bert_score\\rescale_baseline/en/allenai/scibert_scivocab_uncased.tsv\n",
      "Warning: Baseline not Found for allenai/scibert_scivocab_uncased on en at C:\\Users\\GPR-03\\AppData\\Local\\Packages\\PythonSoftwareFoundation.Python.3.9_qbz5n2kfra8p0\\LocalCache\\local-packages\\Python39\\site-packages\\bert_score\\rescale_baseline/en/allenai/scibert_scivocab_uncased.tsv\n"
     ]
    },
    {
     "data": {
      "image/png": "[encoded data removed]",
      "text/plain": [
       "<Figure size 1200x800 with 1 Axes>"
      ]
     },
     "metadata": {},
     "output_type": "display_data"
    }
   ],
   "source": [
    "# Example user input and input paper ID\n",
    "user_input = \"Support-Vector Networks\"\n",
    "input_paper_title = user_input.strip().lower()  # Example input paper title\n",
    "input_paper_id = df_id[df_id['original_title'].str.strip().str.lower() == input_paper_title]['id'].values[0]  # Get input paper ID based on title\n",
    "\n",
    "# Top-N values to evaluate\n",
    "top_n_values = [25, 50, 75, 100]\n",
    "\n",
    "# Dictionary to store results\n",
    "results = {\n",
    "    \"Top-N\": [],\n",
    "    \"Precision\": [],\n",
    "    \"Recall\": [],\n",
    "    \"F1-Score\": [],\n",
    "    \"Accuracy\": []\n",
    "}\n",
    "\n",
    "# Run evaluations for each top-N value\n",
    "for top_n in top_n_values:\n",
    "    precision, recall, f1, accuracy = recommend_and_evaluate(user_input, input_paper_id, top_n)\n",
    "    \n",
    "    # Store results\n",
    "    results[\"Top-N\"].append(top_n)\n",
    "    results[\"Precision\"].append(precision)\n",
    "    results[\"Recall\"].append(recall)\n",
    "    results[\"F1-Score\"].append(f1)\n",
    "    results[\"Accuracy\"].append(accuracy)\n",
    "\n",
    "# Convert results to DataFrame\n",
    "results_df = pd.DataFrame(results)\n",
    "\n",
    "# Updated function to plot metrics for different Top-N values as bar charts with values showing up to 2 decimal places\n",
    "def plot_metrics_for_top_n(results_df):\n",
    "    metrics = ['Precision', 'Recall', 'F1-Score', 'Accuracy']\n",
    "    plt.figure(figsize=(12, 8))\n",
    "    \n",
    "    # Setting reduced width for the bars to create more space between them\n",
    "    bar_width = 0.18\n",
    "    index = np.arange(len(results_df['Top-N']))\n",
    "    \n",
    "    # Adjust each metric to create slight space between the bars\n",
    "    for i, metric in enumerate(metrics):\n",
    "        bars = plt.bar(index + i * (bar_width + 0.02), results_df[metric], bar_width, label=metric)\n",
    "        \n",
    "        # Add the values on top of each bar, formatted to 2 decimal places\n",
    "        for bar in bars:\n",
    "            yval = bar.get_height()\n",
    "            plt.text(bar.get_x() + bar.get_width()/2.0, yval, f'{yval:.2f}', \n",
    "                     ha='center', va='bottom')  # Display values with 2 decimal places\n",
    "    \n",
    "    # Setting the x-ticks in the middle of the bars\n",
    "    plt.xticks(index + bar_width * (len(metrics) / 2 - 0.5) + 0.03, results_df['Top-N'])\n",
    "    \n",
    "    plt.xlabel('Top-N')\n",
    "    plt.ylabel('Score')\n",
    "    plt.title('BERTScore Evaluation Metrics for Different Top-N Recommendations')\n",
    "    plt.legend()\n",
    "    plt.grid(True, axis='y')\n",
    "    plt.show()\n",
    "\n",
    "# Call the updated function to plot metrics for different Top-N values with 2 decimal places on top of the bars\n",
    "plot_metrics_for_top_n(results_df)\n"
   ]
  },
  {
   "cell_type": "code",
   "execution_count": 35,
   "metadata": {},
   "outputs": [
    {
     "name": "stderr",
     "output_type": "stream",
     "text": [
      "Warning: Baseline not Found for allenai/scibert_scivocab_uncased on en at C:\\Users\\GPR-03\\AppData\\Local\\Packages\\PythonSoftwareFoundation.Python.3.9_qbz5n2kfra8p0\\LocalCache\\local-packages\\Python39\\site-packages\\bert_score\\rescale_baseline/en/allenai/scibert_scivocab_uncased.tsv\n",
      "Warning: Baseline not Found for allenai/scibert_scivocab_uncased on en at C:\\Users\\GPR-03\\AppData\\Local\\Packages\\PythonSoftwareFoundation.Python.3.9_qbz5n2kfra8p0\\LocalCache\\local-packages\\Python39\\site-packages\\bert_score\\rescale_baseline/en/allenai/scibert_scivocab_uncased.tsv\n",
      "Warning: Baseline not Found for allenai/scibert_scivocab_uncased on en at C:\\Users\\GPR-03\\AppData\\Local\\Packages\\PythonSoftwareFoundation.Python.3.9_qbz5n2kfra8p0\\LocalCache\\local-packages\\Python39\\site-packages\\bert_score\\rescale_baseline/en/allenai/scibert_scivocab_uncased.tsv\n",
      "Warning: Baseline not Found for allenai/scibert_scivocab_uncased on en at C:\\Users\\GPR-03\\AppData\\Local\\Packages\\PythonSoftwareFoundation.Python.3.9_qbz5n2kfra8p0\\LocalCache\\local-packages\\Python39\\site-packages\\bert_score\\rescale_baseline/en/allenai/scibert_scivocab_uncased.tsv\n"
     ]
    },
    {
     "data": {
      "image/png": "[encoded data removed]",
      "text/plain": [
       "<Figure size 1200x800 with 1 Axes>"
      ]
     },
     "metadata": {},
     "output_type": "display_data"
    }
   ],
   "source": [
    "# Example user input and input paper ID\n",
    "user_input = \"A Tutorial on Support Vector Machines for Pattern Recognition\"\n",
    "input_paper_title = user_input.strip().lower()  # Example input paper title\n",
    "input_paper_id = df_id[df_id['original_title'].str.strip().str.lower() == input_paper_title]['id'].values[0]  # Get input paper ID based on title\n",
    "\n",
    "# Top-N values to evaluate\n",
    "top_n_values = [25, 50, 75, 100]\n",
    "\n",
    "# Dictionary to store results\n",
    "results = {\n",
    "    \"Top-N\": [],\n",
    "    \"Precision\": [],\n",
    "    \"Recall\": [],\n",
    "    \"F1-Score\": [],\n",
    "    \"Accuracy\": []\n",
    "}\n",
    "\n",
    "# Run evaluations for each top-N value\n",
    "for top_n in top_n_values:\n",
    "    precision, recall, f1, accuracy = recommend_and_evaluate(user_input, input_paper_id, top_n)\n",
    "    \n",
    "    # Store results\n",
    "    results[\"Top-N\"].append(top_n)\n",
    "    results[\"Precision\"].append(precision)\n",
    "    results[\"Recall\"].append(recall)\n",
    "    results[\"F1-Score\"].append(f1)\n",
    "    results[\"Accuracy\"].append(accuracy)\n",
    "\n",
    "# Convert results to DataFrame\n",
    "results_df = pd.DataFrame(results)\n",
    "\n",
    "# Updated function to plot metrics for different Top-N values as bar charts with values showing up to 2 decimal places\n",
    "def plot_metrics_for_top_n(results_df):\n",
    "    metrics = ['Precision', 'Recall', 'F1-Score', 'Accuracy']\n",
    "    plt.figure(figsize=(12, 8))\n",
    "    \n",
    "    # Setting reduced width for the bars to create more space between them\n",
    "    bar_width = 0.18\n",
    "    index = np.arange(len(results_df['Top-N']))\n",
    "    \n",
    "    # Adjust each metric to create slight space between the bars\n",
    "    for i, metric in enumerate(metrics):\n",
    "        bars = plt.bar(index + i * (bar_width + 0.02), results_df[metric], bar_width, label=metric)\n",
    "        \n",
    "        # Add the values on top of each bar, formatted to 2 decimal places\n",
    "        for bar in bars:\n",
    "            yval = bar.get_height()\n",
    "            plt.text(bar.get_x() + bar.get_width()/2.0, yval, f'{yval:.2f}', \n",
    "                     ha='center', va='bottom')  # Display values with 2 decimal places\n",
    "    \n",
    "    # Setting the x-ticks in the middle of the bars\n",
    "    plt.xticks(index + bar_width * (len(metrics) / 2 - 0.5) + 0.03, results_df['Top-N'])\n",
    "    \n",
    "    plt.xlabel('Top-N')\n",
    "    plt.ylabel('Score')\n",
    "    plt.title('BERTScore Evaluation Metrics for Different Top-N Recommendations')\n",
    "    plt.legend()\n",
    "    plt.grid(True, axis='y')\n",
    "    plt.show()\n",
    "\n",
    "# Call the updated function to plot metrics for different Top-N values with 2 decimal places on top of the bars\n",
    "plot_metrics_for_top_n(results_df)\n"
   ]
  },
  {
   "cell_type": "code",
   "execution_count": 36,
   "metadata": {},
   "outputs": [
    {
     "name": "stderr",
     "output_type": "stream",
     "text": [
      "Warning: Baseline not Found for allenai/scibert_scivocab_uncased on en at C:\\Users\\GPR-03\\AppData\\Local\\Packages\\PythonSoftwareFoundation.Python.3.9_qbz5n2kfra8p0\\LocalCache\\local-packages\\Python39\\site-packages\\bert_score\\rescale_baseline/en/allenai/scibert_scivocab_uncased.tsv\n",
      "Warning: Baseline not Found for allenai/scibert_scivocab_uncased on en at C:\\Users\\GPR-03\\AppData\\Local\\Packages\\PythonSoftwareFoundation.Python.3.9_qbz5n2kfra8p0\\LocalCache\\local-packages\\Python39\\site-packages\\bert_score\\rescale_baseline/en/allenai/scibert_scivocab_uncased.tsv\n",
      "Warning: Baseline not Found for allenai/scibert_scivocab_uncased on en at C:\\Users\\GPR-03\\AppData\\Local\\Packages\\PythonSoftwareFoundation.Python.3.9_qbz5n2kfra8p0\\LocalCache\\local-packages\\Python39\\site-packages\\bert_score\\rescale_baseline/en/allenai/scibert_scivocab_uncased.tsv\n",
      "Warning: Baseline not Found for allenai/scibert_scivocab_uncased on en at C:\\Users\\GPR-03\\AppData\\Local\\Packages\\PythonSoftwareFoundation.Python.3.9_qbz5n2kfra8p0\\LocalCache\\local-packages\\Python39\\site-packages\\bert_score\\rescale_baseline/en/allenai/scibert_scivocab_uncased.tsv\n"
     ]
    },
    {
     "data": {
      "image/png": "[encoded data removed]",
      "text/plain": [
       "<Figure size 1200x800 with 1 Axes>"
      ]
     },
     "metadata": {},
     "output_type": "display_data"
    }
   ],
   "source": [
    "\n",
    "# Example user input and input paper ID\n",
    "user_input = \"Identification and control of dynamical systems using neural networks\"\n",
    "input_paper_title = user_input.strip().lower()  # Example input paper title\n",
    "input_paper_id = df_id[df_id['original_title'].str.strip().str.lower() == input_paper_title]['id'].values[0]  # Get input paper ID based on title\n",
    "\n",
    "# Top-N values to evaluate\n",
    "top_n_values = [25, 50, 75, 100]\n",
    "\n",
    "# Dictionary to store results\n",
    "results = {\n",
    "    \"Top-N\": [],\n",
    "    \"Precision\": [],\n",
    "    \"Recall\": [],\n",
    "    \"F1-Score\": [],\n",
    "    \"Accuracy\": []\n",
    "}\n",
    "\n",
    "# Run evaluations for each top-N value\n",
    "for top_n in top_n_values:\n",
    "    precision, recall, f1, accuracy = recommend_and_evaluate(user_input, input_paper_id, top_n)\n",
    "    \n",
    "    # Store results\n",
    "    results[\"Top-N\"].append(top_n)\n",
    "    results[\"Precision\"].append(precision)\n",
    "    results[\"Recall\"].append(recall)\n",
    "    results[\"F1-Score\"].append(f1)\n",
    "    results[\"Accuracy\"].append(accuracy)\n",
    "\n",
    "# Convert results to DataFrame\n",
    "results_df = pd.DataFrame(results)\n",
    "\n",
    "# Updated function to plot metrics for different Top-N values as bar charts with values showing up to 2 decimal places\n",
    "def plot_metrics_for_top_n(results_df):\n",
    "    metrics = ['Precision', 'Recall', 'F1-Score', 'Accuracy']\n",
    "    plt.figure(figsize=(12, 8))\n",
    "    \n",
    "    # Setting reduced width for the bars to create more space between them\n",
    "    bar_width = 0.18\n",
    "    index = np.arange(len(results_df['Top-N']))\n",
    "    \n",
    "    # Adjust each metric to create slight space between the bars\n",
    "    for i, metric in enumerate(metrics):\n",
    "        bars = plt.bar(index + i * (bar_width + 0.02), results_df[metric], bar_width, label=metric)\n",
    "        \n",
    "        # Add the values on top of each bar, formatted to 2 decimal places\n",
    "        for bar in bars:\n",
    "            yval = bar.get_height()\n",
    "            plt.text(bar.get_x() + bar.get_width()/2.0, yval, f'{yval:.2f}', \n",
    "                     ha='center', va='bottom')  # Display values with 2 decimal places\n",
    "    \n",
    "    # Setting the x-ticks in the middle of the bars\n",
    "    plt.xticks(index + bar_width * (len(metrics) / 2 - 0.5) + 0.03, results_df['Top-N'])\n",
    "    \n",
    "    plt.xlabel('Top-N')\n",
    "    plt.ylabel('Score')\n",
    "    plt.title('BERTScore Evaluation Metrics for Different Top-N Recommendations')\n",
    "    plt.legend()\n",
    "    plt.grid(True, axis='y')\n",
    "    plt.show()\n",
    "\n",
    "# Call the updated function to plot metrics for different Top-N values with 2 decimal places on top of the bars\n",
    "plot_metrics_for_top_n(results_df)\n"
   ]
  },
  {
   "cell_type": "code",
   "execution_count": null,
   "metadata": {},
   "outputs": [],
   "source": [
    "# Example user input and input paper ID\n",
    "user_input = \"Gene Selection for Cancer Classification using Support Vector Machines\"\n",
    "input_paper_title = user_input.strip().lower()  # Example input paper title\n",
    "input_paper_id = df_id[df_id['original_title'].str.strip().str.lower() == input_paper_title]['id'].values[0]  # Get input paper ID based on title\n",
    "\n",
    "# Top-N values to evaluate\n",
    "top_n_values = [25, 50, 75, 100]\n",
    "\n",
    "# Dictionary to store results\n",
    "results = {\n",
    "    \"Top-N\": [],\n",
    "    \"Precision\": [],\n",
    "    \"Recall\": [],\n",
    "    \"F1-Score\": [],\n",
    "    \"Accuracy\": []\n",
    "}\n",
    "\n",
    "# Run evaluations for each top-N value\n",
    "for top_n in top_n_values:\n",
    "    precision, recall, f1, accuracy = recommend_and_evaluate(user_input, input_paper_id, top_n)\n",
    "    \n",
    "    # Store results\n",
    "    results[\"Top-N\"].append(top_n)\n",
    "    results[\"Precision\"].append(precision)\n",
    "    results[\"Recall\"].append(recall)\n",
    "    results[\"F1-Score\"].append(f1)\n",
    "    results[\"Accuracy\"].append(accuracy)\n",
    "\n",
    "# Convert results to DataFrame\n",
    "results_df = pd.DataFrame(results)\n",
    "\n",
    "# Updated function to plot metrics for different Top-N values as bar charts with values showing up to 2 decimal places\n",
    "def plot_metrics_for_top_n(results_df):\n",
    "    metrics = ['Precision', 'Recall', 'F1-Score', 'Accuracy']\n",
    "    plt.figure(figsize=(12, 8))\n",
    "    \n",
    "    # Setting reduced width for the bars to create more space between them\n",
    "    bar_width = 0.18\n",
    "    index = np.arange(len(results_df['Top-N']))\n",
    "    \n",
    "    # Adjust each metric to create slight space between the bars\n",
    "    for i, metric in enumerate(metrics):\n",
    "        bars = plt.bar(index + i * (bar_width + 0.02), results_df[metric], bar_width, label=metric)\n",
    "        \n",
    "        # Add the values on top of each bar, formatted to 2 decimal places\n",
    "        for bar in bars:\n",
    "            yval = bar.get_height()\n",
    "            plt.text(bar.get_x() + bar.get_width()/2.0, yval, f'{yval:.2f}', \n",
    "                     ha='center', va='bottom')  # Display values with 2 decimal places\n",
    "    \n",
    "    # Setting the x-ticks in the middle of the bars\n",
    "    plt.xticks(index + bar_width * (len(metrics) / 2 - 0.5) + 0.03, results_df['Top-N'])\n",
    "    \n",
    "    plt.xlabel('Top-N')\n",
    "    plt.ylabel('Score')\n",
    "    plt.title('BERTScore Evaluation Metrics for Different Top-N Recommendations')\n",
    "    plt.legend()\n",
    "    plt.grid(True, axis='y')\n",
    "    plt.show()\n",
    "\n",
    "# Call the updated function to plot metrics for different Top-N values with 2 decimal places on top of the bars\n",
    "plot_metrics_for_top_n(results_df)\n"
   ]
  },
  {
   "cell_type": "code",
   "execution_count": null,
   "metadata": {},
   "outputs": [],
   "source": [
    "# Example user input and input paper ID\n",
    "user_input = \"LIBSVM: A library for support vector machines\"\n",
    "input_paper_title = user_input.strip().lower()  # Example input paper title\n",
    "input_paper_id = df_id[df_id['original_title'].str.strip().str.lower() == input_paper_title]['id'].values[0]  # Get input paper ID based on title\n",
    "\n",
    "# Top-N values to evaluate\n",
    "top_n_values = [25, 50, 75, 100]\n",
    "\n",
    "# Dictionary to store results\n",
    "results = {\n",
    "    \"Top-N\": [],\n",
    "    \"Precision\": [],\n",
    "    \"Recall\": [],\n",
    "    \"F1-Score\": [],\n",
    "    \"Accuracy\": []\n",
    "}\n",
    "\n",
    "# Run evaluations for each top-N value\n",
    "for top_n in top_n_values:\n",
    "    precision, recall, f1, accuracy = recommend_and_evaluate(user_input, input_paper_id, top_n)\n",
    "    \n",
    "    # Store results\n",
    "    results[\"Top-N\"].append(top_n)\n",
    "    results[\"Precision\"].append(precision)\n",
    "    results[\"Recall\"].append(recall)\n",
    "    results[\"F1-Score\"].append(f1)\n",
    "    results[\"Accuracy\"].append(accuracy)\n",
    "\n",
    "# Convert results to DataFrame\n",
    "results_df = pd.DataFrame(results)\n",
    "\n",
    "# Updated function to plot metrics for different Top-N values as bar charts with values showing up to 2 decimal places\n",
    "def plot_metrics_for_top_n(results_df):\n",
    "    metrics = ['Precision', 'Recall', 'F1-Score', 'Accuracy']\n",
    "    plt.figure(figsize=(12, 8))\n",
    "    \n",
    "    # Setting reduced width for the bars to create more space between them\n",
    "    bar_width = 0.18\n",
    "    index = np.arange(len(results_df['Top-N']))\n",
    "    \n",
    "    # Adjust each metric to create slight space between the bars\n",
    "    for i, metric in enumerate(metrics):\n",
    "        bars = plt.bar(index + i * (bar_width + 0.02), results_df[metric], bar_width, label=metric)\n",
    "        \n",
    "        # Add the values on top of each bar, formatted to 2 decimal places\n",
    "        for bar in bars:\n",
    "            yval = bar.get_height()\n",
    "            plt.text(bar.get_x() + bar.get_width()/2.0, yval, f'{yval:.2f}', \n",
    "                     ha='center', va='bottom')  # Display values with 2 decimal places\n",
    "    \n",
    "    # Setting the x-ticks in the middle of the bars\n",
    "    plt.xticks(index + bar_width * (len(metrics) / 2 - 0.5) + 0.03, results_df['Top-N'])\n",
    "    \n",
    "    plt.xlabel('Top-N')\n",
    "    plt.ylabel('Score')\n",
    "    plt.title('BERTScore Evaluation Metrics for Different Top-N Recommendations')\n",
    "    plt.legend()\n",
    "    plt.grid(True, axis='y')\n",
    "    plt.show()\n",
    "\n",
    "# Call the updated function to plot metrics for different Top-N values with 2 decimal places on top of the bars\n",
    "plot_metrics_for_top_n(results_df)\n"
   ]
  },
  {
   "cell_type": "code",
   "execution_count": 1,
   "metadata": {},
   "outputs": [
    {
     "data": {
      "image/png": "[encoded data removed]",
      "text/plain": [
       "<Figure size 1000x600 with 1 Axes>"
      ]
     },
     "metadata": {},
     "output_type": "display_data"
    }
   ],
   "source": [
    "import matplotlib.pyplot as plt\n",
    "import numpy as np\n",
    "\n",
    "# Input data\n",
    "results = {\n",
    "    'Recommendations': [25, 50, 75, 100],\n",
    "    'Accuracy': [\n",
    "        [0.46, 0.45, 0.47, 0.44, 0.47],\n",
    "        [0.46, 0.45, 0.46, 0.44, 0.47],\n",
    "        [0.46, 0.45, 0.46, 0.44, 0.46],\n",
    "        [0.45, 0.44, 0.46, 0.43, 0.46]\n",
    "    ],\n",
    "    'Precision': [\n",
    "        [0.40, 0.39, 0.39, 0.40, 0.40],\n",
    "        [0.40, 0.39, 0.39, 0.40, 0.40],\n",
    "        [0.40, 0.39, 0.39, 0.39, 0.39],\n",
    "        [0.40, 0.39, 0.39, 0.39, 0.39]\n",
    "    ],\n",
    "    'Recall': [\n",
    "        [0.51, 0.51, 0.54, 0.48, 0.55],\n",
    "        [0.51, 0.50, 0.54, 0.48, 0.54],\n",
    "        [0.51, 0.50, 0.53, 0.48, 0.53],\n",
    "        [0.51, 0.50, 0.53, 0.48, 0.53]\n",
    "    ],\n",
    "    'F1_Score': [\n",
    "        [0.45, 0.44, 0.45, 0.44, 0.46],\n",
    "        [0.45, 0.44, 0.55, 0.44, 0.45],\n",
    "        [0.45, 0.44, 0.45, 0.43, 0.45],\n",
    "        [0.45, 0.44, 0.45, 0.43, 0.45]\n",
    "    ]\n",
    "}\n",
    "\n",
    "# Compute averages for each metric at each recommendation level\n",
    "averaged_results = {metric: [np.mean(values) for values in metrics] for metric, metrics in results.items() if metric != 'Recommendations'}\n",
    "\n",
    "# Define colors and order\n",
    "metrics_order = ['Precision', 'F1_Score', 'Accuracy', 'Recall']\n",
    "colors = {'Accuracy': 'blue', 'Precision': 'orange', 'Recall': 'green', 'F1_Score': 'red'}\n",
    "\n",
    "# Plotting the bars\n",
    "fig, ax = plt.subplots(figsize=(10, 6))\n",
    "x = np.arange(len(results['Recommendations']))\n",
    "width = 0.2  # Width of each bar\n",
    "\n",
    "# Plot bars for each recommendation level\n",
    "for i, rec in enumerate(results['Recommendations']):\n",
    "    for j, metric in enumerate(metrics_order):\n",
    "        value = averaged_results[metric][i]\n",
    "        bar = ax.bar(x[i] + j * width, value, width, label=metric if i == 0 else \"\", color=colors[metric])\n",
    "\n",
    "        # Add labels above each bar\n",
    "        ax.text(x[i] + j * width, value + 0.005, f\"{value:.2f}\", ha='center', fontsize=8)\n",
    "\n",
    "# Set x-axis labels and title\n",
    "ax.set_xticks(x + width * 1.5)\n",
    "ax.set_xticklabels(results['Recommendations'])\n",
    "ax.set_xlabel(\"Number of Recommendations\")\n",
    "ax.set_ylabel(\"Score\")\n",
    "ax.set_title(\"Cosine Similarity Using LLM (scibert) With Pre-Processising(Stemming)\")\n",
    "ax.set_ylim(0, 100)\n",
    "ax.legend()\n",
    "\n",
    "plt.tight_layout()\n",
    "plt.show()\n"
   ]
  },
  {
   "cell_type": "code",
   "execution_count": null,
   "metadata": {},
   "outputs": [
    {
     "data": {
      "image/png": "[encoded data removed]",
      "text/plain": [
       "<Figure size 1000x800 with 1 Axes>"
      ]
     },
     "metadata": {},
     "output_type": "display_data"
    },
    {
     "ename": "",
     "evalue": "",
     "output_type": "error",
     "traceback": [
      "\u001b[1;31mThe Kernel crashed while executing code in the current cell or a previous cell. \n",
      "\u001b[1;31mPlease review the code in the cell(s) to identify a possible cause of the failure. \n",
      "\u001b[1;31mClick <a href='https://aka.ms/vscodeJupyterKernelCrash'>here</a> for more info. \n",
      "\u001b[1;31mView Jupyter <a href='command:jupyter.viewOutput'>log</a> for further details."
     ]
    }
   ],
   "source": [
    "import matplotlib.pyplot as plt\n",
    "import numpy as np\n",
    "\n",
    "# Input data\n",
    "results = {\n",
    "    'Recommendations': [25, 50, 75, 100],\n",
    "    'Accuracy': [\n",
    "        [0.46, 0.45, 0.47, 0.44, 0.47],\n",
    "        [0.46, 0.45, 0.46, 0.44, 0.47],\n",
    "        [0.46, 0.45, 0.46, 0.44, 0.46],\n",
    "        [0.45, 0.44, 0.46, 0.43, 0.46]\n",
    "    ],\n",
    "    'Precision': [\n",
    "        [0.40, 0.39, 0.39, 0.40, 0.40],\n",
    "        [0.40, 0.39, 0.39, 0.40, 0.40],\n",
    "        [0.40, 0.39, 0.39, 0.39, 0.39],\n",
    "        [0.40, 0.39, 0.39, 0.39, 0.39]\n",
    "    ],\n",
    "    'Recall': [\n",
    "        [0.51, 0.51, 0.54, 0.48, 0.55],\n",
    "        [0.51, 0.50, 0.54, 0.48, 0.54],\n",
    "        [0.51, 0.50, 0.53, 0.48, 0.53],\n",
    "        [0.51, 0.50, 0.53, 0.48, 0.53]\n",
    "    ],\n",
    "    'F1_Score': [\n",
    "        [0.45, 0.44, 0.45, 0.44, 0.46],\n",
    "        [0.45, 0.44, 0.55, 0.44, 0.45],\n",
    "        [0.45, 0.44, 0.45, 0.43, 0.45],\n",
    "        [0.45, 0.44, 0.45, 0.43, 0.45]\n",
    "    ]\n",
    "}\n",
    "\n",
    "# Compute averages for each metric at each recommendation level and convert to percentages\n",
    "averaged_results = {metric: [np.mean(values) * 100 for values in metrics] for metric, metrics in results.items() if metric != 'Recommendations'}\n",
    "\n",
    "# Define colors and order\n",
    "metrics_order = ['Precision', 'F1_Score', 'Accuracy', 'Recall']\n",
    "colors = {'Accuracy': 'blue', 'Precision': 'orange', 'Recall': 'green', 'F1_Score': 'red'}\n",
    "\n",
    "# Plotting the bars\n",
    "fig, ax = plt.subplots(figsize=(10, 8))\n",
    "x = np.arange(len(results['Recommendations']))\n",
    "width = 0.2  # Width of each bar\n",
    "\n",
    "# Plot bars for each recommendation level\n",
    "for i, rec in enumerate(results['Recommendations']):\n",
    "    for j, metric in enumerate(metrics_order):\n",
    "        value = averaged_results[metric][i]\n",
    "        bar = ax.bar(x[i] + j * width, value, width, label=metric if i == 0 else \"\", color=colors[metric])\n",
    "\n",
    "        # Add labels above each bar\n",
    "        ax.text(x[i] + j * width, value + 1, f\"{value:.1f}%\", ha='center', fontsize=10)\n",
    "\n",
    "# Set x-axis labels and title\n",
    "ax.set_xticks(x + width * 0.05)\n",
    "ax.set_xticklabels(results['Recommendations'])\n",
    "ax.set_xlabel(\"Number of Recommendations\", fontsize=12)\n",
    "ax.set_ylabel(\"Score (%)\", fontsize=12)\n",
    "ax.set_title(\"Cosine Similarity Using LLM (SciBERT) With Preprocessing (Stemming)\", fontsize=14, fontweight='bold')\n",
    "\n",
    "# Set y-axis scale from 0 to 100\n",
    "ax.set_ylim(0, 100)\n",
    "\n",
    "# Improve legend display\n",
    "ax.legend(fontsize=10, loc=\"upper left\")\n",
    "\n",
    "plt.tight_layout()\n",
    "plt.show()\n"
   ]
  },
  {
   "cell_type": "code",
   "execution_count": null,
   "metadata": {},
   "outputs": [],
   "source": []
  }
 ],
 "metadata": {
  "accelerator": "TPU",
  "colab": {
   "gpuType": "V28",
   "provenance": []
  },
  "kernelspec": {
   "display_name": "Python 3",
   "name": "python3"
  },
  "language_info": {
   "codemirror_mode": {
    "name": "ipython",
    "version": 3
   },
   "file_extension": ".py",
   "mimetype": "text/x-python",
   "name": "python",
   "nbconvert_exporter": "python",
   "pygments_lexer": "ipython3",
   "version": "3.9.7"
  }
 },
 "nbformat": 4,
 "nbformat_minor": 0
}
