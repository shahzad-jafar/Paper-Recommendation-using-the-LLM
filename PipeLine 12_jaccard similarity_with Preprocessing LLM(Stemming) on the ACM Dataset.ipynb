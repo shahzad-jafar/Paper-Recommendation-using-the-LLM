{
 "cells": [
  {
   "cell_type": "code",
   "execution_count": 1,
   "metadata": {
    "id": "UB7HeOBLKZrR"
   },
   "outputs": [],
   "source": [
    "\n",
    "#from pymongo import MongoClient\n",
    "import pandas as pd\n",
    "from nltk.tokenize import word_tokenize\n",
    "from nltk.corpus import stopwords\n",
    "from nltk.corpus import wordnet\n",
    "from nltk.stem import PorterStemmer, WordNetLemmatizer\n",
    "import string\n",
    "import nltk\n",
    "import re\n",
    "#from tensorflow.keras import layers\n",
    "#from tensorflow import keras\n",
    "#import tensorflow as tf\n",
    "\n",
    "from sklearn.model_selection import train_test_split\n",
    "\n",
    "from ast import literal_eval\n",
    "\n",
    "import matplotlib.pyplot as plt\n",
    "import numpy as np"
   ]
  },
  {
   "cell_type": "code",
   "execution_count": 3,
   "metadata": {},
   "outputs": [
    {
     "name": "stdout",
     "output_type": "stream",
     "text": [
      "(1000000, 8)\n"
     ]
    },
    {
     "data": {
      "text/html": [
       "<div>\n",
       "<style scoped>\n",
       "    .dataframe tbody tr th:only-of-type {\n",
       "        vertical-align: middle;\n",
       "    }\n",
       "\n",
       "    .dataframe tbody tr th {\n",
       "        vertical-align: top;\n",
       "    }\n",
       "\n",
       "    .dataframe thead th {\n",
       "        text-align: right;\n",
       "    }\n",
       "</style>\n",
       "<table border=\"1\" class=\"dataframe\">\n",
       "  <thead>\n",
       "    <tr style=\"text-align: right;\">\n",
       "      <th></th>\n",
       "      <th>abstract</th>\n",
       "      <th>authors</th>\n",
       "      <th>n_citation</th>\n",
       "      <th>references</th>\n",
       "      <th>title</th>\n",
       "      <th>venue</th>\n",
       "      <th>year</th>\n",
       "      <th>id</th>\n",
       "    </tr>\n",
       "  </thead>\n",
       "  <tbody>\n",
       "    <tr>\n",
       "      <th>0</th>\n",
       "      <td>The purpose of this study is to develop a lear...</td>\n",
       "      <td>[Makoto Satoh, Ryo Muramatsu, Mizue Kayama, Ka...</td>\n",
       "      <td>0</td>\n",
       "      <td>[51c7e02e-f5ed-431a-8cf5-f761f266d4be, 69b625b...</td>\n",
       "      <td>Preliminary Design of a Network Protocol Learn...</td>\n",
       "      <td>international conference on human-computer int...</td>\n",
       "      <td>2013</td>\n",
       "      <td>00127ee2-cb05-48ce-bc49-9de556b93346</td>\n",
       "    </tr>\n",
       "    <tr>\n",
       "      <th>1</th>\n",
       "      <td>This paper describes the design and implementa...</td>\n",
       "      <td>[Gareth Beale, Graeme Earl]</td>\n",
       "      <td>50</td>\n",
       "      <td>[10482dd3-4642-4193-842f-85f3b70fcf65, 3133714...</td>\n",
       "      <td>A methodology for the physically accurate visu...</td>\n",
       "      <td>visual analytics science and technology</td>\n",
       "      <td>2011</td>\n",
       "      <td>001c58d3-26ad-46b3-ab3a-c1e557d16821</td>\n",
       "    </tr>\n",
       "    <tr>\n",
       "      <th>2</th>\n",
       "      <td>This article applied GARCH model instead AR or...</td>\n",
       "      <td>[Altaf Hossain, Faisal Zaman, Mohammed Nasser,...</td>\n",
       "      <td>50</td>\n",
       "      <td>[2d84c0f2-e656-4ce7-b018-90eda1c132fe, a083a1b...</td>\n",
       "      <td>Comparison of GARCH, Neural Network and Suppor...</td>\n",
       "      <td>pattern recognition and machine intelligence</td>\n",
       "      <td>2009</td>\n",
       "      <td>001c8744-73c4-4b04-9364-22d31a10dbf1</td>\n",
       "    </tr>\n",
       "    <tr>\n",
       "      <th>3</th>\n",
       "      <td>NaN</td>\n",
       "      <td>[Jea-Bum Park, Byungmok Kim, Jian Shen, Sun-Yo...</td>\n",
       "      <td>0</td>\n",
       "      <td>[8c78e4b0-632b-4293-b491-85b1976675e6, 9cdc54f...</td>\n",
       "      <td>Development of Remote Monitoring and Control D...</td>\n",
       "      <td></td>\n",
       "      <td>2011</td>\n",
       "      <td>00338203-9eb3-40c5-9f31-cbac73a519ec</td>\n",
       "    </tr>\n",
       "    <tr>\n",
       "      <th>4</th>\n",
       "      <td>NaN</td>\n",
       "      <td>[Giovanna Guerrini, Isabella Merlo]</td>\n",
       "      <td>2</td>\n",
       "      <td>NaN</td>\n",
       "      <td>Reasonig about Set-Oriented Methods in Object ...</td>\n",
       "      <td></td>\n",
       "      <td>1998</td>\n",
       "      <td>0040b022-1472-4f70-a753-74832df65266</td>\n",
       "    </tr>\n",
       "  </tbody>\n",
       "</table>\n",
       "</div>"
      ],
      "text/plain": [
       "                                            abstract  \\\n",
       "0  The purpose of this study is to develop a lear...   \n",
       "1  This paper describes the design and implementa...   \n",
       "2  This article applied GARCH model instead AR or...   \n",
       "3                                                NaN   \n",
       "4                                                NaN   \n",
       "\n",
       "                                             authors  n_citation  \\\n",
       "0  [Makoto Satoh, Ryo Muramatsu, Mizue Kayama, Ka...           0   \n",
       "1                        [Gareth Beale, Graeme Earl]          50   \n",
       "2  [Altaf Hossain, Faisal Zaman, Mohammed Nasser,...          50   \n",
       "3  [Jea-Bum Park, Byungmok Kim, Jian Shen, Sun-Yo...           0   \n",
       "4                [Giovanna Guerrini, Isabella Merlo]           2   \n",
       "\n",
       "                                          references  \\\n",
       "0  [51c7e02e-f5ed-431a-8cf5-f761f266d4be, 69b625b...   \n",
       "1  [10482dd3-4642-4193-842f-85f3b70fcf65, 3133714...   \n",
       "2  [2d84c0f2-e656-4ce7-b018-90eda1c132fe, a083a1b...   \n",
       "3  [8c78e4b0-632b-4293-b491-85b1976675e6, 9cdc54f...   \n",
       "4                                                NaN   \n",
       "\n",
       "                                               title  \\\n",
       "0  Preliminary Design of a Network Protocol Learn...   \n",
       "1  A methodology for the physically accurate visu...   \n",
       "2  Comparison of GARCH, Neural Network and Suppor...   \n",
       "3  Development of Remote Monitoring and Control D...   \n",
       "4  Reasonig about Set-Oriented Methods in Object ...   \n",
       "\n",
       "                                               venue  year  \\\n",
       "0  international conference on human-computer int...  2013   \n",
       "1            visual analytics science and technology  2011   \n",
       "2       pattern recognition and machine intelligence  2009   \n",
       "3                                                     2011   \n",
       "4                                                     1998   \n",
       "\n",
       "                                     id  \n",
       "0  00127ee2-cb05-48ce-bc49-9de556b93346  \n",
       "1  001c58d3-26ad-46b3-ab3a-c1e557d16821  \n",
       "2  001c8744-73c4-4b04-9364-22d31a10dbf1  \n",
       "3  00338203-9eb3-40c5-9f31-cbac73a519ec  \n",
       "4  0040b022-1472-4f70-a753-74832df65266  "
      ]
     },
     "execution_count": 3,
     "metadata": {},
     "output_type": "execute_result"
    }
   ],
   "source": [
    "file_paths=[\"dblp-ref-0.json\"]\n",
    "# df = pd.DataFrame(list(cursor)) \n",
    "dfs = [pd.read_json(path, lines=True) for path in file_paths]\n",
    "df = pd.concat(dfs, ignore_index=True)\n",
    "\n",
    "# Show basic info\n",
    "print(df.shape)\n",
    "\n",
    "df.head()"
   ]
  },
  {
   "cell_type": "code",
   "execution_count": 4,
   "metadata": {},
   "outputs": [],
   "source": [
    "#df.to_csv(\"final_dataset.csv\")"
   ]
  },
  {
   "cell_type": "code",
   "execution_count": 5,
   "metadata": {},
   "outputs": [],
   "source": [
    "df=df[['id','title','abstract','authors','n_citation','year','references','venue']]"
   ]
  },
  {
   "cell_type": "code",
   "execution_count": 6,
   "metadata": {
    "colab": {
     "base_uri": "https://localhost:8080/",
     "height": 310
    },
    "id": "ITuKWgvBluzX",
    "outputId": "353d194e-3484-4d40-bd0e-a3c6e4bee198"
   },
   "outputs": [
    {
     "data": {
      "text/html": [
       "<div>\n",
       "<style scoped>\n",
       "    .dataframe tbody tr th:only-of-type {\n",
       "        vertical-align: middle;\n",
       "    }\n",
       "\n",
       "    .dataframe tbody tr th {\n",
       "        vertical-align: top;\n",
       "    }\n",
       "\n",
       "    .dataframe thead th {\n",
       "        text-align: right;\n",
       "    }\n",
       "</style>\n",
       "<table border=\"1\" class=\"dataframe\">\n",
       "  <thead>\n",
       "    <tr style=\"text-align: right;\">\n",
       "      <th></th>\n",
       "      <th>id</th>\n",
       "      <th>title</th>\n",
       "      <th>abstract</th>\n",
       "      <th>authors</th>\n",
       "      <th>n_citation</th>\n",
       "      <th>year</th>\n",
       "      <th>references</th>\n",
       "      <th>venue</th>\n",
       "    </tr>\n",
       "  </thead>\n",
       "  <tbody>\n",
       "    <tr>\n",
       "      <th>0</th>\n",
       "      <td>00127ee2-cb05-48ce-bc49-9de556b93346</td>\n",
       "      <td>Preliminary Design of a Network Protocol Learn...</td>\n",
       "      <td>The purpose of this study is to develop a lear...</td>\n",
       "      <td>[Makoto Satoh, Ryo Muramatsu, Mizue Kayama, Ka...</td>\n",
       "      <td>0</td>\n",
       "      <td>2013</td>\n",
       "      <td>[51c7e02e-f5ed-431a-8cf5-f761f266d4be, 69b625b...</td>\n",
       "      <td>international conference on human-computer int...</td>\n",
       "    </tr>\n",
       "    <tr>\n",
       "      <th>1</th>\n",
       "      <td>001c58d3-26ad-46b3-ab3a-c1e557d16821</td>\n",
       "      <td>A methodology for the physically accurate visu...</td>\n",
       "      <td>This paper describes the design and implementa...</td>\n",
       "      <td>[Gareth Beale, Graeme Earl]</td>\n",
       "      <td>50</td>\n",
       "      <td>2011</td>\n",
       "      <td>[10482dd3-4642-4193-842f-85f3b70fcf65, 3133714...</td>\n",
       "      <td>visual analytics science and technology</td>\n",
       "    </tr>\n",
       "    <tr>\n",
       "      <th>2</th>\n",
       "      <td>001c8744-73c4-4b04-9364-22d31a10dbf1</td>\n",
       "      <td>Comparison of GARCH, Neural Network and Suppor...</td>\n",
       "      <td>This article applied GARCH model instead AR or...</td>\n",
       "      <td>[Altaf Hossain, Faisal Zaman, Mohammed Nasser,...</td>\n",
       "      <td>50</td>\n",
       "      <td>2009</td>\n",
       "      <td>[2d84c0f2-e656-4ce7-b018-90eda1c132fe, a083a1b...</td>\n",
       "      <td>pattern recognition and machine intelligence</td>\n",
       "    </tr>\n",
       "    <tr>\n",
       "      <th>3</th>\n",
       "      <td>00338203-9eb3-40c5-9f31-cbac73a519ec</td>\n",
       "      <td>Development of Remote Monitoring and Control D...</td>\n",
       "      <td>NaN</td>\n",
       "      <td>[Jea-Bum Park, Byungmok Kim, Jian Shen, Sun-Yo...</td>\n",
       "      <td>0</td>\n",
       "      <td>2011</td>\n",
       "      <td>[8c78e4b0-632b-4293-b491-85b1976675e6, 9cdc54f...</td>\n",
       "      <td></td>\n",
       "    </tr>\n",
       "    <tr>\n",
       "      <th>4</th>\n",
       "      <td>0040b022-1472-4f70-a753-74832df65266</td>\n",
       "      <td>Reasonig about Set-Oriented Methods in Object ...</td>\n",
       "      <td>NaN</td>\n",
       "      <td>[Giovanna Guerrini, Isabella Merlo]</td>\n",
       "      <td>2</td>\n",
       "      <td>1998</td>\n",
       "      <td>NaN</td>\n",
       "      <td></td>\n",
       "    </tr>\n",
       "  </tbody>\n",
       "</table>\n",
       "</div>"
      ],
      "text/plain": [
       "                                     id  \\\n",
       "0  00127ee2-cb05-48ce-bc49-9de556b93346   \n",
       "1  001c58d3-26ad-46b3-ab3a-c1e557d16821   \n",
       "2  001c8744-73c4-4b04-9364-22d31a10dbf1   \n",
       "3  00338203-9eb3-40c5-9f31-cbac73a519ec   \n",
       "4  0040b022-1472-4f70-a753-74832df65266   \n",
       "\n",
       "                                               title  \\\n",
       "0  Preliminary Design of a Network Protocol Learn...   \n",
       "1  A methodology for the physically accurate visu...   \n",
       "2  Comparison of GARCH, Neural Network and Suppor...   \n",
       "3  Development of Remote Monitoring and Control D...   \n",
       "4  Reasonig about Set-Oriented Methods in Object ...   \n",
       "\n",
       "                                            abstract  \\\n",
       "0  The purpose of this study is to develop a lear...   \n",
       "1  This paper describes the design and implementa...   \n",
       "2  This article applied GARCH model instead AR or...   \n",
       "3                                                NaN   \n",
       "4                                                NaN   \n",
       "\n",
       "                                             authors  n_citation  year  \\\n",
       "0  [Makoto Satoh, Ryo Muramatsu, Mizue Kayama, Ka...           0  2013   \n",
       "1                        [Gareth Beale, Graeme Earl]          50  2011   \n",
       "2  [Altaf Hossain, Faisal Zaman, Mohammed Nasser,...          50  2009   \n",
       "3  [Jea-Bum Park, Byungmok Kim, Jian Shen, Sun-Yo...           0  2011   \n",
       "4                [Giovanna Guerrini, Isabella Merlo]           2  1998   \n",
       "\n",
       "                                          references  \\\n",
       "0  [51c7e02e-f5ed-431a-8cf5-f761f266d4be, 69b625b...   \n",
       "1  [10482dd3-4642-4193-842f-85f3b70fcf65, 3133714...   \n",
       "2  [2d84c0f2-e656-4ce7-b018-90eda1c132fe, a083a1b...   \n",
       "3  [8c78e4b0-632b-4293-b491-85b1976675e6, 9cdc54f...   \n",
       "4                                                NaN   \n",
       "\n",
       "                                               venue  \n",
       "0  international conference on human-computer int...  \n",
       "1            visual analytics science and technology  \n",
       "2       pattern recognition and machine intelligence  \n",
       "3                                                     \n",
       "4                                                     "
      ]
     },
     "execution_count": 6,
     "metadata": {},
     "output_type": "execute_result"
    }
   ],
   "source": [
    "df.head()"
   ]
  },
  {
   "cell_type": "code",
   "execution_count": 7,
   "metadata": {
    "id": "UIN_Q--4KZrm"
   },
   "outputs": [],
   "source": [
    "df_null=df.copy()"
   ]
  },
  {
   "cell_type": "code",
   "execution_count": 8,
   "metadata": {},
   "outputs": [],
   "source": [
    "df_null = df_null[\n",
    "    df_null['references'].notna() & \n",
    "    (df_null['references'] != '') & \n",
    "    (df_null['references'].apply(lambda x: x != []))\n",
    "]"
   ]
  },
  {
   "cell_type": "code",
   "execution_count": 9,
   "metadata": {
    "colab": {
     "base_uri": "https://localhost:8080/",
     "height": 272
    },
    "id": "29Yz2H0iKZro",
    "outputId": "d90b000b-482d-4313-b058-7b420be1ed94"
   },
   "outputs": [
    {
     "data": {
      "text/plain": [
       "id                 0\n",
       "title              0\n",
       "abstract      135293\n",
       "authors            0\n",
       "n_citation         0\n",
       "year               0\n",
       "references         0\n",
       "venue              0\n",
       "dtype: int64"
      ]
     },
     "execution_count": 9,
     "metadata": {},
     "output_type": "execute_result"
    }
   ],
   "source": [
    "df_null.isnull().sum()"
   ]
  },
  {
   "cell_type": "code",
   "execution_count": 10,
   "metadata": {
    "id": "rp8U3uVGKZrq"
   },
   "outputs": [],
   "source": [
    "df_null.dropna(inplace=True)"
   ]
  },
  {
   "cell_type": "code",
   "execution_count": 11,
   "metadata": {
    "colab": {
     "base_uri": "https://localhost:8080/"
    },
    "id": "N_eTAQyzKZrr",
    "outputId": "d1759518-75dd-44f2-d8e7-c431c8dda057"
   },
   "outputs": [
    {
     "data": {
      "text/plain": [
       "(655479, 8)"
      ]
     },
     "execution_count": 11,
     "metadata": {},
     "output_type": "execute_result"
    }
   ],
   "source": [
    "df_null.shape"
   ]
  },
  {
   "cell_type": "code",
   "execution_count": 12,
   "metadata": {
    "id": "ue6LxwUbKZru"
   },
   "outputs": [],
   "source": [
    "df_null.drop_duplicates(subset=['id'], keep='first', inplace=True)\n",
    "df_null.reset_index(drop= True,inplace = True)"
   ]
  },
  {
   "cell_type": "code",
   "execution_count": 13,
   "metadata": {
    "id": "pJ8wBHghKZrv"
   },
   "outputs": [],
   "source": [
    "#df_id=df_null[['id','title','abstract','n_citation','references']]\n",
    "df_id = df_null[['id', 'title', 'abstract', 'n_citation', 'references']]#.sort_values(by='n_citation', ascending=False)\n",
    "df_references=df_null[['id','references']]"
   ]
  },
  {
   "cell_type": "code",
   "execution_count": 14,
   "metadata": {},
   "outputs": [
    {
     "name": "stderr",
     "output_type": "stream",
     "text": [
      "C:\\Users\\GPR-03\\AppData\\Local\\Temp\\ipykernel_13396\\3895716370.py:1: SettingWithCopyWarning: \n",
      "A value is trying to be set on a copy of a slice from a DataFrame.\n",
      "Try using .loc[row_indexer,col_indexer] = value instead\n",
      "\n",
      "See the caveats in the documentation: https://pandas.pydata.org/pandas-docs/stable/user_guide/indexing.html#returning-a-view-versus-a-copy\n",
      "  df_id['original_title']=df_id['title']\n"
     ]
    }
   ],
   "source": [
    "df_id['original_title']=df_id['title']"
   ]
  },
  {
   "cell_type": "code",
   "execution_count": 15,
   "metadata": {},
   "outputs": [
    {
     "data": {
      "text/plain": [
       "id                object\n",
       "title             object\n",
       "abstract          object\n",
       "n_citation         int64\n",
       "references        object\n",
       "original_title    object\n",
       "dtype: object"
      ]
     },
     "execution_count": 15,
     "metadata": {},
     "output_type": "execute_result"
    }
   ],
   "source": [
    "df_id.dtypes"
   ]
  },
  {
   "cell_type": "code",
   "execution_count": null,
   "metadata": {
    "id": "dJ3bcpOQKZrv"
   },
   "outputs": [
    {
     "data": {
      "text/html": [
       "<div>\n",
       "<style scoped>\n",
       "    .dataframe tbody tr th:only-of-type {\n",
       "        vertical-align: middle;\n",
       "    }\n",
       "\n",
       "    .dataframe tbody tr th {\n",
       "        vertical-align: top;\n",
       "    }\n",
       "\n",
       "    .dataframe thead th {\n",
       "        text-align: right;\n",
       "    }\n",
       "</style>\n",
       "<table border=\"1\" class=\"dataframe\">\n",
       "  <thead>\n",
       "    <tr style=\"text-align: right;\">\n",
       "      <th></th>\n",
       "      <th>id</th>\n",
       "      <th>title</th>\n",
       "      <th>abstract</th>\n",
       "      <th>n_citation</th>\n",
       "      <th>references</th>\n",
       "      <th>original_title</th>\n",
       "    </tr>\n",
       "  </thead>\n",
       "  <tbody>\n",
       "    <tr>\n",
       "      <th>0</th>\n",
       "      <td>00127ee2-cb05-48ce-bc49-9de556b93346</td>\n",
       "      <td>Preliminary Design of a Network Protocol Learn...</td>\n",
       "      <td>The purpose of this study is to develop a lear...</td>\n",
       "      <td>0</td>\n",
       "      <td>[51c7e02e-f5ed-431a-8cf5-f761f266d4be, 69b625b...</td>\n",
       "      <td>Preliminary Design of a Network Protocol Learn...</td>\n",
       "    </tr>\n",
       "    <tr>\n",
       "      <th>1</th>\n",
       "      <td>001c58d3-26ad-46b3-ab3a-c1e557d16821</td>\n",
       "      <td>A methodology for the physically accurate visu...</td>\n",
       "      <td>This paper describes the design and implementa...</td>\n",
       "      <td>50</td>\n",
       "      <td>[10482dd3-4642-4193-842f-85f3b70fcf65, 3133714...</td>\n",
       "      <td>A methodology for the physically accurate visu...</td>\n",
       "    </tr>\n",
       "    <tr>\n",
       "      <th>2</th>\n",
       "      <td>001c8744-73c4-4b04-9364-22d31a10dbf1</td>\n",
       "      <td>Comparison of GARCH, Neural Network and Suppor...</td>\n",
       "      <td>This article applied GARCH model instead AR or...</td>\n",
       "      <td>50</td>\n",
       "      <td>[2d84c0f2-e656-4ce7-b018-90eda1c132fe, a083a1b...</td>\n",
       "      <td>Comparison of GARCH, Neural Network and Suppor...</td>\n",
       "    </tr>\n",
       "    <tr>\n",
       "      <th>3</th>\n",
       "      <td>00a119c4-d367-4607-b3c8-b237f2971bff</td>\n",
       "      <td>Identifying Psychological Theme Words from Emo...</td>\n",
       "      <td>Recent achievements in Natural Language Proces...</td>\n",
       "      <td>0</td>\n",
       "      <td>[84d47128-58d0-4187-aa44-389fde7d5c83, e0dce69...</td>\n",
       "      <td>Identifying Psychological Theme Words from Emo...</td>\n",
       "    </tr>\n",
       "    <tr>\n",
       "      <th>4</th>\n",
       "      <td>00c85316-bddf-4bcb-93f5-097adadd73c2</td>\n",
       "      <td>Relational Abstract Interpretation of Higher O...</td>\n",
       "      <td>Most applications of the abstract interpretati...</td>\n",
       "      <td>50</td>\n",
       "      <td>[6e8a3ec3-9a99-4fac-ac4d-f8d1bf0fa208, 7bb71af...</td>\n",
       "      <td>Relational Abstract Interpretation of Higher O...</td>\n",
       "    </tr>\n",
       "    <tr>\n",
       "      <th>...</th>\n",
       "      <td>...</td>\n",
       "      <td>...</td>\n",
       "      <td>...</td>\n",
       "      <td>...</td>\n",
       "      <td>...</td>\n",
       "      <td>...</td>\n",
       "    </tr>\n",
       "    <tr>\n",
       "      <th>199995</th>\n",
       "      <td>88a30bbd-ee3f-4db1-9b3d-8cf9ba994d75</td>\n",
       "      <td>A robust classification method using combined ...</td>\n",
       "      <td>In this paper, we present a robust data classi...</td>\n",
       "      <td>0</td>\n",
       "      <td>[1bc8d22c-0918-4389-8e78-508e7927212a, 3ae9664...</td>\n",
       "      <td>A robust classification method using combined ...</td>\n",
       "    </tr>\n",
       "    <tr>\n",
       "      <th>199996</th>\n",
       "      <td>88a3ac95-387c-475b-a0df-58d2b0bfcaad</td>\n",
       "      <td>Grammar-based compression in a streaming model</td>\n",
       "      <td>We show that, given a string s of length n, wi...</td>\n",
       "      <td>10</td>\n",
       "      <td>[04d59cae-87b1-4706-9f5f-009ee3e94626, 0d09e1c...</td>\n",
       "      <td>Grammar-based compression in a streaming model</td>\n",
       "    </tr>\n",
       "    <tr>\n",
       "      <th>199997</th>\n",
       "      <td>88a3e696-8f13-4157-bd10-4b8c13fb3dea</td>\n",
       "      <td>Communication efficient statistical asynchrono...</td>\n",
       "      <td>We propose an efficient statistically secure a...</td>\n",
       "      <td>0</td>\n",
       "      <td>[3c41ea57-2818-4699-b72a-99abe3bfd4b3, 4c7dee5...</td>\n",
       "      <td>Communication efficient statistical asynchrono...</td>\n",
       "    </tr>\n",
       "    <tr>\n",
       "      <th>199998</th>\n",
       "      <td>88a44942-c6ac-45ec-ba2e-12968a76eb40</td>\n",
       "      <td>Towards Aspectual Component-Based Development ...</td>\n",
       "      <td>Increasing complexity of real-time systems, an...</td>\n",
       "      <td>50</td>\n",
       "      <td>[15565957-b18e-4b5f-b821-988e23daba78, 1e82c5d...</td>\n",
       "      <td>Towards Aspectual Component-Based Development ...</td>\n",
       "    </tr>\n",
       "    <tr>\n",
       "      <th>199999</th>\n",
       "      <td>88a4f309-dd63-4428-97bc-aefed8abff9e</td>\n",
       "      <td>On inverse kinematics and trajectory planning ...</td>\n",
       "      <td>Addresses the kinematic modelling, solutions a...</td>\n",
       "      <td>50</td>\n",
       "      <td>[695bd731-8711-4cca-b432-ad8dbb5cc923, 81e5a9a...</td>\n",
       "      <td>On inverse kinematics and trajectory planning ...</td>\n",
       "    </tr>\n",
       "  </tbody>\n",
       "</table>\n",
       "<p>200000 rows × 6 columns</p>\n",
       "</div>"
      ],
      "text/plain": [
       "                                          id  \\\n",
       "0       00127ee2-cb05-48ce-bc49-9de556b93346   \n",
       "1       001c58d3-26ad-46b3-ab3a-c1e557d16821   \n",
       "2       001c8744-73c4-4b04-9364-22d31a10dbf1   \n",
       "3       00a119c4-d367-4607-b3c8-b237f2971bff   \n",
       "4       00c85316-bddf-4bcb-93f5-097adadd73c2   \n",
       "...                                      ...   \n",
       "199995  88a30bbd-ee3f-4db1-9b3d-8cf9ba994d75   \n",
       "199996  88a3ac95-387c-475b-a0df-58d2b0bfcaad   \n",
       "199997  88a3e696-8f13-4157-bd10-4b8c13fb3dea   \n",
       "199998  88a44942-c6ac-45ec-ba2e-12968a76eb40   \n",
       "199999  88a4f309-dd63-4428-97bc-aefed8abff9e   \n",
       "\n",
       "                                                    title  \\\n",
       "0       Preliminary Design of a Network Protocol Learn...   \n",
       "1       A methodology for the physically accurate visu...   \n",
       "2       Comparison of GARCH, Neural Network and Suppor...   \n",
       "3       Identifying Psychological Theme Words from Emo...   \n",
       "4       Relational Abstract Interpretation of Higher O...   \n",
       "...                                                   ...   \n",
       "199995  A robust classification method using combined ...   \n",
       "199996     Grammar-based compression in a streaming model   \n",
       "199997  Communication efficient statistical asynchrono...   \n",
       "199998  Towards Aspectual Component-Based Development ...   \n",
       "199999  On inverse kinematics and trajectory planning ...   \n",
       "\n",
       "                                                 abstract  n_citation  \\\n",
       "0       The purpose of this study is to develop a lear...           0   \n",
       "1       This paper describes the design and implementa...          50   \n",
       "2       This article applied GARCH model instead AR or...          50   \n",
       "3       Recent achievements in Natural Language Proces...           0   \n",
       "4       Most applications of the abstract interpretati...          50   \n",
       "...                                                   ...         ...   \n",
       "199995  In this paper, we present a robust data classi...           0   \n",
       "199996  We show that, given a string s of length n, wi...          10   \n",
       "199997  We propose an efficient statistically secure a...           0   \n",
       "199998  Increasing complexity of real-time systems, an...          50   \n",
       "199999  Addresses the kinematic modelling, solutions a...          50   \n",
       "\n",
       "                                               references  \\\n",
       "0       [51c7e02e-f5ed-431a-8cf5-f761f266d4be, 69b625b...   \n",
       "1       [10482dd3-4642-4193-842f-85f3b70fcf65, 3133714...   \n",
       "2       [2d84c0f2-e656-4ce7-b018-90eda1c132fe, a083a1b...   \n",
       "3       [84d47128-58d0-4187-aa44-389fde7d5c83, e0dce69...   \n",
       "4       [6e8a3ec3-9a99-4fac-ac4d-f8d1bf0fa208, 7bb71af...   \n",
       "...                                                   ...   \n",
       "199995  [1bc8d22c-0918-4389-8e78-508e7927212a, 3ae9664...   \n",
       "199996  [04d59cae-87b1-4706-9f5f-009ee3e94626, 0d09e1c...   \n",
       "199997  [3c41ea57-2818-4699-b72a-99abe3bfd4b3, 4c7dee5...   \n",
       "199998  [15565957-b18e-4b5f-b821-988e23daba78, 1e82c5d...   \n",
       "199999  [695bd731-8711-4cca-b432-ad8dbb5cc923, 81e5a9a...   \n",
       "\n",
       "                                           original_title  \n",
       "0       Preliminary Design of a Network Protocol Learn...  \n",
       "1       A methodology for the physically accurate visu...  \n",
       "2       Comparison of GARCH, Neural Network and Suppor...  \n",
       "3       Identifying Psychological Theme Words from Emo...  \n",
       "4       Relational Abstract Interpretation of Higher O...  \n",
       "...                                                   ...  \n",
       "199995  A robust classification method using combined ...  \n",
       "199996     Grammar-based compression in a streaming model  \n",
       "199997  Communication efficient statistical asynchrono...  \n",
       "199998  Towards Aspectual Component-Based Development ...  \n",
       "199999  On inverse kinematics and trajectory planning ...  \n",
       "\n",
       "[200000 rows x 6 columns]"
      ]
     },
     "execution_count": 16,
     "metadata": {},
     "output_type": "execute_result"
    }
   ],
   "source": [
    "df_id=df_id.iloc[0:400].copy()\n",
    "df_id"
   ]
  },
  {
   "cell_type": "code",
   "execution_count": 17,
   "metadata": {
    "id": "wPPQ7jlXKZrx"
   },
   "outputs": [],
   "source": [
    "df_id1=df_id.copy()"
   ]
  },
  {
   "cell_type": "code",
   "execution_count": 18,
   "metadata": {
    "colab": {
     "base_uri": "https://localhost:8080/",
     "height": 293
    },
    "id": "0p6HIoTxKZrx",
    "outputId": "0d8059e1-ed55-4bdd-85e1-b8ac3b99e772"
   },
   "outputs": [
    {
     "data": {
      "text/html": [
       "<div>\n",
       "<style scoped>\n",
       "    .dataframe tbody tr th:only-of-type {\n",
       "        vertical-align: middle;\n",
       "    }\n",
       "\n",
       "    .dataframe tbody tr th {\n",
       "        vertical-align: top;\n",
       "    }\n",
       "\n",
       "    .dataframe thead th {\n",
       "        text-align: right;\n",
       "    }\n",
       "</style>\n",
       "<table border=\"1\" class=\"dataframe\">\n",
       "  <thead>\n",
       "    <tr style=\"text-align: right;\">\n",
       "      <th></th>\n",
       "      <th>id</th>\n",
       "      <th>title</th>\n",
       "      <th>abstract</th>\n",
       "      <th>n_citation</th>\n",
       "      <th>references</th>\n",
       "      <th>original_title</th>\n",
       "    </tr>\n",
       "  </thead>\n",
       "  <tbody>\n",
       "    <tr>\n",
       "      <th>0</th>\n",
       "      <td>00127ee2-cb05-48ce-bc49-9de556b93346</td>\n",
       "      <td>Preliminary Design of a Network Protocol Learn...</td>\n",
       "      <td>The purpose of this study is to develop a lear...</td>\n",
       "      <td>0</td>\n",
       "      <td>[51c7e02e-f5ed-431a-8cf5-f761f266d4be, 69b625b...</td>\n",
       "      <td>Preliminary Design of a Network Protocol Learn...</td>\n",
       "    </tr>\n",
       "    <tr>\n",
       "      <th>1</th>\n",
       "      <td>001c58d3-26ad-46b3-ab3a-c1e557d16821</td>\n",
       "      <td>A methodology for the physically accurate visu...</td>\n",
       "      <td>This paper describes the design and implementa...</td>\n",
       "      <td>50</td>\n",
       "      <td>[10482dd3-4642-4193-842f-85f3b70fcf65, 3133714...</td>\n",
       "      <td>A methodology for the physically accurate visu...</td>\n",
       "    </tr>\n",
       "    <tr>\n",
       "      <th>2</th>\n",
       "      <td>001c8744-73c4-4b04-9364-22d31a10dbf1</td>\n",
       "      <td>Comparison of GARCH, Neural Network and Suppor...</td>\n",
       "      <td>This article applied GARCH model instead AR or...</td>\n",
       "      <td>50</td>\n",
       "      <td>[2d84c0f2-e656-4ce7-b018-90eda1c132fe, a083a1b...</td>\n",
       "      <td>Comparison of GARCH, Neural Network and Suppor...</td>\n",
       "    </tr>\n",
       "    <tr>\n",
       "      <th>3</th>\n",
       "      <td>00a119c4-d367-4607-b3c8-b237f2971bff</td>\n",
       "      <td>Identifying Psychological Theme Words from Emo...</td>\n",
       "      <td>Recent achievements in Natural Language Proces...</td>\n",
       "      <td>0</td>\n",
       "      <td>[84d47128-58d0-4187-aa44-389fde7d5c83, e0dce69...</td>\n",
       "      <td>Identifying Psychological Theme Words from Emo...</td>\n",
       "    </tr>\n",
       "    <tr>\n",
       "      <th>4</th>\n",
       "      <td>00c85316-bddf-4bcb-93f5-097adadd73c2</td>\n",
       "      <td>Relational Abstract Interpretation of Higher O...</td>\n",
       "      <td>Most applications of the abstract interpretati...</td>\n",
       "      <td>50</td>\n",
       "      <td>[6e8a3ec3-9a99-4fac-ac4d-f8d1bf0fa208, 7bb71af...</td>\n",
       "      <td>Relational Abstract Interpretation of Higher O...</td>\n",
       "    </tr>\n",
       "  </tbody>\n",
       "</table>\n",
       "</div>"
      ],
      "text/plain": [
       "                                     id  \\\n",
       "0  00127ee2-cb05-48ce-bc49-9de556b93346   \n",
       "1  001c58d3-26ad-46b3-ab3a-c1e557d16821   \n",
       "2  001c8744-73c4-4b04-9364-22d31a10dbf1   \n",
       "3  00a119c4-d367-4607-b3c8-b237f2971bff   \n",
       "4  00c85316-bddf-4bcb-93f5-097adadd73c2   \n",
       "\n",
       "                                               title  \\\n",
       "0  Preliminary Design of a Network Protocol Learn...   \n",
       "1  A methodology for the physically accurate visu...   \n",
       "2  Comparison of GARCH, Neural Network and Suppor...   \n",
       "3  Identifying Psychological Theme Words from Emo...   \n",
       "4  Relational Abstract Interpretation of Higher O...   \n",
       "\n",
       "                                            abstract  n_citation  \\\n",
       "0  The purpose of this study is to develop a lear...           0   \n",
       "1  This paper describes the design and implementa...          50   \n",
       "2  This article applied GARCH model instead AR or...          50   \n",
       "3  Recent achievements in Natural Language Proces...           0   \n",
       "4  Most applications of the abstract interpretati...          50   \n",
       "\n",
       "                                          references  \\\n",
       "0  [51c7e02e-f5ed-431a-8cf5-f761f266d4be, 69b625b...   \n",
       "1  [10482dd3-4642-4193-842f-85f3b70fcf65, 3133714...   \n",
       "2  [2d84c0f2-e656-4ce7-b018-90eda1c132fe, a083a1b...   \n",
       "3  [84d47128-58d0-4187-aa44-389fde7d5c83, e0dce69...   \n",
       "4  [6e8a3ec3-9a99-4fac-ac4d-f8d1bf0fa208, 7bb71af...   \n",
       "\n",
       "                                      original_title  \n",
       "0  Preliminary Design of a Network Protocol Learn...  \n",
       "1  A methodology for the physically accurate visu...  \n",
       "2  Comparison of GARCH, Neural Network and Suppor...  \n",
       "3  Identifying Psychological Theme Words from Emo...  \n",
       "4  Relational Abstract Interpretation of Higher O...  "
      ]
     },
     "execution_count": 18,
     "metadata": {},
     "output_type": "execute_result"
    }
   ],
   "source": [
    "df_id.head()"
   ]
  },
  {
   "cell_type": "markdown",
   "metadata": {
    "id": "-cAJoQtVKZry"
   },
   "source": [
    "## Preprocessing Steps for Natural Language Processing (NLP)\n",
    "### Text Cleaning\n",
    "#### I. Converting to lowercase"
   ]
  },
  {
   "cell_type": "code",
   "execution_count": 19,
   "metadata": {
    "colab": {
     "base_uri": "https://localhost:8080/"
    },
    "id": "i2tA8gONKZry",
    "outputId": "9fe14336-35c6-4b78-e5d5-e6b7bca747aa"
   },
   "outputs": [
    {
     "name": "stderr",
     "output_type": "stream",
     "text": [
      "C:\\Users\\GPR-03\\AppData\\Local\\Temp\\ipykernel_13396\\461851235.py:1: FutureWarning: DataFrame.applymap has been deprecated. Use DataFrame.map instead.\n",
      "  df_id = df_id.applymap(lambda x: x.lower() if isinstance(x, str) else x)\n"
     ]
    }
   ],
   "source": [
    "df_id = df_id.applymap(lambda x: x.lower() if isinstance(x, str) else x)"
   ]
  },
  {
   "cell_type": "markdown",
   "metadata": {
    "id": "Uq-nckXzKZrz"
   },
   "source": [
    "### II. Removing URLs"
   ]
  },
  {
   "cell_type": "code",
   "execution_count": 20,
   "metadata": {
    "id": "0LozZcLUKZrz"
   },
   "outputs": [],
   "source": [
    "\n",
    "url_pattern = re.compile(r'https?://\\S+')\n",
    "\n",
    "# Define a function to remove URLs from text\n",
    "def remove_urls(text):\n",
    "    if isinstance(text, list):\n",
    "        # Join list into a single string\n",
    "        text = ' '.join(text)\n",
    "    return url_pattern.sub('', text)\n",
    "\n",
    "# Apply the function to the 'title' and 'abstract' columns and create new columns 'clean_title' and 'clean_abstract'\n",
    "df_id['title'] = df_id['title'].apply(remove_urls)\n",
    "df_id['abstract'] = df_id['abstract'].apply(remove_urls)"
   ]
  },
  {
   "cell_type": "markdown",
   "metadata": {
    "id": "Nqf5ukTaKZr0"
   },
   "source": [
    "### III. Removing remove non-word and non-whitespace characters"
   ]
  },
  {
   "cell_type": "code",
   "execution_count": 21,
   "metadata": {
    "id": "4zfyDGeiKZr0"
   },
   "outputs": [],
   "source": [
    "df_id['title'] = df_id['title'].replace(to_replace=r'[^\\w\\s\\b\\d+]', value='', regex=True)\n",
    "df_id['abstract'] = df_id['abstract'].replace(to_replace=r'[^\\w\\s\\b\\d+\\b]', value='', regex=True)"
   ]
  },
  {
   "cell_type": "markdown",
   "metadata": {
    "id": "x_-GVAByKZr1"
   },
   "source": [
    "### IV. Removing digits"
   ]
  },
  {
   "cell_type": "code",
   "execution_count": 22,
   "metadata": {
    "id": "994DLuZ1KZr2"
   },
   "outputs": [],
   "source": [
    "df_id['title'] = df_id['title'].replace(to_replace=r'\\d', value='', regex=True)\n",
    "df_id['abstract'] = df_id['abstract'].replace(to_replace=r'\\d', value='', regex=True)"
   ]
  },
  {
   "cell_type": "markdown",
   "metadata": {
    "id": "zdVhGUK_KZr3"
   },
   "source": [
    "## 2. Tokenization\n",
    "#### Tokenization is the process of breaking down large blocks of text such as paragraphs and sentences into smaller, more manageable units."
   ]
  },
  {
   "cell_type": "code",
   "execution_count": 23,
   "metadata": {
    "id": "LnH8FhHLKZr4"
   },
   "outputs": [],
   "source": [
    "df_id['title'] = df_id['title'].apply(word_tokenize)"
   ]
  },
  {
   "cell_type": "code",
   "execution_count": 24,
   "metadata": {
    "id": "BeiLWAYBKZr4"
   },
   "outputs": [],
   "source": [
    "df_id['abstract'] = df_id['abstract'].apply(word_tokenize)"
   ]
  },
  {
   "cell_type": "markdown",
   "metadata": {
    "id": "Xl5EA0ebKZr5"
   },
   "source": [
    "\n",
    "## 3. Stopword Removal\n",
    "#### Stopwords refer to the most commonly occurring words in any natural language."
   ]
  },
  {
   "cell_type": "code",
   "execution_count": 25,
   "metadata": {
    "id": "1ct0OVxcKZr5"
   },
   "outputs": [],
   "source": [
    "stop_words = set(stopwords.words('english'))\n",
    "df_id['title'] = df_id['title'].apply(lambda x: [word for word in x if word not in stop_words])\n",
    "df_id['abstract'] = df_id['abstract'].apply(lambda x: [word for word in x if word not in stop_words])"
   ]
  },
  {
   "cell_type": "markdown",
   "metadata": {
    "id": "7HG4UDUzKZr6"
   },
   "source": [
    "## 4. Stemming/Lemmatization"
   ]
  },
  {
   "cell_type": "code",
   "execution_count": 26,
   "metadata": {},
   "outputs": [
    {
     "name": "stderr",
     "output_type": "stream",
     "text": [
      "[nltk_data] Downloading package wordnet to\n",
      "[nltk_data]     C:\\Users\\GPR-03\\AppData\\Roaming\\nltk_data...\n",
      "[nltk_data]   Package wordnet is already up-to-date!\n",
      "[nltk_data] Downloading package punkt to\n",
      "[nltk_data]     C:\\Users\\GPR-03\\AppData\\Roaming\\nltk_data...\n",
      "[nltk_data]   Package punkt is already up-to-date!\n",
      "[nltk_data] Downloading package omw-1.4 to\n",
      "[nltk_data]     C:\\Users\\GPR-03\\AppData\\Roaming\\nltk_data...\n",
      "[nltk_data]   Package omw-1.4 is already up-to-date!\n"
     ]
    },
    {
     "data": {
      "text/plain": [
       "True"
      ]
     },
     "execution_count": 26,
     "metadata": {},
     "output_type": "execute_result"
    }
   ],
   "source": [
    "nltk.download('wordnet')\n",
    "nltk.download('punkt')  # Needed for word_tokenize\n",
    "nltk.download('omw-1.4')"
   ]
  },
  {
   "cell_type": "code",
   "execution_count": 27,
   "metadata": {
    "id": "8fCyWeXDKZr7"
   },
   "outputs": [],
   "source": [
    "\n",
    "# from nltk.stem import WordNetLemmatizer\n",
    "# # Initialize the lemmatizer\n",
    "# lemmatizer = WordNetLemmatizer()\n",
    "\n",
    "# # Apply lemmatization\n",
    "# df_id['title'] = df_id['title'].apply(lambda x: [lemmatizer.lemmatize(word) for word in x])\n",
    "# df_id['abstract'] = df_id['abstract'].apply(lambda x: [lemmatizer.lemmatize(word) for word in x])\n",
    "\n",
    "# # Now 'df_id['title']' and 'df_id['abstract']' have tokenized, stopword-removed, and lemmatized words\n"
   ]
  },
  {
   "cell_type": "code",
   "execution_count": 28,
   "metadata": {},
   "outputs": [],
   "source": [
    "from nltk.stem import PorterStemmer, WordNetLemmatizer\n",
    "# Initialize the Porter Stemmer\n",
    "stemmer = PorterStemmer()\n",
    "\n",
    "# Define a function to perform stemming on the 'text' column\n",
    "def stem_words(words):\n",
    "    return [stemmer.stem(word) for word in words]\n",
    "# Apply the function to the 'text' column and create a new column 'stemmed_text'\n",
    "df_id['title'] = df_id['title'].apply(stem_words)\n",
    "df_id['abstract'] = df_id['abstract'].apply(stem_words)"
   ]
  },
  {
   "cell_type": "code",
   "execution_count": 29,
   "metadata": {},
   "outputs": [],
   "source": [
    "#df_id=pd.read_csv(\"PreFile.csv\")"
   ]
  },
  {
   "cell_type": "code",
   "execution_count": 30,
   "metadata": {
    "colab": {
     "base_uri": "https://localhost:8080/",
     "height": 293
    },
    "id": "4rztwV5_KZr8",
    "outputId": "e18b6f50-0e3f-4b8b-90bb-c7d85013e2aa"
   },
   "outputs": [
    {
     "data": {
      "text/html": [
       "<div>\n",
       "<style scoped>\n",
       "    .dataframe tbody tr th:only-of-type {\n",
       "        vertical-align: middle;\n",
       "    }\n",
       "\n",
       "    .dataframe tbody tr th {\n",
       "        vertical-align: top;\n",
       "    }\n",
       "\n",
       "    .dataframe thead th {\n",
       "        text-align: right;\n",
       "    }\n",
       "</style>\n",
       "<table border=\"1\" class=\"dataframe\">\n",
       "  <thead>\n",
       "    <tr style=\"text-align: right;\">\n",
       "      <th></th>\n",
       "      <th>id</th>\n",
       "      <th>title</th>\n",
       "      <th>abstract</th>\n",
       "      <th>n_citation</th>\n",
       "      <th>references</th>\n",
       "      <th>original_title</th>\n",
       "    </tr>\n",
       "  </thead>\n",
       "  <tbody>\n",
       "    <tr>\n",
       "      <th>0</th>\n",
       "      <td>00127ee2-cb05-48ce-bc49-9de556b93346</td>\n",
       "      <td>[preliminari, design, network, protocol, learn...</td>\n",
       "      <td>[purpos, studi, develop, learn, tool, high, sc...</td>\n",
       "      <td>0</td>\n",
       "      <td>[51c7e02e-f5ed-431a-8cf5-f761f266d4be, 69b625b...</td>\n",
       "      <td>preliminary design of a network protocol learn...</td>\n",
       "    </tr>\n",
       "    <tr>\n",
       "      <th>1</th>\n",
       "      <td>001c58d3-26ad-46b3-ab3a-c1e557d16821</td>\n",
       "      <td>[methodolog, physic, accur, visualis, roman, p...</td>\n",
       "      <td>[paper, describ, design, implement, methodolog...</td>\n",
       "      <td>50</td>\n",
       "      <td>[10482dd3-4642-4193-842f-85f3b70fcf65, 3133714...</td>\n",
       "      <td>a methodology for the physically accurate visu...</td>\n",
       "    </tr>\n",
       "    <tr>\n",
       "      <th>2</th>\n",
       "      <td>001c8744-73c4-4b04-9364-22d31a10dbf1</td>\n",
       "      <td>[comparison, garch, neural, network, support, ...</td>\n",
       "      <td>[articl, appli, garch, model, instead, ar, arm...</td>\n",
       "      <td>50</td>\n",
       "      <td>[2d84c0f2-e656-4ce7-b018-90eda1c132fe, a083a1b...</td>\n",
       "      <td>comparison of garch, neural network and suppor...</td>\n",
       "    </tr>\n",
       "    <tr>\n",
       "      <th>3</th>\n",
       "      <td>00a119c4-d367-4607-b3c8-b237f2971bff</td>\n",
       "      <td>[identifi, psycholog, theme, word, emot, annot...</td>\n",
       "      <td>[recent, achiev, natur, languag, process, nlp,...</td>\n",
       "      <td>0</td>\n",
       "      <td>[84d47128-58d0-4187-aa44-389fde7d5c83, e0dce69...</td>\n",
       "      <td>identifying psychological theme words from emo...</td>\n",
       "    </tr>\n",
       "    <tr>\n",
       "      <th>4</th>\n",
       "      <td>00c85316-bddf-4bcb-93f5-097adadd73c2</td>\n",
       "      <td>[relat, abstract, interpret, higher, order, fu...</td>\n",
       "      <td>[applic, abstract, interpret, framework, foran...</td>\n",
       "      <td>50</td>\n",
       "      <td>[6e8a3ec3-9a99-4fac-ac4d-f8d1bf0fa208, 7bb71af...</td>\n",
       "      <td>relational abstract interpretation of higher o...</td>\n",
       "    </tr>\n",
       "  </tbody>\n",
       "</table>\n",
       "</div>"
      ],
      "text/plain": [
       "                                     id  \\\n",
       "0  00127ee2-cb05-48ce-bc49-9de556b93346   \n",
       "1  001c58d3-26ad-46b3-ab3a-c1e557d16821   \n",
       "2  001c8744-73c4-4b04-9364-22d31a10dbf1   \n",
       "3  00a119c4-d367-4607-b3c8-b237f2971bff   \n",
       "4  00c85316-bddf-4bcb-93f5-097adadd73c2   \n",
       "\n",
       "                                               title  \\\n",
       "0  [preliminari, design, network, protocol, learn...   \n",
       "1  [methodolog, physic, accur, visualis, roman, p...   \n",
       "2  [comparison, garch, neural, network, support, ...   \n",
       "3  [identifi, psycholog, theme, word, emot, annot...   \n",
       "4  [relat, abstract, interpret, higher, order, fu...   \n",
       "\n",
       "                                            abstract  n_citation  \\\n",
       "0  [purpos, studi, develop, learn, tool, high, sc...           0   \n",
       "1  [paper, describ, design, implement, methodolog...          50   \n",
       "2  [articl, appli, garch, model, instead, ar, arm...          50   \n",
       "3  [recent, achiev, natur, languag, process, nlp,...           0   \n",
       "4  [applic, abstract, interpret, framework, foran...          50   \n",
       "\n",
       "                                          references  \\\n",
       "0  [51c7e02e-f5ed-431a-8cf5-f761f266d4be, 69b625b...   \n",
       "1  [10482dd3-4642-4193-842f-85f3b70fcf65, 3133714...   \n",
       "2  [2d84c0f2-e656-4ce7-b018-90eda1c132fe, a083a1b...   \n",
       "3  [84d47128-58d0-4187-aa44-389fde7d5c83, e0dce69...   \n",
       "4  [6e8a3ec3-9a99-4fac-ac4d-f8d1bf0fa208, 7bb71af...   \n",
       "\n",
       "                                      original_title  \n",
       "0  preliminary design of a network protocol learn...  \n",
       "1  a methodology for the physically accurate visu...  \n",
       "2  comparison of garch, neural network and suppor...  \n",
       "3  identifying psychological theme words from emo...  \n",
       "4  relational abstract interpretation of higher o...  "
      ]
     },
     "execution_count": 30,
     "metadata": {},
     "output_type": "execute_result"
    }
   ],
   "source": [
    "df_id.head()"
   ]
  },
  {
   "cell_type": "code",
   "execution_count": 31,
   "metadata": {},
   "outputs": [
    {
     "name": "stderr",
     "output_type": "stream",
     "text": [
      "c:\\Users\\GPR-03\\AppData\\Local\\Programs\\Python\\Python39\\lib\\site-packages\\tqdm\\auto.py:21: TqdmWarning: IProgress not found. Please update jupyter and ipywidgets. See https://ipywidgets.readthedocs.io/en/stable/user_install.html\n",
      "  from .autonotebook import tqdm as notebook_tqdm\n"
     ]
    },
    {
     "name": "stdout",
     "output_type": "stream",
     "text": [
      "Using device: cpu\n",
      "Embeddings added successfully in batches.\n"
     ]
    },
    {
     "ename": "IndexError",
     "evalue": "index 0 is out of bounds for axis 0 with size 0",
     "output_type": "error",
     "traceback": [
      "\u001b[1;31m---------------------------------------------------------------------------\u001b[0m",
      "\u001b[1;31mIndexError\u001b[0m                                Traceback (most recent call last)",
      "Cell \u001b[1;32mIn[31], line 125\u001b[0m\n\u001b[0;32m    123\u001b[0m user_input \u001b[38;5;241m=\u001b[39m \u001b[38;5;124m\"\u001b[39m\u001b[38;5;124mA methodology for the physically accurate visualisation of roman polychrome statuary\u001b[39m\u001b[38;5;124m\"\u001b[39m\n\u001b[0;32m    124\u001b[0m input_paper_title \u001b[38;5;241m=\u001b[39m user_input\u001b[38;5;241m.\u001b[39mstrip()\u001b[38;5;241m.\u001b[39mlower()\n\u001b[1;32m--> 125\u001b[0m input_paper_id \u001b[38;5;241m=\u001b[39m \u001b[43mdf_id\u001b[49m\u001b[43m[\u001b[49m\u001b[43mdf_id\u001b[49m\u001b[43m[\u001b[49m\u001b[38;5;124;43m'\u001b[39;49m\u001b[38;5;124;43mtitle\u001b[39;49m\u001b[38;5;124;43m'\u001b[39;49m\u001b[43m]\u001b[49m\u001b[38;5;241;43m.\u001b[39;49m\u001b[43mstr\u001b[49m\u001b[38;5;241;43m.\u001b[39;49m\u001b[43mstrip\u001b[49m\u001b[43m(\u001b[49m\u001b[43m)\u001b[49m\u001b[38;5;241;43m.\u001b[39;49m\u001b[43mstr\u001b[49m\u001b[38;5;241;43m.\u001b[39;49m\u001b[43mlower\u001b[49m\u001b[43m(\u001b[49m\u001b[43m)\u001b[49m\u001b[43m \u001b[49m\u001b[38;5;241;43m==\u001b[39;49m\u001b[43m \u001b[49m\u001b[43minput_paper_title\u001b[49m\u001b[43m]\u001b[49m\u001b[43m[\u001b[49m\u001b[38;5;124;43m'\u001b[39;49m\u001b[38;5;124;43mid\u001b[39;49m\u001b[38;5;124;43m'\u001b[39;49m\u001b[43m]\u001b[49m\u001b[38;5;241;43m.\u001b[39;49m\u001b[43mvalues\u001b[49m\u001b[43m[\u001b[49m\u001b[38;5;241;43m0\u001b[39;49m\u001b[43m]\u001b[49m\n\u001b[0;32m    127\u001b[0m \u001b[38;5;66;03m# Top-N values to evaluate\u001b[39;00m\n\u001b[0;32m    128\u001b[0m top_n_values \u001b[38;5;241m=\u001b[39m [\u001b[38;5;241m50\u001b[39m,\u001b[38;5;241m100\u001b[39m]\n",
      "\u001b[1;31mIndexError\u001b[0m: index 0 is out of bounds for axis 0 with size 0"
     ]
    }
   ],
   "source": [
    "import torch\n",
    "import numpy as np\n",
    "import pandas as pd\n",
    "from transformers import AutoTokenizer, AutoModel\n",
    "from scipy.spatial.distance import cosine\n",
    "import chromadb\n",
    "from chromadb.config import Settings\n",
    "from sklearn.metrics import accuracy_score\n",
    "import bert_score\n",
    "import matplotlib.pyplot as plt\n",
    "\n",
    "# Check for GPU\n",
    "device = torch.device(\"cuda\" if torch.cuda.is_available() else \"cpu\")\n",
    "print(f\"Using device: {device}\")\n",
    "\n",
    "# Load the SciBERT model and tokenizer\n",
    "model_name = \"allenai/scibert_scivocab_uncased\"\n",
    "tokenizer = AutoTokenizer.from_pretrained(model_name)\n",
    "model = AutoModel.from_pretrained(model_name).to(device)  # Move model to GPU\n",
    "\n",
    "# Function to get embeddings\n",
    "def get_embeddings(text):\n",
    "    inputs = tokenizer(text, return_tensors='pt', padding=True, truncation=True, max_length=512).to(device)  # Move inputs to GPU\n",
    "    with torch.no_grad():\n",
    "        embeddings = model(**inputs).last_hidden_state.mean(dim=1)  # Compute embeddings\n",
    "    return embeddings.cpu()  # Move back to CPU for further processing\n",
    "\n",
    "# Assume `df_id` is preloaded\n",
    "df_id['title'] = df_id['title'].astype(str)\n",
    "df_id['abstract'] = df_id['abstract'].apply(lambda x: ' '.join(x) if isinstance(x, list) else str(x))\n",
    "\n",
    "df_id['combined_text'] = df_id['title'] + \" \" + df_id['abstract']\n",
    "df_id['text_embeddings'] = df_id['combined_text'].apply(lambda x: get_embeddings(x).squeeze().numpy().tolist())\n",
    "\n",
    "# Connect to Chroma and create a collection\n",
    "client = chromadb.Client(Settings())\n",
    "text_collection = client.create_collection(\"text_embeddings\")\n",
    "\n",
    "# Prepare data for adding to the Chroma collection\n",
    "ids = df_id[\"id\"].tolist()\n",
    "text_embeddings = df_id[\"text_embeddings\"].tolist()\n",
    "text_metadatas = df_id[[\"title\", \"abstract\"]].to_dict(orient=\"records\")\n",
    "\n",
    "# Function to split a list into smaller chunks\n",
    "def split_into_batches(data, batch_size):\n",
    "    for i in range(0, len(data), batch_size):\n",
    "        yield data[i:i + batch_size]\n",
    "\n",
    "# Set batch size\n",
    "batch_size = 166\n",
    "\n",
    "# Split the ids, embeddings, and metadata into smaller batches\n",
    "id_batches = list(split_into_batches(ids, batch_size))\n",
    "embedding_batches = list(split_into_batches(text_embeddings, batch_size))\n",
    "metadata_batches = list(split_into_batches(text_metadatas, batch_size))\n",
    "\n",
    "# Add each batch to the Chroma collection\n",
    "for id_batch, embedding_batch, metadata_batch in zip(id_batches, embedding_batches, metadata_batches):\n",
    "    text_collection.add(ids=id_batch, embeddings=embedding_batch, metadatas=metadata_batch)\n",
    "\n",
    "print(\"Embeddings added successfully in batches.\")\n",
    "\n",
    "# Function to compute similarity using Jaccard similarity\n",
    "def compute_jaccard_similarity(set1, set2):\n",
    "    intersection = len(set1.intersection(set2))\n",
    "    union = len(set1.union(set2))\n",
    "    return intersection / union\n",
    "\n",
    "# Function to find similar texts using Jaccard similarity\n",
    "def find_similar_texts_jaccard(user_input, input_paper_id, top_n=5):\n",
    "    user_embedding = set(user_input.split())\n",
    "    \n",
    "    similarities = []\n",
    "    for idx, row in df_id.iterrows():\n",
    "        if row['id'] != input_paper_id:  # Exclude the input paper\n",
    "            text_embedding_set = set(row['combined_text'].split())\n",
    "            sim = compute_jaccard_similarity(user_embedding, text_embedding_set)\n",
    "            similarities.append((row['id'], sim))\n",
    "    \n",
    "    # Sort by similarity and get top N results\n",
    "    similarities.sort(key=lambda x: x[1], reverse=True)\n",
    "    return similarities[:top_n]\n",
    "\n",
    "# Function for re-ranking the results\n",
    "def re_rank_results(similar_texts):\n",
    "    return similar_texts  # Placeholder for re-ranking logic if needed\n",
    "\n",
    "# Function to find and re-rank similar texts\n",
    "def find_and_rerank_similar_texts(user_input, input_paper_id, top_n=5):\n",
    "    similar_texts = find_similar_texts_jaccard(user_input, input_paper_id, top_n)\n",
    "    re_ranked_texts = re_rank_results(similar_texts)\n",
    "    return re_ranked_texts\n",
    "\n",
    "# Function to recommend papers, excluding the input paper itself\n",
    "def recommend_papers(user_input, input_paper_id, top_n=5):\n",
    "    re_ranked_texts = find_and_rerank_similar_texts(user_input, input_paper_id, top_n)\n",
    "    return re_ranked_texts\n",
    "\n",
    "# BERTScore-based function for evaluating precision, recall, F1-score\n",
    "def evaluate_bertscore(user_input, recommended_texts):\n",
    "    references = [user_input] * len(recommended_texts)  # The user input is the reference text\n",
    "    candidates = [text for _, text in recommended_texts]  # The recommended paper texts are the candidates\n",
    "    \n",
    "    P, R, F1 = bert_score.score(candidates, references, model_type=model_name, lang=\"en\", device=device, rescale_with_baseline=True)\n",
    "    \n",
    "    precision = P.mean().item()\n",
    "    recall = R.mean().item()\n",
    "    f1_score = F1.mean().item()\n",
    "    \n",
    "    return precision, recall, f1_score\n",
    "\n",
    "# Function to recommend and evaluate papers with BERTScore\n",
    "def recommend_and_evaluate(user_input, input_paper_id, top_n=5):\n",
    "    recommended_papers = recommend_papers(user_input, input_paper_id, top_n)\n",
    "    recommended_texts = [(paper_id, df_id[df_id[\"id\"] == paper_id][\"combined_text\"].values[0]) for paper_id, sim in recommended_papers]\n",
    "    \n",
    "    precision, recall, f1 = evaluate_bertscore(user_input, recommended_texts)\n",
    "    accuracy = (precision + recall) / 2  # Simple proxy for now\n",
    "    \n",
    "    return precision, recall, f1, accuracy\n",
    "\n",
    "# Example user input and input paper ID\n",
    "user_input = \"A methodology for the physically accurate visualisation of roman polychrome statuary\"\n",
    "input_paper_title = user_input.strip().lower()\n",
    "input_paper_id = df_id[df_id['title'].str.strip().str.lower() == input_paper_title]['id'].values[0]\n",
    "\n",
    "# Top-N values to evaluate\n",
    "top_n_values = [50,100]\n",
    "\n",
    "# Dictionary to store results\n",
    "results = {\n",
    "    \"Top-N\": [],\n",
    "    \"Precision\": [],\n",
    "    \"Recall\": [],\n",
    "    \"F1-Score\": [],\n",
    "    \"Accuracy\": []\n",
    "}\n",
    "\n",
    "# Run evaluations for each top-N value\n",
    "for top_n in top_n_values:\n",
    "    precision, recall, f1, accuracy = recommend_and_evaluate(user_input, input_paper_id, top_n)\n",
    "    results[\"Top-N\"].append(top_n)\n",
    "    results[\"Precision\"].append(precision)\n",
    "    results[\"Recall\"].append(recall)\n",
    "    results[\"F1-Score\"].append(f1)\n",
    "    results[\"Accuracy\"].append(accuracy)\n",
    "\n",
    "# Convert results to DataFrame\n",
    "results_df = pd.DataFrame(results)\n",
    "\n",
    "# Updated function to plot metrics for different Top-N values as bar charts\n",
    "def plot_metrics_for_top_n(results_df):\n",
    "    metrics = ['Precision', 'Recall', 'F1-Score', 'Accuracy']\n",
    "    plt.figure(figsize=(12, 8))\n",
    "    \n",
    "    bar_width = 0.18\n",
    "    index = np.arange(len(results_df['Top-N']))\n",
    "    \n",
    "    for i, metric in enumerate(metrics):\n",
    "        bars = plt.bar(index + i * (bar_width + 0.02), results_df[metric], bar_width, label=metric)\n",
    "        for bar in bars:\n",
    "            yval = bar.get_height()\n",
    "            plt.text(bar.get_x() + bar.get_width()/2.0, yval, f'{yval:.2f}', \n",
    "                     ha='center', va='bottom') \n",
    "    \n",
    "    plt.xticks(index + bar_width * (len(metrics) / 2 - 0.5) + 0.03, results_df['Top-N'])\n",
    "    plt.xlabel('Top-N')\n",
    "    plt.ylabel('Score')\n",
    "    plt.title('BERTScore Evaluation Metrics for Different Top-N Recommendations')\n",
    "    plt.legend()\n",
    "    plt.grid(True, axis='y')\n",
    "    plt.show()\n",
    "   \n",
    "# Call the updated function to plot metrics\n",
    "plot_metrics_for_top_n(results_df)\n"
   ]
  },
  {
   "cell_type": "code",
   "execution_count": 39,
   "metadata": {},
   "outputs": [
    {
     "name": "stderr",
     "output_type": "stream",
     "text": [
      "Warning: Baseline not Found for allenai/scibert_scivocab_uncased on en at c:\\Users\\GPR-03\\AppData\\Local\\Programs\\Python\\Python39\\lib\\site-packages\\bert_score\\rescale_baseline/en/allenai/scibert_scivocab_uncased.tsv\n",
      "Warning: Baseline not Found for allenai/scibert_scivocab_uncased on en at c:\\Users\\GPR-03\\AppData\\Local\\Programs\\Python\\Python39\\lib\\site-packages\\bert_score\\rescale_baseline/en/allenai/scibert_scivocab_uncased.tsv\n",
      "Warning: Baseline not Found for allenai/scibert_scivocab_uncased on en at c:\\Users\\GPR-03\\AppData\\Local\\Programs\\Python\\Python39\\lib\\site-packages\\bert_score\\rescale_baseline/en/allenai/scibert_scivocab_uncased.tsv\n",
      "Warning: Baseline not Found for allenai/scibert_scivocab_uncased on en at c:\\Users\\GPR-03\\AppData\\Local\\Programs\\Python\\Python39\\lib\\site-packages\\bert_score\\rescale_baseline/en/allenai/scibert_scivocab_uncased.tsv\n"
     ]
    },
    {
     "data": {
      "image/png": "[encoded data removed]",
      "text/plain": [
       "<Figure size 1200x800 with 1 Axes>"
      ]
     },
     "metadata": {},
     "output_type": "display_data"
    }
   ],
   "source": [
    "# Example user input and input paper ID\n",
    "user_input = \"A Question-Answering System Using Unit Estimation and Probabilistic Near-Terms IR\"\n",
    "input_paper_title = user_input.strip().lower()  # Example input paper title\n",
    "input_paper_id = df_id[df_id['original_title'].str.strip().str.lower() == input_paper_title]['id'].values[0]  # Get input paper ID based on title\n",
    "\n",
    "# Top-N values to evaluate\n",
    "top_n_values = [25, 50, 75, 100]\n",
    "\n",
    "# Dictionary to store results\n",
    "results = {\n",
    "    \"Top-N\": [],\n",
    "    \"Precision\": [],\n",
    "    \"Recall\": [],\n",
    "    \"F1-Score\": [],\n",
    "    \"Accuracy\": []\n",
    "}\n",
    "\n",
    "# Run evaluations for each top-N value\n",
    "for top_n in top_n_values:\n",
    "    precision, recall, f1, accuracy = recommend_and_evaluate(user_input, input_paper_id, top_n)\n",
    "    \n",
    "    # Store results\n",
    "    results[\"Top-N\"].append(top_n)\n",
    "    results[\"Precision\"].append(precision)\n",
    "    results[\"Recall\"].append(recall)\n",
    "    results[\"F1-Score\"].append(f1)\n",
    "    results[\"Accuracy\"].append(accuracy)\n",
    "\n",
    "# Convert results to DataFrame\n",
    "results_df = pd.DataFrame(results)\n",
    "\n",
    "# Updated function to plot metrics for different Top-N values as bar charts with values showing up to 2 decimal places\n",
    "def plot_metrics_for_top_n(results_df):\n",
    "    metrics = ['Precision', 'Recall', 'F1-Score', 'Accuracy']\n",
    "    plt.figure(figsize=(12, 8))\n",
    "    \n",
    "    # Setting reduced width for the bars to create more space between them\n",
    "    bar_width = 0.18\n",
    "    index = np.arange(len(results_df['Top-N']))\n",
    "    \n",
    "    # Adjust each metric to create slight space between the bars\n",
    "    for i, metric in enumerate(metrics):\n",
    "        bars = plt.bar(index + i * (bar_width + 0.02), results_df[metric], bar_width, label=metric)\n",
    "        \n",
    "        # Add the values on top of each bar, formatted to 2 decimal places\n",
    "        for bar in bars:\n",
    "            yval = bar.get_height()\n",
    "            plt.text(bar.get_x() + bar.get_width()/2.0, yval, f'{yval:.2f}', \n",
    "                     ha='center', va='bottom')  # Display values with 2 decimal places\n",
    "    \n",
    "    # Setting the x-ticks in the middle of the bars\n",
    "    plt.xticks(index + bar_width * (len(metrics) / 2 - 0.5) + 0.03, results_df['Top-N'])\n",
    "    \n",
    "    plt.xlabel('Top-N')\n",
    "    plt.ylabel('Score')\n",
    "    plt.title('BERTScore Evaluation Metrics for Different Top-N Recommendations')\n",
    "    plt.legend()\n",
    "    plt.grid(True, axis='y')\n",
    "    plt.show()\n",
    "\n",
    "# Call the updated function to plot metrics for different Top-N values with 2 decimal places on top of the bars\n",
    "plot_metrics_for_top_n(results_df)\n"
   ]
  },
  {
   "cell_type": "code",
   "execution_count": null,
   "metadata": {},
   "outputs": [],
   "source": []
  },
  {
   "cell_type": "code",
   "execution_count": 33,
   "metadata": {},
   "outputs": [
    {
     "name": "stderr",
     "output_type": "stream",
     "text": [
      "Warning: Baseline not Found for allenai/scibert_scivocab_uncased on en at c:\\Users\\GPR-03\\AppData\\Local\\Programs\\Python\\Python39\\lib\\site-packages\\bert_score\\rescale_baseline/en/allenai/scibert_scivocab_uncased.tsv\n",
      "Warning: Baseline not Found for allenai/scibert_scivocab_uncased on en at c:\\Users\\GPR-03\\AppData\\Local\\Programs\\Python\\Python39\\lib\\site-packages\\bert_score\\rescale_baseline/en/allenai/scibert_scivocab_uncased.tsv\n",
      "Warning: Baseline not Found for allenai/scibert_scivocab_uncased on en at c:\\Users\\GPR-03\\AppData\\Local\\Programs\\Python\\Python39\\lib\\site-packages\\bert_score\\rescale_baseline/en/allenai/scibert_scivocab_uncased.tsv\n",
      "Warning: Baseline not Found for allenai/scibert_scivocab_uncased on en at c:\\Users\\GPR-03\\AppData\\Local\\Programs\\Python\\Python39\\lib\\site-packages\\bert_score\\rescale_baseline/en/allenai/scibert_scivocab_uncased.tsv\n"
     ]
    },
    {
     "data": {
      "image/png": "[encoded data removed]",
      "text/plain": [
       "<Figure size 1200x800 with 1 Axes>"
      ]
     },
     "metadata": {},
     "output_type": "display_data"
    }
   ],
   "source": [
    "# Example user input and input paper ID\n",
    "user_input = \"Framework for quantitatively evaluating the quality requirements of software system\"\n",
    "input_paper_title = user_input.strip().lower()  # Example input paper title\n",
    "input_paper_id = df_id[df_id['original_title'].str.strip().str.lower() == input_paper_title]['id'].values[0]  # Get input paper ID based on title\n",
    "\n",
    "# Top-N values to evaluate\n",
    "top_n_values = [25, 50, 75, 100]\n",
    "\n",
    "# Dictionary to store results\n",
    "results = {\n",
    "    \"Top-N\": [],\n",
    "    \"Precision\": [],\n",
    "    \"Recall\": [],\n",
    "    \"F1-Score\": [],\n",
    "    \"Accuracy\": []\n",
    "}\n",
    "\n",
    "# Run evaluations for each top-N value\n",
    "for top_n in top_n_values:\n",
    "    precision, recall, f1, accuracy = recommend_and_evaluate(user_input, input_paper_id, top_n)\n",
    "    \n",
    "    # Store results\n",
    "    results[\"Top-N\"].append(top_n)\n",
    "    results[\"Precision\"].append(precision)\n",
    "    results[\"Recall\"].append(recall)\n",
    "    results[\"F1-Score\"].append(f1)\n",
    "    results[\"Accuracy\"].append(accuracy)\n",
    "\n",
    "# Convert results to DataFrame\n",
    "results_df = pd.DataFrame(results)\n",
    "\n",
    "# Updated function to plot metrics for different Top-N values as bar charts with values showing up to 2 decimal places\n",
    "def plot_metrics_for_top_n(results_df):\n",
    "    metrics = ['Precision', 'Recall', 'F1-Score', 'Accuracy']\n",
    "    plt.figure(figsize=(12, 8))\n",
    "    \n",
    "    # Setting reduced width for the bars to create more space between them\n",
    "    bar_width = 0.18\n",
    "    index = np.arange(len(results_df['Top-N']))\n",
    "    \n",
    "    # Adjust each metric to create slight space between the bars\n",
    "    for i, metric in enumerate(metrics):\n",
    "        bars = plt.bar(index + i * (bar_width + 0.02), results_df[metric], bar_width, label=metric)\n",
    "        \n",
    "        # Add the values on top of each bar, formatted to 2 decimal places\n",
    "        for bar in bars:\n",
    "            yval = bar.get_height()\n",
    "            plt.text(bar.get_x() + bar.get_width()/2.0, yval, f'{yval:.2f}', \n",
    "                     ha='center', va='bottom')  # Display values with 2 decimal places\n",
    "    \n",
    "    # Setting the x-ticks in the middle of the bars\n",
    "    plt.xticks(index + bar_width * (len(metrics) / 2 - 0.5) + 0.03, results_df['Top-N'])\n",
    "    \n",
    "    plt.xlabel('Top-N')\n",
    "    plt.ylabel('Score')\n",
    "    plt.title('BERTScore Evaluation Metrics for Different Top-N Recommendations')\n",
    "    plt.legend()\n",
    "    plt.grid(True, axis='y')\n",
    "    plt.show()\n",
    "\n",
    "# Call the updated function to plot metrics for different Top-N values with 2 decimal places on top of the bars\n",
    "plot_metrics_for_top_n(results_df)\n"
   ]
  },
  {
   "cell_type": "code",
   "execution_count": null,
   "metadata": {},
   "outputs": [],
   "source": []
  },
  {
   "cell_type": "code",
   "execution_count": 34,
   "metadata": {},
   "outputs": [
    {
     "name": "stderr",
     "output_type": "stream",
     "text": [
      "Warning: Baseline not Found for allenai/scibert_scivocab_uncased on en at c:\\Users\\GPR-03\\AppData\\Local\\Programs\\Python\\Python39\\lib\\site-packages\\bert_score\\rescale_baseline/en/allenai/scibert_scivocab_uncased.tsv\n",
      "Warning: Baseline not Found for allenai/scibert_scivocab_uncased on en at c:\\Users\\GPR-03\\AppData\\Local\\Programs\\Python\\Python39\\lib\\site-packages\\bert_score\\rescale_baseline/en/allenai/scibert_scivocab_uncased.tsv\n",
      "Warning: Baseline not Found for allenai/scibert_scivocab_uncased on en at c:\\Users\\GPR-03\\AppData\\Local\\Programs\\Python\\Python39\\lib\\site-packages\\bert_score\\rescale_baseline/en/allenai/scibert_scivocab_uncased.tsv\n",
      "Warning: Baseline not Found for allenai/scibert_scivocab_uncased on en at c:\\Users\\GPR-03\\AppData\\Local\\Programs\\Python\\Python39\\lib\\site-packages\\bert_score\\rescale_baseline/en/allenai/scibert_scivocab_uncased.tsv\n"
     ]
    },
    {
     "data": {
      "image/png": "[encoded data removed]",
      "text/plain": [
       "<Figure size 1200x800 with 1 Axes>"
      ]
     },
     "metadata": {},
     "output_type": "display_data"
    }
   ],
   "source": [
    "# Example user input and input paper ID\n",
    "user_input = \"Experimental Evaluation of a Process Benchmarking Tool in a Green Business Process Management Context\"\n",
    "input_paper_title = user_input.strip().lower()  # Example input paper title\n",
    "input_paper_id = df_id[df_id['original_title'].str.strip().str.lower() == input_paper_title]['id'].values[0]  # Get input paper ID based on title\n",
    "\n",
    "# Top-N values to evaluate\n",
    "top_n_values = [25, 50, 75, 100]\n",
    "\n",
    "# Dictionary to store results\n",
    "results = {\n",
    "    \"Top-N\": [],\n",
    "    \"Precision\": [],\n",
    "    \"Recall\": [],\n",
    "    \"F1-Score\": [],\n",
    "    \"Accuracy\": []\n",
    "}\n",
    "\n",
    "# Run evaluations for each top-N value\n",
    "for top_n in top_n_values:\n",
    "    precision, recall, f1, accuracy = recommend_and_evaluate(user_input, input_paper_id, top_n)\n",
    "    \n",
    "    # Store results\n",
    "    results[\"Top-N\"].append(top_n)\n",
    "    results[\"Precision\"].append(precision)\n",
    "    results[\"Recall\"].append(recall)\n",
    "    results[\"F1-Score\"].append(f1)\n",
    "    results[\"Accuracy\"].append(accuracy)\n",
    "\n",
    "# Convert results to DataFrame\n",
    "results_df = pd.DataFrame(results)\n",
    "\n",
    "# Updated function to plot metrics for different Top-N values as bar charts with values showing up to 2 decimal places\n",
    "def plot_metrics_for_top_n(results_df):\n",
    "    metrics = ['Precision', 'Recall', 'F1-Score', 'Accuracy']\n",
    "    plt.figure(figsize=(12, 8))\n",
    "    \n",
    "    # Setting reduced width for the bars to create more space between them\n",
    "    bar_width = 0.18\n",
    "    index = np.arange(len(results_df['Top-N']))\n",
    "    \n",
    "    # Adjust each metric to create slight space between the bars\n",
    "    for i, metric in enumerate(metrics):\n",
    "        bars = plt.bar(index + i * (bar_width + 0.02), results_df[metric], bar_width, label=metric)\n",
    "        \n",
    "        # Add the values on top of each bar, formatted to 2 decimal places\n",
    "        for bar in bars:\n",
    "            yval = bar.get_height()\n",
    "            plt.text(bar.get_x() + bar.get_width()/2.0, yval, f'{yval:.2f}', \n",
    "                     ha='center', va='bottom')  # Display values with 2 decimal places\n",
    "    \n",
    "    # Setting the x-ticks in the middle of the bars\n",
    "    plt.xticks(index + bar_width * (len(metrics) / 2 - 0.5) + 0.03, results_df['Top-N'])\n",
    "    \n",
    "    plt.xlabel('Top-N')\n",
    "    plt.ylabel('Score')\n",
    "    plt.title('BERTScore Evaluation Metrics for Different Top-N Recommendations')\n",
    "    plt.legend()\n",
    "    plt.grid(True, axis='y')\n",
    "    plt.show()\n",
    "\n",
    "# Call the updated function to plot metrics for different Top-N values with 2 decimal places on top of the bars\n",
    "plot_metrics_for_top_n(results_df)\n"
   ]
  },
  {
   "cell_type": "code",
   "execution_count": null,
   "metadata": {},
   "outputs": [],
   "source": []
  },
  {
   "cell_type": "code",
   "execution_count": 35,
   "metadata": {},
   "outputs": [
    {
     "name": "stderr",
     "output_type": "stream",
     "text": [
      "Warning: Baseline not Found for allenai/scibert_scivocab_uncased on en at c:\\Users\\GPR-03\\AppData\\Local\\Programs\\Python\\Python39\\lib\\site-packages\\bert_score\\rescale_baseline/en/allenai/scibert_scivocab_uncased.tsv\n",
      "Warning: Baseline not Found for allenai/scibert_scivocab_uncased on en at c:\\Users\\GPR-03\\AppData\\Local\\Programs\\Python\\Python39\\lib\\site-packages\\bert_score\\rescale_baseline/en/allenai/scibert_scivocab_uncased.tsv\n",
      "Warning: Baseline not Found for allenai/scibert_scivocab_uncased on en at c:\\Users\\GPR-03\\AppData\\Local\\Programs\\Python\\Python39\\lib\\site-packages\\bert_score\\rescale_baseline/en/allenai/scibert_scivocab_uncased.tsv\n",
      "Warning: Baseline not Found for allenai/scibert_scivocab_uncased on en at c:\\Users\\GPR-03\\AppData\\Local\\Programs\\Python\\Python39\\lib\\site-packages\\bert_score\\rescale_baseline/en/allenai/scibert_scivocab_uncased.tsv\n"
     ]
    },
    {
     "data": {
      "image/png": "[encoded data removed]",
      "text/plain": [
       "<Figure size 1200x800 with 1 Axes>"
      ]
     },
     "metadata": {},
     "output_type": "display_data"
    }
   ],
   "source": [
    "# Example user input and input paper ID\n",
    "user_input = \"The Role of Gender and Age on User Preferences in Narrative Experiences\"\n",
    "input_paper_title = user_input.strip().lower()  # Example input paper title\n",
    "input_paper_id = df_id[df_id['original_title'].str.strip().str.lower() == input_paper_title]['id'].values[0]  # Get input paper ID based on title\n",
    "\n",
    "# Top-N values to evaluate\n",
    "top_n_values = [25, 50, 75, 100]\n",
    "\n",
    "# Dictionary to store results\n",
    "results = {\n",
    "    \"Top-N\": [],\n",
    "    \"Precision\": [],\n",
    "    \"Recall\": [],\n",
    "    \"F1-Score\": [],\n",
    "    \"Accuracy\": []\n",
    "}\n",
    "\n",
    "# Run evaluations for each top-N value\n",
    "for top_n in top_n_values:\n",
    "    precision, recall, f1, accuracy = recommend_and_evaluate(user_input, input_paper_id, top_n)\n",
    "    \n",
    "    # Store results\n",
    "    results[\"Top-N\"].append(top_n)\n",
    "    results[\"Precision\"].append(precision)\n",
    "    results[\"Recall\"].append(recall)\n",
    "    results[\"F1-Score\"].append(f1)\n",
    "    results[\"Accuracy\"].append(accuracy)\n",
    "\n",
    "# Convert results to DataFrame\n",
    "results_df = pd.DataFrame(results)\n",
    "\n",
    "# Updated function to plot metrics for different Top-N values as bar charts with values showing up to 2 decimal places\n",
    "def plot_metrics_for_top_n(results_df):\n",
    "    metrics = ['Precision', 'Recall', 'F1-Score', 'Accuracy']\n",
    "    plt.figure(figsize=(12, 8))\n",
    "    \n",
    "    # Setting reduced width for the bars to create more space between them\n",
    "    bar_width = 0.18\n",
    "    index = np.arange(len(results_df['Top-N']))\n",
    "    \n",
    "    # Adjust each metric to create slight space between the bars\n",
    "    for i, metric in enumerate(metrics):\n",
    "        bars = plt.bar(index + i * (bar_width + 0.02), results_df[metric], bar_width, label=metric)\n",
    "        \n",
    "        # Add the values on top of each bar, formatted to 2 decimal places\n",
    "        for bar in bars:\n",
    "            yval = bar.get_height()\n",
    "            plt.text(bar.get_x() + bar.get_width()/2.0, yval, f'{yval:.2f}', \n",
    "                     ha='center', va='bottom')  # Display values with 2 decimal places\n",
    "    \n",
    "    # Setting the x-ticks in the middle of the bars\n",
    "    plt.xticks(index + bar_width * (len(metrics) / 2 - 0.5) + 0.03, results_df['Top-N'])\n",
    "    \n",
    "    plt.xlabel('Top-N')\n",
    "    plt.ylabel('Score')\n",
    "    plt.title('BERTScore Evaluation Metrics for Different Top-N Recommendations')\n",
    "    plt.legend()\n",
    "    plt.grid(True, axis='y')\n",
    "    plt.show()\n",
    "\n",
    "# Call the updated function to plot metrics for different Top-N values with 2 decimal places on top of the bars\n",
    "plot_metrics_for_top_n(results_df)\n"
   ]
  },
  {
   "cell_type": "code",
   "execution_count": null,
   "metadata": {},
   "outputs": [],
   "source": []
  },
  {
   "cell_type": "code",
   "execution_count": 36,
   "metadata": {},
   "outputs": [
    {
     "name": "stderr",
     "output_type": "stream",
     "text": [
      "Warning: Baseline not Found for allenai/scibert_scivocab_uncased on en at c:\\Users\\GPR-03\\AppData\\Local\\Programs\\Python\\Python39\\lib\\site-packages\\bert_score\\rescale_baseline/en/allenai/scibert_scivocab_uncased.tsv\n",
      "Warning: Baseline not Found for allenai/scibert_scivocab_uncased on en at c:\\Users\\GPR-03\\AppData\\Local\\Programs\\Python\\Python39\\lib\\site-packages\\bert_score\\rescale_baseline/en/allenai/scibert_scivocab_uncased.tsv\n",
      "Warning: Baseline not Found for allenai/scibert_scivocab_uncased on en at c:\\Users\\GPR-03\\AppData\\Local\\Programs\\Python\\Python39\\lib\\site-packages\\bert_score\\rescale_baseline/en/allenai/scibert_scivocab_uncased.tsv\n",
      "Warning: Baseline not Found for allenai/scibert_scivocab_uncased on en at c:\\Users\\GPR-03\\AppData\\Local\\Programs\\Python\\Python39\\lib\\site-packages\\bert_score\\rescale_baseline/en/allenai/scibert_scivocab_uncased.tsv\n"
     ]
    },
    {
     "data": {
      "image/png": "[encoded data removed]",
      "text/plain": [
       "<Figure size 1200x800 with 1 Axes>"
      ]
     },
     "metadata": {},
     "output_type": "display_data"
    }
   ],
   "source": [
    "# Example user input and input paper ID\n",
    "user_input = \"Optimal Feedback for Quality Source-Adaptive Schemes in Multicast Multi-layered Video Environments\"\n",
    "input_paper_title = user_input.strip().lower()  # Example input paper title\n",
    "input_paper_id = df_id[df_id['original_title'].str.strip().str.lower() == input_paper_title]['id'].values[0]  # Get input paper ID based on title\n",
    "\n",
    "# Top-N values to evaluate\n",
    "top_n_values = [25, 50, 75, 100]\n",
    "\n",
    "# Dictionary to store results\n",
    "results = {\n",
    "    \"Top-N\": [],\n",
    "    \"Precision\": [],\n",
    "    \"Recall\": [],\n",
    "    \"F1-Score\": [],\n",
    "    \"Accuracy\": []\n",
    "}\n",
    "\n",
    "# Run evaluations for each top-N value\n",
    "for top_n in top_n_values:\n",
    "    precision, recall, f1, accuracy = recommend_and_evaluate(user_input, input_paper_id, top_n)\n",
    "    \n",
    "    # Store results\n",
    "    results[\"Top-N\"].append(top_n)\n",
    "    results[\"Precision\"].append(precision)\n",
    "    results[\"Recall\"].append(recall)\n",
    "    results[\"F1-Score\"].append(f1)\n",
    "    results[\"Accuracy\"].append(accuracy)\n",
    "\n",
    "# Convert results to DataFrame\n",
    "results_df = pd.DataFrame(results)\n",
    "\n",
    "# Updated function to plot metrics for different Top-N values as bar charts with values showing up to 2 decimal places\n",
    "def plot_metrics_for_top_n(results_df):\n",
    "    metrics = ['Precision', 'Recall', 'F1-Score', 'Accuracy']\n",
    "    plt.figure(figsize=(12, 8))\n",
    "    \n",
    "    # Setting reduced width for the bars to create more space between them\n",
    "    bar_width = 0.18\n",
    "    index = np.arange(len(results_df['Top-N']))\n",
    "    \n",
    "    # Adjust each metric to create slight space between the bars\n",
    "    for i, metric in enumerate(metrics):\n",
    "        bars = plt.bar(index + i * (bar_width + 0.02), results_df[metric], bar_width, label=metric)\n",
    "        \n",
    "        # Add the values on top of each bar, formatted to 2 decimal places\n",
    "        for bar in bars:\n",
    "            yval = bar.get_height()\n",
    "            plt.text(bar.get_x() + bar.get_width()/2.0, yval, f'{yval:.2f}', \n",
    "                     ha='center', va='bottom')  # Display values with 2 decimal places\n",
    "    \n",
    "    # Setting the x-ticks in the middle of the bars\n",
    "    plt.xticks(index + bar_width * (len(metrics) / 2 - 0.5) + 0.03, results_df['Top-N'])\n",
    "    \n",
    "    plt.xlabel('Top-N')\n",
    "    plt.ylabel('Score')\n",
    "    plt.title('BERTScore Evaluation Metrics for Different Top-N Recommendations')\n",
    "    plt.legend()\n",
    "    plt.grid(True, axis='y')\n",
    "    plt.show()\n",
    "\n",
    "# Call the updated function to plot metrics for different Top-N values with 2 decimal places on top of the bars\n",
    "plot_metrics_for_top_n(results_df)\n"
   ]
  },
  {
   "cell_type": "code",
   "execution_count": 48,
   "metadata": {},
   "outputs": [
    {
     "data": {
      "image/png": "[encoded data removed]",
      "text/plain": [
       "<Figure size 800x600 with 1 Axes>"
      ]
     },
     "metadata": {},
     "output_type": "display_data"
    }
   ],
   "source": [
    "import matplotlib.pyplot as plt\n",
    "import numpy as np\n",
    "\n",
    "# Input data\n",
    "results = {\n",
    "    'Recommendations': [ 50,100],\n",
    "    'Accuracy': [\n",
    "        [0.40, 0.41, 0.42, 0.48, 0.41],\n",
    "        [0.40, 0.41, 0.42, 0.48, 0.41]\n",
    "        \n",
    "    ],\n",
    "    'Precision': [\n",
    "        [0.33, 0.34, 0.34, 0.43, 0.34],\n",
    "        [0.33, 0.32, 0.34, 0.42, 0.34]\n",
    "        \n",
    "    ],\n",
    "    'Recall': [\n",
    "        [0.46, 0.49, 0.49, 0.54, 0.48],\n",
    "        [0.47, 0.49, 0.49, 0.54, 0.49]\n",
    "        \n",
    "    ],\n",
    "    'F1_Score': [\n",
    "        [0.38, 0.40, 0.40, 0.48, 0.40],\n",
    "        [0.39, 0.39, 0.40, 0.47, 0.40]\n",
    "    ]\n",
    "}\n",
    "# Compute averages for each metric at each recommendation level and convert to percentages\n",
    "averaged_results = {metric: [np.mean(values) * 100 for values in metrics] for metric, metrics in results.items() if metric != 'Recommendations'}\n",
    "\n",
    "# Define colors and order\n",
    "metrics_order = ['Precision', 'F1_Score', 'Accuracy', 'Recall']\n",
    "colors = {'Accuracy': 'blue', 'Precision': 'orange', 'Recall': 'green', 'F1_Score': 'red'}\n",
    "\n",
    "# Plotting the bars\n",
    "fig, ax = plt.subplots(figsize=(8, 6))\n",
    "x = np.arange(len(results['Recommendations']))\n",
    "width = 0.1  # Width of each bar\n",
    "\n",
    "# Plot bars for each recommendation level\n",
    "for i, rec in enumerate(results['Recommendations']):\n",
    "    for j, metric in enumerate(metrics_order):\n",
    "        value = averaged_results[metric][i]\n",
    "        bar = ax.bar(x[i] + j * width, value, width, label=metric if i == 0 else \"\", color=colors[metric])\n",
    "\n",
    "        # Add labels above each bar\n",
    "        ax.text(x[i] + j * width, value + 1, f\"{value:.1f}%\", ha='center', fontsize=10)\n",
    "\n",
    "# Set x-axis labels and title\n",
    "ax.set_xticks(x + width * 0.05)\n",
    "ax.set_xticklabels(results['Recommendations'])\n",
    "ax.set_xlabel(\"Number of Recommendations\", fontsize=12)\n",
    "ax.set_ylabel(\"Score (%)\", fontsize=12)\n",
    "ax.set_title(\"jaccard Similarity Using LLM (scibert) With Pre-Processising(Stemming)\", fontsize=14, fontweight='bold')\n",
    "\n",
    "# Set y-axis scale from 0 to 100\n",
    "ax.set_ylim(0, 100)\n",
    "\n",
    "# Improve legend display\n",
    "ax.legend(fontsize=10, loc=\"upper left\")\n",
    "\n",
    "plt.tight_layout()\n",
    "plt.show()\n"
   ]
  },
  {
   "cell_type": "code",
   "execution_count": null,
   "metadata": {},
   "outputs": [],
   "source": []
  },
  {
   "cell_type": "code",
   "execution_count": 49,
   "metadata": {},
   "outputs": [
    {
     "data": {
      "image/png": "[encoded data removed]",
      "text/plain": [
       "<Figure size 800x600 with 1 Axes>"
      ]
     },
     "metadata": {},
     "output_type": "display_data"
    }
   ],
   "source": [
    "import matplotlib.pyplot as plt\n",
    "import numpy as np\n",
    "\n",
    "# Input data\n",
    "results = {\n",
    "    'Recommendations': [ 50,100],\n",
    "    'Accuracy': [\n",
    "        [0.46, 0.50, 0.44, 0.43, 0.42],\n",
    "        [0.46, 0.50, 0.44, 0.43, 0.42]\n",
    "        \n",
    "    ],\n",
    "    'Precision': [\n",
    "        [0.40, 0.44, 0.38, 0.36, 0.37],\n",
    "        [0.40, 0.43, 0.38, 0.36, 0.37]\n",
    "        \n",
    "    ],\n",
    "    'Recall': [\n",
    "        [0.52, 0.56, 0.50, 0.49, 0.48],\n",
    "        [0.53, 0.56, 0.50, 0.49, 0.48]\n",
    "        \n",
    "    ],\n",
    "    'F1_Score': [\n",
    "        [0.46, 0.49, 0.44, 0.42, 0.42],\n",
    "        [0.46, 0.49, 0.44, 0.42, 0.42]\n",
    "    ]\n",
    "}\n",
    "# Compute averages for each metric at each recommendation level and convert to percentages\n",
    "averaged_results = {metric: [np.mean(values) * 100 for values in metrics] for metric, metrics in results.items() if metric != 'Recommendations'}\n",
    "\n",
    "# Define colors and order\n",
    "metrics_order = ['Precision', 'F1_Score', 'Accuracy', 'Recall']\n",
    "colors = {'Accuracy': 'blue', 'Precision': 'orange', 'Recall': 'green', 'F1_Score': 'red'}\n",
    "\n",
    "# Plotting the bars\n",
    "fig, ax = plt.subplots(figsize=(8, 6))\n",
    "x = np.arange(len(results['Recommendations']))\n",
    "width = 0.1  # Width of each bar\n",
    "\n",
    "# Plot bars for each recommendation level\n",
    "for i, rec in enumerate(results['Recommendations']):\n",
    "    for j, metric in enumerate(metrics_order):\n",
    "        value = averaged_results[metric][i]\n",
    "        bar = ax.bar(x[i] + j * width, value, width, label=metric if i == 0 else \"\", color=colors[metric])\n",
    "\n",
    "        # Add labels above each bar\n",
    "        ax.text(x[i] + j * width, value + 1, f\"{value:.1f}%\", ha='center', fontsize=10)\n",
    "\n",
    "# Set x-axis labels and title\n",
    "ax.set_xticks(x + width * 0.05)\n",
    "ax.set_xticklabels(results['Recommendations'])\n",
    "ax.set_xlabel(\"Number of Recommendations\", fontsize=12)\n",
    "ax.set_ylabel(\"Score (%)\", fontsize=12)\n",
    "ax.set_title(\"jaccard Similarity Using LLM (scibert) With Pre-Processising(lemmatization)\", fontsize=14, fontweight='bold')\n",
    "\n",
    "# Set y-axis scale from 0 to 100\n",
    "ax.set_ylim(0, 100)\n",
    "\n",
    "# Improve legend display\n",
    "ax.legend(fontsize=10, loc=\"upper left\")\n",
    "\n",
    "plt.tight_layout()\n",
    "plt.show()\n"
   ]
  },
  {
   "cell_type": "code",
   "execution_count": null,
   "metadata": {},
   "outputs": [],
   "source": []
  }
 ],
 "metadata": {
  "accelerator": "TPU",
  "colab": {
   "gpuType": "V28",
   "provenance": []
  },
  "kernelspec": {
   "display_name": "Python 3",
   "name": "python3"
  },
  "language_info": {
   "codemirror_mode": {
    "name": "ipython",
    "version": 3
   },
   "file_extension": ".py",
   "mimetype": "text/x-python",
   "name": "python",
   "nbconvert_exporter": "python",
   "pygments_lexer": "ipython3",
   "version": "3.9.11"
  }
 },
 "nbformat": 4,
 "nbformat_minor": 0
}
